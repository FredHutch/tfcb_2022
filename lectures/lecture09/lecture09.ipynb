{
 "cells": [
  {
   "cell_type": "markdown",
   "metadata": {},
   "source": [
    "# Lecture 09: Practical analyses in Python (continued)"
   ]
  },
  {
   "cell_type": "markdown",
   "metadata": {},
   "source": [
    "## Biopython\n",
    "[Biopython](https://biopython.org/) is a package that has lots of useful functions for computational biology.\n",
    "\n",
    "It is very handy for things like reading in sequences in many different formats: [Bio.SeqIO](https://biopython.org/wiki/SeqIO) is your friend!\n",
    "\n",
    "(Do note that if you are analyzing truly large datasets, `Biopython` is not very fast and you may want to use something like [pysam](https://pysam.readthedocs.io/en/latest/api.html); but `Biopython` is a good starting point).\n",
    "\n",
    "### Reading in a file\n",
    "I have included the file [barcodes_R1.fastq](barcodes_R1.fastq), which has some FASTQ sequences in it.\n",
    "\n",
    "First, let's just see what the beginning of that file looks like (FASTQ format is explained in detail [here](https://en.wikipedia.org/wiki/FASTQ_format)):"
   ]
  },
  {
   "cell_type": "code",
   "execution_count": null,
   "metadata": {},
   "outputs": [],
   "source": [
    "! head -n 8 barcodes_R1.fastq"
   ]
  },
  {
   "cell_type": "markdown",
   "metadata": {},
   "source": [
    "Now let's use `Biopython` to read the FASTQ entries.\n",
    "\n",
    "First, import `Biopython.SeqIO`:"
   ]
  },
  {
   "cell_type": "code",
   "execution_count": null,
   "metadata": {},
   "outputs": [],
   "source": [
    "import re\n",
    "\n",
    "import Bio.SeqIO"
   ]
  },
  {
   "cell_type": "markdown",
   "metadata": {},
   "source": [
    "Now read in the sequencing reads:"
   ]
  },
  {
   "cell_type": "code",
   "execution_count": null,
   "metadata": {},
   "outputs": [],
   "source": [
    "seqreads = list(Bio.SeqIO.parse('barcodes_R1.fastq', format='fastq'))"
   ]
  },
  {
   "cell_type": "markdown",
   "metadata": {},
   "source": [
    "How many reads were there?"
   ]
  },
  {
   "cell_type": "code",
   "execution_count": null,
   "metadata": {},
   "outputs": [],
   "source": [
    "print(f\"Found {len(seqreads)} sequencing reads.\")"
   ]
  },
  {
   "cell_type": "markdown",
   "metadata": {},
   "source": [
    "Let's look at the first read:"
   ]
  },
  {
   "cell_type": "code",
   "execution_count": null,
   "metadata": {},
   "outputs": [],
   "source": [
    "seqreads[0]"
   ]
  },
  {
   "cell_type": "markdown",
   "metadata": {},
   "source": [
    "You can see that `BioPython` reads the sequences in as [SeqRecord](https://biopython.org/wiki/SeqRecord) objects, which have a lot of information, including the header, quality scores, etc.\n",
    "\n",
    "For our purposes, we will just convert the sequence part into a string for each sequence:"
   ]
  },
  {
   "cell_type": "code",
   "execution_count": null,
   "metadata": {},
   "outputs": [],
   "source": [
    "seqreads_str = []\n",
    "for seqrecord in seqreads:\n",
    "    seqreads_str.append(str(seqrecord.seq))"
   ]
  },
  {
   "cell_type": "markdown",
   "metadata": {},
   "source": [
    "We can also do this conversion using a [list comprehension](https://www.pythonforbeginners.com/basics/list-comprehensions-in-python)."
   ]
  },
  {
   "cell_type": "code",
   "execution_count": null,
   "metadata": {},
   "outputs": [],
   "source": [
    "seqreads_str_2 = [str(s.seq) for s in seqreads]\n"
   ]
  },
  {
   "cell_type": "code",
   "execution_count": null,
   "metadata": {},
   "outputs": [],
   "source": [
    "# make sure `seqreads_str` and `seqreads_str_2` have all identical entries\n",
    "assert len(seqreads_str) == len(seqreads_str_2)\n",
    "for i in range(len(seqreads_str)):\n",
    "    s1 = seqreads_str[i]\n",
    "    s2 = seqreads_str_2[i]\n",
    "    assert s1 == s2"
   ]
  },
  {
   "cell_type": "markdown",
   "metadata": {},
   "source": [
    "Make sure we still have the same number of sequencing reads, and look at the first one:"
   ]
  },
  {
   "cell_type": "code",
   "execution_count": null,
   "metadata": {},
   "outputs": [],
   "source": [
    "assert len(seqreads_str) == len(seqreads)\n",
    "\n",
    "seqreads_str[0]"
   ]
  },
  {
   "cell_type": "markdown",
   "metadata": {},
   "source": [
    "## A real biological analysis: parsing barcodes\n",
    "<a id='real_analysis'></a>\n",
    "The reads that we just read as `seqreads_str` come from a real sequencing run of influenza virus HA and NA genes.\n",
    "\n",
    "The sequences are as follows:\n",
    "\n",
    "    5'-[end of HA]-AGGCGGCCGC-[16 X N]-3'\n",
    "    \n",
    "or \n",
    "\n",
    "    5'-[end of NA]-AGGCGGCCGC-[16 X N]-3'\n",
    "    \n",
    "The end of NA is:\n",
    "\n",
    "    ...CACGATAGATAAATAATAGTGCACCAT\n",
    "    \n",
    "The end of HA is:\n",
    "\n",
    "    ...CCGGATTTGCATATAATGATGCACCAT\n",
    "    \n",
    "The sequencing run reads from the reverse end of the molecules, so the first thing in the sequencing reads is the reverse complement of the barcode followed by the constant sequence and the end of HA or NA."
   ]
  },
  {
   "cell_type": "markdown",
   "metadata": {},
   "source": [
    "We want to determine which reads have valid sequences, get the barcodes out of strings, figure out if the barcode matches to HA or NA, and count the barcodes.\n",
    "So this requires setting up an analysis that does the following:\n",
    "\n",
    " 1. Get the reverse complement of each read.\n",
    " 2. Determine if it matches the expected pattern for HA and NA, and if so which one.\n",
    " 3. If it matches, extract the barcode and add it to a dictionary to keep track of counts.\n",
    " 4. Determine the number and distribution of barcodes for HA and NA separately.\n",
    "\n",
    "### Group activity\n",
    "In groups, work together to write some code to do most of this but **not** distinguishing among whether the barcode matches HA or NA.\n",
    "I have created a code chunk for each step (with some parts filled in). \n",
    "Remember to run the code chunks in the correct order!\n",
    "\n",
    "For your homework, you will be asked to extend this in-class analysis to get statistics for HA and NA seperately."
   ]
  },
  {
   "cell_type": "code",
   "execution_count": null,
   "metadata": {},
   "outputs": [],
   "source": [
    "# load necessary packages\n",
    "import re\n",
    "import Bio.SeqIO"
   ]
  },
  {
   "cell_type": "markdown",
   "metadata": {},
   "source": [
    "__Step 1:__ You'll need to write two functions: (1) a function that gets the reverse complement of a DNA sequence and (2) a function that identifies a barcode with a known upstream sequence. \n",
    "I've provided the documentation for each function here.\n",
    "\n",
    "_Hint: you wrote similar functions to these on Tuesday--feel free to copy your code over and adapt it as needed_"
   ]
  },
  {
   "cell_type": "code",
   "execution_count": null,
   "metadata": {},
   "outputs": [],
   "source": [
    "def reverse_complement(seq):\n",
    "    \"\"\"Get reverse complement of a DNA sequence.\n",
    "    \n",
    "    Parameters\n",
    "    -----------\n",
    "    seq : str\n",
    "        Uppercase DNA sequence.\n",
    "        \n",
    "    Returns\n",
    "    -------\n",
    "    str\n",
    "        Reverse complement of the sequence in upper case.\n",
    "        \n",
    "    Example\n",
    "    --------\n",
    "    >>> reverse_complement('ATGCAC')\n",
    "    'GTGCAT'\n",
    "    \n",
    "    \"\"\"\n",
    "    # your code here...\n",
    "    \n",
    "    return None"
   ]
  },
  {
   "cell_type": "code",
   "execution_count": null,
   "metadata": {},
   "outputs": [],
   "source": [
    "def read_barcode(seqread, bclen, upstream='AGGCGGCCGC'):\n",
    "    \"\"\"Identify barcode with known upstream sequence.\n",
    "    \n",
    "    Parameters\n",
    "    ----------\n",
    "    seqread : str\n",
    "        Nucleotide sequence matching UPSTREAM-BARCODE read in reverse orientation.\n",
    "    bclen : int\n",
    "        Length of barcode\n",
    "    upstream: str\n",
    "        Sequence upstream of the barcode.\n",
    "        \n",
    "    Returns\n",
    "    -------\n",
    "    str or None\n",
    "        Sequence of the barcode in the forward orientation, or `None` if no match to expected barcoded sequence.\n",
    "        \n",
    "    Example\n",
    "    -------\n",
    "    >>> read_barcode('TTTTTTTTTTTTTTTTGCGGCCGCCT', bclen=16)\n",
    "    'AAAAAAAAAAAAAAAA'\n",
    "        \n",
    "    \"\"\"\n",
    "    # your code here ...\n",
    "    \n",
    "    return None"
   ]
  },
  {
   "cell_type": "markdown",
   "metadata": {},
   "source": [
    "__Step 2:__ Read sequences _(note: we already did this step earlier)_"
   ]
  },
  {
   "cell_type": "code",
   "execution_count": null,
   "metadata": {},
   "outputs": [],
   "source": [
    "# run this code chunk...\n",
    "seqreads = list(Bio.SeqIO.parse('barcodes_R1.fastq', 'fastq'))\n",
    "seqreads_str = [str(seqrecord.seq) for seqrecord in seqreads]"
   ]
  },
  {
   "cell_type": "markdown",
   "metadata": {},
   "source": [
    "__Step 3:__ Get the counts of all barcodes. _(Hint: you might want to store barcodes and counts in a dictionary, and also keep track of the number of sequences that don't have a valid barcode)_\n",
    "\n",
    "Please name your dictionary `barcode_counts`"
   ]
  },
  {
   "cell_type": "code",
   "execution_count": null,
   "metadata": {},
   "outputs": [],
   "source": [
    "# your code here ...\n"
   ]
  },
  {
   "cell_type": "markdown",
   "metadata": {},
   "source": [
    "__Step 4:__ Report the total number of sequences parsed, and how many lacked a valid barcode."
   ]
  },
  {
   "cell_type": "code",
   "execution_count": null,
   "metadata": {},
   "outputs": [],
   "source": [
    "# your code here ...\n"
   ]
  },
  {
   "cell_type": "markdown",
   "metadata": {},
   "source": [
    "### Creating a data frame with the barcode counts\n",
    "We create a [pandas DataFrame](https://pandas.pydata.org/pandas-docs/stable/reference/api/pandas.DataFrame.html) with the barcode counts.\n",
    "These data frames are a great way to represent any information that can ultimately be thought of in tabular form."
   ]
  },
  {
   "cell_type": "code",
   "execution_count": null,
   "metadata": {},
   "outputs": [],
   "source": [
    "import pandas\n",
    "\n",
    "barcode_counts_df = pandas.Series(barcode_counts).reset_index()\n",
    "\n",
    "barcode_counts_df.columns = ['barcode', 'count']\n",
    "\n",
    "barcode_counts_df"
   ]
  },
  {
   "cell_type": "markdown",
   "metadata": {},
   "source": [
    "Looking at a few entries in a data frame: the [head](https://pandas.pydata.org/pandas-docs/stable/reference/api/pandas.DataFrame.head.html) and [tail](https://pandas.pydata.org/pandas-docs/stable/reference/api/pandas.DataFrame.tail.html) commands:"
   ]
  },
  {
   "cell_type": "code",
   "execution_count": null,
   "metadata": {},
   "outputs": [],
   "source": [
    "barcode_counts_df.tail()"
   ]
  },
  {
   "cell_type": "markdown",
   "metadata": {},
   "source": [
    "Sorting a data frame: the [sort_values](https://pandas.pydata.org/pandas-docs/stable/reference/api/pandas.DataFrame.sort_values.html) command:"
   ]
  },
  {
   "cell_type": "code",
   "execution_count": null,
   "metadata": {},
   "outputs": [],
   "source": [
    "barcode_counts_df.sort_values('count', ascending=False)"
   ]
  },
  {
   "cell_type": "markdown",
   "metadata": {},
   "source": [
    "### Plotting the data frame\n",
    "Python has lots of ways to make plots:\n",
    "\n",
    " - [matplotlib](https://matplotlib.org/): The base Python plotting library, you can do almost anything with it.\n",
    " - [seaborn](https://seaborn.pydata.org/): Useful to easily make certain kinds of complex scientific plots.\n",
    " - [Altair](https://altair-viz.github.io/): Developed at University of Washington, great for making **interactive** plots.\n",
    " \n",
    "We aren't going to use any of those, but feel free to explore them on your own--instead we are going to [plot directly from pandas](https://pandas.pydata.org/pandas-docs/stable/user_guide/visualization.html)\n",
    "This is a useful strategy if you have a data frame and need a quick and simple plot."
   ]
  },
  {
   "cell_type": "code",
   "execution_count": null,
   "metadata": {},
   "outputs": [],
   "source": [
    "# use pandas built in plotting\n",
    "\n",
    "fig = barcode_counts_df.hist('count')"
   ]
  },
  {
   "cell_type": "markdown",
   "metadata": {},
   "source": [
    "### Faceting the plot\n",
    "What if we had barcode counts for several **different** categories (such as genes)?\n",
    "\n",
    "Here we do this on made up data, where we simply imagine that our same data multiplied by two is a second category.\n",
    "\n",
    "First, we now make a merged data frame with the original data and the data multiplied by two.\n",
    "Note how we do this using the [pandas.concat](https://pandas.pydata.org/pandas-docs/stable/reference/api/pandas.concat.html) function, and how we use [assign](https://pandas.pydata.org/pandas-docs/stable/reference/api/pandas.DataFrame.assign.html) to add the dummy variable to each data frame:"
   ]
  },
  {
   "cell_type": "code",
   "execution_count": null,
   "metadata": {},
   "outputs": [],
   "source": [
    "copy1 = barcode_counts_df.assign(dummy_variable='category_1')\n",
    "copy2 = barcode_counts_df.assign(dummy_variable='category_2')\n",
    "\n",
    "dummy_df = pandas.concat([copy1, copy2]).reset_index(drop=True)\n",
    "\n",
    "dummy_df"
   ]
  },
  {
   "cell_type": "markdown",
   "metadata": {},
   "source": [
    "Now facet the plot using the `by` argument:"
   ]
  },
  {
   "cell_type": "code",
   "execution_count": null,
   "metadata": {},
   "outputs": [],
   "source": [
    "fig2 = dummy_df.hist('count', by = 'dummy_variable')"
   ]
  }
 ],
 "metadata": {
  "kernelspec": {
   "display_name": "Python 3.9.12 ('base')",
   "language": "python",
   "name": "python3"
  },
  "language_info": {
   "codemirror_mode": {
    "name": "ipython",
    "version": 3
   },
   "file_extension": ".py",
   "mimetype": "text/x-python",
   "name": "python",
   "nbconvert_exporter": "python",
   "pygments_lexer": "ipython3",
   "version": "3.9.12"
  },
  "toc": {
   "nav_menu": {},
   "number_sections": false,
   "sideBar": true,
   "skip_h1_title": false,
   "toc_cell": false,
   "toc_position": {
    "height": "623.8px",
    "left": "0px",
    "right": "829.6px",
    "top": "33.2px",
    "width": "322.4px"
   },
   "toc_section_display": "block",
   "toc_window_display": true
  },
  "vscode": {
   "interpreter": {
    "hash": "d4d1e4263499bec80672ea0156c357c1ee493ec2b1c70f0acce89fc37c4a6abe"
   }
  }
 },
 "nbformat": 4,
 "nbformat_minor": 4
}
