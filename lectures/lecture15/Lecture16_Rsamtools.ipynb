{
 "cells": [
  {
   "cell_type": "markdown",
   "id": "85a3a7b8-5f01-44f4-b339-01c707f4f1f7",
   "metadata": {
    "tags": []
   },
   "source": [
    "# Loading and querying a BAM file using Rsamtools\n",
    "The BAM file is the primary input for Rsamtools. There are two initial steps:\n",
    "\n",
    "  a. Define the genomic coordinates and components to query (`ScanBamParam`)\n",
    "  b. Scan the BAM file (`scanBam`)\n",
    "\n",
    "For this tutorial, we will be using the same data and example from Lecture 15: Slides 16-24.\n",
    "The BAM file can be downloaded at https://www.dropbox.com/home/File%20requests/TFCB_tutorials\n",
    "\n",
    "For more information, refer to https://bioconductor.org/packages/release/bioc/vignettes/Rsamtools/inst/doc/Rsamtools-Overview.pdf\n",
    "\n",
    "## 0 Install and load the `Rsamtools` Bioconductor package\n",
    "Bioconductor package providing functions to interface with aligned BAM files.\n",
    "https://bioconductor.org/packages/release/bioc/html/Rsamtools.html\n"
   ]
  },
  {
   "cell_type": "code",
   "execution_count": 1,
   "id": "1b2d88b6-ab14-4a07-83ab-6d8633fa3682",
   "metadata": {},
   "outputs": [],
   "source": [
    "#Sys.unsetenv(\"DISPLAY\")\n",
    "\n",
    "suppressPackageStartupMessages({\n",
    "    #library(tidyverse)\n",
    "    library(GenomicRanges)\n",
    "    #library(plyranges)\n",
    "    #library(VariantAnnotation)\n",
    "    library(Rsamtools)\n",
    "})"
   ]
  },
  {
   "cell_type": "markdown",
   "id": "3fd6b93c-6122-407d-83d7-4f0859fbd3fa",
   "metadata": {},
   "source": [
    "## 1. Setup parameters for scanning BAM file\n",
    "### a. Specify the genomic location of interest to query in the BAM file. \n",
    "This will make use of two of the packages (`GRanges`) that we will describe in more detail later."
   ]
  },
  {
   "cell_type": "code",
   "execution_count": 2,
   "id": "277ce2a8-e8a4-442d-92d5-dbbb551dd867",
   "metadata": {},
   "outputs": [],
   "source": [
    "whichRanges <- GRanges(seqnames = \"17\",\n",
    "                       IRanges(start = 37844393, end = 37844393))"
   ]
  },
  {
   "cell_type": "markdown",
   "id": "bb03144c-50f9-4d49-b5a2-a20a4fc25276",
   "metadata": {},
   "source": [
    "### b. Specify which fields to return in the query. \n",
    "To find out the default fields to return, use `scanBamWhat()`"
   ]
  },
  {
   "cell_type": "code",
   "execution_count": 3,
   "id": "906aea88-a18c-46e5-811b-d6324ef6cf75",
   "metadata": {},
   "outputs": [],
   "source": [
    "whatFields <- scanBamWhat()"
   ]
  },
  {
   "cell_type": "markdown",
   "id": "83334839-68fe-49f4-aae9-45a50ba88430",
   "metadata": {},
   "source": [
    "### c. Specify the filters to use to include or exclude reads. \n",
    "This is an essential concept in analyzing sequence data. First, specify the status of the reads based on the `FLAG` (recall Lecture 15: Slide 22).\n",
    "For more details, use `?scanBamFlag`"
   ]
  },
  {
   "cell_type": "code",
   "execution_count": 4,
   "id": "9b8a6ac3-bb1f-4e92-b611-05539d639479",
   "metadata": {},
   "outputs": [],
   "source": [
    "flag <- scanBamFlag(isDuplicate = FALSE)  # exclude PCR duplicate reads"
   ]
  },
  {
   "cell_type": "markdown",
   "id": "a4c0c93f-f0ac-41ec-b42a-5f4028d5743c",
   "metadata": {},
   "source": [
    "Next, specify additional filters to use including `mapqFilter`, `tagFilter`. These are included in the final `scanBamParam` object instantiation, along with all the previous arguments."
   ]
  },
  {
   "cell_type": "code",
   "execution_count": 5,
   "id": "b1d76b7c-3227-4146-a106-64cfd2206d79",
   "metadata": {},
   "outputs": [
    {
     "data": {
      "text/plain": [
       "class: ScanBamParam\n",
       "bamFlag (NA unless specified): isDuplicate=FALSE\n",
       "bamSimpleCigar: FALSE\n",
       "bamReverseComplement: FALSE\n",
       "bamTag: RG \n",
       "bamTagFilter:\n",
       "bamWhich: 1 ranges\n",
       "bamWhat: qname, flag, rname, strand, pos, qwidth, mapq, cigar, mrnm,\n",
       "  mpos, isize, seq, qual, groupid, mate_status\n",
       "bamMapqFilter: 30"
      ]
     },
     "metadata": {},
     "output_type": "display_data"
    }
   ],
   "source": [
    "param <- ScanBamParam(flag = flag, which = whichRanges, what = whatFields,  \n",
    "             mapqFilter = 30, tag = c(\"RG\"))\n",
    "param"
   ]
  },
  {
   "cell_type": "markdown",
   "id": "4c8fea58-cd40-48c5-87bc-926182dd4491",
   "metadata": {},
   "source": [
    "## 2. Query the BAM file\n",
    "Using the params we just defined, we will query the BAM file `BRCA_IDC_cfDNA.bam`."
   ]
  },
  {
   "cell_type": "code",
   "execution_count": 8,
   "id": "94ed643f-2dee-45fb-8415-d1bb2d9534af",
   "metadata": {},
   "outputs": [
    {
     "data": {
      "text/html": [
       "'/fh/fast/henikoff_s/user/jgreene/projects/TFCB/data'"
      ],
      "text/latex": [
       "'/fh/fast/henikoff\\_s/user/jgreene/projects/TFCB/data'"
      ],
      "text/markdown": [
       "'/fh/fast/henikoff_s/user/jgreene/projects/TFCB/data'"
      ],
      "text/plain": [
       "[1] \"/fh/fast/henikoff_s/user/jgreene/projects/TFCB/data\""
      ]
     },
     "metadata": {},
     "output_type": "display_data"
    },
    {
     "data": {
      "text/html": [
       "'/fh/fast/henikoff_s/user/jgreene/projects/TFCB/data'"
      ],
      "text/latex": [
       "'/fh/fast/henikoff\\_s/user/jgreene/projects/TFCB/data'"
      ],
      "text/markdown": [
       "'/fh/fast/henikoff_s/user/jgreene/projects/TFCB/data'"
      ],
      "text/plain": [
       "[1] \"/fh/fast/henikoff_s/user/jgreene/projects/TFCB/data\""
      ]
     },
     "metadata": {},
     "output_type": "display_data"
    }
   ],
   "source": [
    "#old wdir\n",
    "getwd()\n",
    "\n",
    "#new wdir\n",
    "data_dir = '/fh/fast/henikoff_s/user/jgreene/projects/TFCB/data'\n",
    "setwd(data_dir)\n",
    "getwd()"
   ]
  },
  {
   "cell_type": "code",
   "execution_count": 9,
   "id": "2679e08b-219c-4282-9412-9fefc2b6918e",
   "metadata": {},
   "outputs": [
    {
     "data": {
      "text/html": [
       "<style>\n",
       ".list-inline {list-style: none; margin:0; padding: 0}\n",
       ".list-inline>li {display: inline-block}\n",
       ".list-inline>li:not(:last-child)::after {content: \"\\00b7\"; padding: 0 .5ex}\n",
       "</style>\n",
       "<ol class=list-inline><li>'BRCA_IDC_cfDNA-001.bam'</li><li>'BRCA_IDC_cfDNA.bam.bai'</li><li>'BRCA.genome_wide_snp_6_broad_Level_3_scna.seg'</li><li>'drive-download-20221115T203016Z-003.zip'</li><li>'GIAB_highconf_v.3.3.2.vcf.gz'</li><li>'GIAB_highconf_v.3.3.2.vcf.gz.tbi'</li><li>'hs37d5-002.fa'</li><li>'hs37d5.fa.gz.fai'</li></ol>\n"
      ],
      "text/latex": [
       "\\begin{enumerate*}\n",
       "\\item 'BRCA\\_IDC\\_cfDNA-001.bam'\n",
       "\\item 'BRCA\\_IDC\\_cfDNA.bam.bai'\n",
       "\\item 'BRCA.genome\\_wide\\_snp\\_6\\_broad\\_Level\\_3\\_scna.seg'\n",
       "\\item 'drive-download-20221115T203016Z-003.zip'\n",
       "\\item 'GIAB\\_highconf\\_v.3.3.2.vcf.gz'\n",
       "\\item 'GIAB\\_highconf\\_v.3.3.2.vcf.gz.tbi'\n",
       "\\item 'hs37d5-002.fa'\n",
       "\\item 'hs37d5.fa.gz.fai'\n",
       "\\end{enumerate*}\n"
      ],
      "text/markdown": [
       "1. 'BRCA_IDC_cfDNA-001.bam'\n",
       "2. 'BRCA_IDC_cfDNA.bam.bai'\n",
       "3. 'BRCA.genome_wide_snp_6_broad_Level_3_scna.seg'\n",
       "4. 'drive-download-20221115T203016Z-003.zip'\n",
       "5. 'GIAB_highconf_v.3.3.2.vcf.gz'\n",
       "6. 'GIAB_highconf_v.3.3.2.vcf.gz.tbi'\n",
       "7. 'hs37d5-002.fa'\n",
       "8. 'hs37d5.fa.gz.fai'\n",
       "\n",
       "\n"
      ],
      "text/plain": [
       "[1] \"BRCA_IDC_cfDNA-001.bam\"                       \n",
       "[2] \"BRCA_IDC_cfDNA.bam.bai\"                       \n",
       "[3] \"BRCA.genome_wide_snp_6_broad_Level_3_scna.seg\"\n",
       "[4] \"drive-download-20221115T203016Z-003.zip\"      \n",
       "[5] \"GIAB_highconf_v.3.3.2.vcf.gz\"                 \n",
       "[6] \"GIAB_highconf_v.3.3.2.vcf.gz.tbi\"             \n",
       "[7] \"hs37d5-002.fa\"                                \n",
       "[8] \"hs37d5.fa.gz.fai\"                             "
      ]
     },
     "metadata": {},
     "output_type": "display_data"
    }
   ],
   "source": [
    "list.files()"
   ]
  },
  {
   "cell_type": "code",
   "execution_count": 12,
   "id": "bd2835a8-07bc-4ed2-871c-948d45a59aa1",
   "metadata": {},
   "outputs": [],
   "source": [
    "bamFile <- \"BRCA_IDC_cfDNA.bam\"\n",
    "bam <- scanBam(bamFile, param = param)"
   ]
  },
  {
   "cell_type": "markdown",
   "id": "be5a5e76-d338-44ed-b85c-8c1d986379bb",
   "metadata": {},
   "source": [
    "This returns a `list` object with each element representing a read. For each element/read, there is another `list` with the fields in the BAM file we requested with `scanBamWhat()`. Here is a breakdown of what is in the first read.\n",
    "Refer to Lecture 15: Slides 22."
   ]
  },
  {
   "cell_type": "code",
   "execution_count": 13,
   "id": "28e0fa3d-704c-46c1-a930-fc4d838a104f",
   "metadata": {},
   "outputs": [
    {
     "data": {
      "text/html": [
       "'41976152'"
      ],
      "text/latex": [
       "'41976152'"
      ],
      "text/markdown": [
       "'41976152'"
      ],
      "text/plain": [
       "[1] \"41976152\""
      ]
     },
     "metadata": {},
     "output_type": "display_data"
    },
    {
     "data": {
      "text/html": [
       "163"
      ],
      "text/latex": [
       "163"
      ],
      "text/markdown": [
       "163"
      ],
      "text/plain": [
       "[1] 163"
      ]
     },
     "metadata": {},
     "output_type": "display_data"
    },
    {
     "data": {
      "text/html": [
       "17\n",
       "<details>\n",
       "\t<summary style=display:list-item;cursor:pointer>\n",
       "\t\t<strong>Levels</strong>:\n",
       "\t</summary>\n",
       "\t<style>\n",
       "\t.list-inline {list-style: none; margin:0; padding: 0}\n",
       "\t.list-inline>li {display: inline-block}\n",
       "\t.list-inline>li:not(:last-child)::after {content: \"\\00b7\"; padding: 0 .5ex}\n",
       "\t</style>\n",
       "\t<ol class=list-inline><li>'1'</li><li>'2'</li><li>'3'</li><li>'4'</li><li>'5'</li><li>'6'</li><li>'7'</li><li>'8'</li><li>'9'</li><li>'10'</li><li>'11'</li><li>'12'</li><li>'13'</li><li>'14'</li><li>'15'</li><li>'16'</li><li>'17'</li><li>'18'</li><li>'19'</li><li>'20'</li><li>'21'</li><li>'22'</li><li>'X'</li><li>'Y'</li><li>'MT'</li><li>'GL000207.1'</li><li>'GL000226.1'</li><li>'GL000229.1'</li><li>'GL000231.1'</li><li>'GL000210.1'</li><li>'GL000239.1'</li><li>'GL000235.1'</li><li>'GL000201.1'</li><li>'GL000247.1'</li><li>'GL000245.1'</li><li>'GL000197.1'</li><li>'GL000203.1'</li><li>'GL000246.1'</li><li>'GL000249.1'</li><li>'GL000196.1'</li><li>'GL000248.1'</li><li>'GL000244.1'</li><li>'GL000238.1'</li><li>'GL000202.1'</li><li>'GL000234.1'</li><li>'GL000232.1'</li><li>'GL000206.1'</li><li>'GL000240.1'</li><li>'GL000236.1'</li><li>'GL000241.1'</li><li>'GL000243.1'</li><li>'GL000242.1'</li><li>'GL000230.1'</li><li>'GL000237.1'</li><li>'GL000233.1'</li><li>'GL000204.1'</li><li>'GL000198.1'</li><li>'GL000208.1'</li><li>'GL000191.1'</li><li>'GL000227.1'</li><li>'GL000228.1'</li><li>'GL000214.1'</li><li>'GL000221.1'</li><li>'GL000209.1'</li><li>'GL000218.1'</li><li>'GL000220.1'</li><li>'GL000213.1'</li><li>'GL000211.1'</li><li>'GL000199.1'</li><li>'GL000217.1'</li><li>'GL000216.1'</li><li>'GL000215.1'</li><li>'GL000205.1'</li><li>'GL000219.1'</li><li>'GL000224.1'</li><li>'GL000223.1'</li><li>'GL000195.1'</li><li>'GL000212.1'</li><li>'GL000222.1'</li><li>'GL000200.1'</li><li>'GL000193.1'</li><li>'GL000194.1'</li><li>'GL000225.1'</li><li>'GL000192.1'</li><li>'NC_007605'</li><li>'hs37d5'</li></ol>\n",
       "</details>"
      ],
      "text/latex": [
       "17\n",
       "\\emph{Levels}: \\begin{enumerate*}\n",
       "\\item '1'\n",
       "\\item '2'\n",
       "\\item '3'\n",
       "\\item '4'\n",
       "\\item '5'\n",
       "\\item '6'\n",
       "\\item '7'\n",
       "\\item '8'\n",
       "\\item '9'\n",
       "\\item '10'\n",
       "\\item '11'\n",
       "\\item '12'\n",
       "\\item '13'\n",
       "\\item '14'\n",
       "\\item '15'\n",
       "\\item '16'\n",
       "\\item '17'\n",
       "\\item '18'\n",
       "\\item '19'\n",
       "\\item '20'\n",
       "\\item '21'\n",
       "\\item '22'\n",
       "\\item 'X'\n",
       "\\item 'Y'\n",
       "\\item 'MT'\n",
       "\\item 'GL000207.1'\n",
       "\\item 'GL000226.1'\n",
       "\\item 'GL000229.1'\n",
       "\\item 'GL000231.1'\n",
       "\\item 'GL000210.1'\n",
       "\\item 'GL000239.1'\n",
       "\\item 'GL000235.1'\n",
       "\\item 'GL000201.1'\n",
       "\\item 'GL000247.1'\n",
       "\\item 'GL000245.1'\n",
       "\\item 'GL000197.1'\n",
       "\\item 'GL000203.1'\n",
       "\\item 'GL000246.1'\n",
       "\\item 'GL000249.1'\n",
       "\\item 'GL000196.1'\n",
       "\\item 'GL000248.1'\n",
       "\\item 'GL000244.1'\n",
       "\\item 'GL000238.1'\n",
       "\\item 'GL000202.1'\n",
       "\\item 'GL000234.1'\n",
       "\\item 'GL000232.1'\n",
       "\\item 'GL000206.1'\n",
       "\\item 'GL000240.1'\n",
       "\\item 'GL000236.1'\n",
       "\\item 'GL000241.1'\n",
       "\\item 'GL000243.1'\n",
       "\\item 'GL000242.1'\n",
       "\\item 'GL000230.1'\n",
       "\\item 'GL000237.1'\n",
       "\\item 'GL000233.1'\n",
       "\\item 'GL000204.1'\n",
       "\\item 'GL000198.1'\n",
       "\\item 'GL000208.1'\n",
       "\\item 'GL000191.1'\n",
       "\\item 'GL000227.1'\n",
       "\\item 'GL000228.1'\n",
       "\\item 'GL000214.1'\n",
       "\\item 'GL000221.1'\n",
       "\\item 'GL000209.1'\n",
       "\\item 'GL000218.1'\n",
       "\\item 'GL000220.1'\n",
       "\\item 'GL000213.1'\n",
       "\\item 'GL000211.1'\n",
       "\\item 'GL000199.1'\n",
       "\\item 'GL000217.1'\n",
       "\\item 'GL000216.1'\n",
       "\\item 'GL000215.1'\n",
       "\\item 'GL000205.1'\n",
       "\\item 'GL000219.1'\n",
       "\\item 'GL000224.1'\n",
       "\\item 'GL000223.1'\n",
       "\\item 'GL000195.1'\n",
       "\\item 'GL000212.1'\n",
       "\\item 'GL000222.1'\n",
       "\\item 'GL000200.1'\n",
       "\\item 'GL000193.1'\n",
       "\\item 'GL000194.1'\n",
       "\\item 'GL000225.1'\n",
       "\\item 'GL000192.1'\n",
       "\\item 'NC\\_007605'\n",
       "\\item 'hs37d5'\n",
       "\\end{enumerate*}\n"
      ],
      "text/markdown": [
       "17\n",
       "**Levels**: 1. '1'\n",
       "2. '2'\n",
       "3. '3'\n",
       "4. '4'\n",
       "5. '5'\n",
       "6. '6'\n",
       "7. '7'\n",
       "8. '8'\n",
       "9. '9'\n",
       "10. '10'\n",
       "11. '11'\n",
       "12. '12'\n",
       "13. '13'\n",
       "14. '14'\n",
       "15. '15'\n",
       "16. '16'\n",
       "17. '17'\n",
       "18. '18'\n",
       "19. '19'\n",
       "20. '20'\n",
       "21. '21'\n",
       "22. '22'\n",
       "23. 'X'\n",
       "24. 'Y'\n",
       "25. 'MT'\n",
       "26. 'GL000207.1'\n",
       "27. 'GL000226.1'\n",
       "28. 'GL000229.1'\n",
       "29. 'GL000231.1'\n",
       "30. 'GL000210.1'\n",
       "31. 'GL000239.1'\n",
       "32. 'GL000235.1'\n",
       "33. 'GL000201.1'\n",
       "34. 'GL000247.1'\n",
       "35. 'GL000245.1'\n",
       "36. 'GL000197.1'\n",
       "37. 'GL000203.1'\n",
       "38. 'GL000246.1'\n",
       "39. 'GL000249.1'\n",
       "40. 'GL000196.1'\n",
       "41. 'GL000248.1'\n",
       "42. 'GL000244.1'\n",
       "43. 'GL000238.1'\n",
       "44. 'GL000202.1'\n",
       "45. 'GL000234.1'\n",
       "46. 'GL000232.1'\n",
       "47. 'GL000206.1'\n",
       "48. 'GL000240.1'\n",
       "49. 'GL000236.1'\n",
       "50. 'GL000241.1'\n",
       "51. 'GL000243.1'\n",
       "52. 'GL000242.1'\n",
       "53. 'GL000230.1'\n",
       "54. 'GL000237.1'\n",
       "55. 'GL000233.1'\n",
       "56. 'GL000204.1'\n",
       "57. 'GL000198.1'\n",
       "58. 'GL000208.1'\n",
       "59. 'GL000191.1'\n",
       "60. 'GL000227.1'\n",
       "61. 'GL000228.1'\n",
       "62. 'GL000214.1'\n",
       "63. 'GL000221.1'\n",
       "64. 'GL000209.1'\n",
       "65. 'GL000218.1'\n",
       "66. 'GL000220.1'\n",
       "67. 'GL000213.1'\n",
       "68. 'GL000211.1'\n",
       "69. 'GL000199.1'\n",
       "70. 'GL000217.1'\n",
       "71. 'GL000216.1'\n",
       "72. 'GL000215.1'\n",
       "73. 'GL000205.1'\n",
       "74. 'GL000219.1'\n",
       "75. 'GL000224.1'\n",
       "76. 'GL000223.1'\n",
       "77. 'GL000195.1'\n",
       "78. 'GL000212.1'\n",
       "79. 'GL000222.1'\n",
       "80. 'GL000200.1'\n",
       "81. 'GL000193.1'\n",
       "82. 'GL000194.1'\n",
       "83. 'GL000225.1'\n",
       "84. 'GL000192.1'\n",
       "85. 'NC_007605'\n",
       "86. 'hs37d5'\n",
       "\n",
       "\n"
      ],
      "text/plain": [
       "[1] 17\n",
       "86 Levels: 1 2 3 4 5 6 7 8 9 10 11 12 13 14 15 16 17 18 19 20 21 22 X Y ... hs37d5"
      ]
     },
     "metadata": {},
     "output_type": "display_data"
    },
    {
     "data": {
      "text/html": [
       "37844359"
      ],
      "text/latex": [
       "37844359"
      ],
      "text/markdown": [
       "37844359"
      ],
      "text/plain": [
       "[1] 37844359"
      ]
     },
     "metadata": {},
     "output_type": "display_data"
    },
    {
     "data": {
      "text/html": [
       "60"
      ],
      "text/latex": [
       "60"
      ],
      "text/markdown": [
       "60"
      ],
      "text/plain": [
       "[1] 60"
      ]
     },
     "metadata": {},
     "output_type": "display_data"
    },
    {
     "data": {
      "text/html": [
       "'39M'"
      ],
      "text/latex": [
       "'39M'"
      ],
      "text/markdown": [
       "'39M'"
      ],
      "text/plain": [
       "[1] \"39M\""
      ]
     },
     "metadata": {},
     "output_type": "display_data"
    },
    {
     "data": {
      "text/html": [
       "17\n",
       "<details>\n",
       "\t<summary style=display:list-item;cursor:pointer>\n",
       "\t\t<strong>Levels</strong>:\n",
       "\t</summary>\n",
       "\t<style>\n",
       "\t.list-inline {list-style: none; margin:0; padding: 0}\n",
       "\t.list-inline>li {display: inline-block}\n",
       "\t.list-inline>li:not(:last-child)::after {content: \"\\00b7\"; padding: 0 .5ex}\n",
       "\t</style>\n",
       "\t<ol class=list-inline><li>'1'</li><li>'2'</li><li>'3'</li><li>'4'</li><li>'5'</li><li>'6'</li><li>'7'</li><li>'8'</li><li>'9'</li><li>'10'</li><li>'11'</li><li>'12'</li><li>'13'</li><li>'14'</li><li>'15'</li><li>'16'</li><li>'17'</li><li>'18'</li><li>'19'</li><li>'20'</li><li>'21'</li><li>'22'</li><li>'X'</li><li>'Y'</li><li>'MT'</li><li>'GL000207.1'</li><li>'GL000226.1'</li><li>'GL000229.1'</li><li>'GL000231.1'</li><li>'GL000210.1'</li><li>'GL000239.1'</li><li>'GL000235.1'</li><li>'GL000201.1'</li><li>'GL000247.1'</li><li>'GL000245.1'</li><li>'GL000197.1'</li><li>'GL000203.1'</li><li>'GL000246.1'</li><li>'GL000249.1'</li><li>'GL000196.1'</li><li>'GL000248.1'</li><li>'GL000244.1'</li><li>'GL000238.1'</li><li>'GL000202.1'</li><li>'GL000234.1'</li><li>'GL000232.1'</li><li>'GL000206.1'</li><li>'GL000240.1'</li><li>'GL000236.1'</li><li>'GL000241.1'</li><li>'GL000243.1'</li><li>'GL000242.1'</li><li>'GL000230.1'</li><li>'GL000237.1'</li><li>'GL000233.1'</li><li>'GL000204.1'</li><li>'GL000198.1'</li><li>'GL000208.1'</li><li>'GL000191.1'</li><li>'GL000227.1'</li><li>'GL000228.1'</li><li>'GL000214.1'</li><li>'GL000221.1'</li><li>'GL000209.1'</li><li>'GL000218.1'</li><li>'GL000220.1'</li><li>'GL000213.1'</li><li>'GL000211.1'</li><li>'GL000199.1'</li><li>'GL000217.1'</li><li>'GL000216.1'</li><li>'GL000215.1'</li><li>'GL000205.1'</li><li>'GL000219.1'</li><li>'GL000224.1'</li><li>'GL000223.1'</li><li>'GL000195.1'</li><li>'GL000212.1'</li><li>'GL000222.1'</li><li>'GL000200.1'</li><li>'GL000193.1'</li><li>'GL000194.1'</li><li>'GL000225.1'</li><li>'GL000192.1'</li><li>'NC_007605'</li><li>'hs37d5'</li></ol>\n",
       "</details>"
      ],
      "text/latex": [
       "17\n",
       "\\emph{Levels}: \\begin{enumerate*}\n",
       "\\item '1'\n",
       "\\item '2'\n",
       "\\item '3'\n",
       "\\item '4'\n",
       "\\item '5'\n",
       "\\item '6'\n",
       "\\item '7'\n",
       "\\item '8'\n",
       "\\item '9'\n",
       "\\item '10'\n",
       "\\item '11'\n",
       "\\item '12'\n",
       "\\item '13'\n",
       "\\item '14'\n",
       "\\item '15'\n",
       "\\item '16'\n",
       "\\item '17'\n",
       "\\item '18'\n",
       "\\item '19'\n",
       "\\item '20'\n",
       "\\item '21'\n",
       "\\item '22'\n",
       "\\item 'X'\n",
       "\\item 'Y'\n",
       "\\item 'MT'\n",
       "\\item 'GL000207.1'\n",
       "\\item 'GL000226.1'\n",
       "\\item 'GL000229.1'\n",
       "\\item 'GL000231.1'\n",
       "\\item 'GL000210.1'\n",
       "\\item 'GL000239.1'\n",
       "\\item 'GL000235.1'\n",
       "\\item 'GL000201.1'\n",
       "\\item 'GL000247.1'\n",
       "\\item 'GL000245.1'\n",
       "\\item 'GL000197.1'\n",
       "\\item 'GL000203.1'\n",
       "\\item 'GL000246.1'\n",
       "\\item 'GL000249.1'\n",
       "\\item 'GL000196.1'\n",
       "\\item 'GL000248.1'\n",
       "\\item 'GL000244.1'\n",
       "\\item 'GL000238.1'\n",
       "\\item 'GL000202.1'\n",
       "\\item 'GL000234.1'\n",
       "\\item 'GL000232.1'\n",
       "\\item 'GL000206.1'\n",
       "\\item 'GL000240.1'\n",
       "\\item 'GL000236.1'\n",
       "\\item 'GL000241.1'\n",
       "\\item 'GL000243.1'\n",
       "\\item 'GL000242.1'\n",
       "\\item 'GL000230.1'\n",
       "\\item 'GL000237.1'\n",
       "\\item 'GL000233.1'\n",
       "\\item 'GL000204.1'\n",
       "\\item 'GL000198.1'\n",
       "\\item 'GL000208.1'\n",
       "\\item 'GL000191.1'\n",
       "\\item 'GL000227.1'\n",
       "\\item 'GL000228.1'\n",
       "\\item 'GL000214.1'\n",
       "\\item 'GL000221.1'\n",
       "\\item 'GL000209.1'\n",
       "\\item 'GL000218.1'\n",
       "\\item 'GL000220.1'\n",
       "\\item 'GL000213.1'\n",
       "\\item 'GL000211.1'\n",
       "\\item 'GL000199.1'\n",
       "\\item 'GL000217.1'\n",
       "\\item 'GL000216.1'\n",
       "\\item 'GL000215.1'\n",
       "\\item 'GL000205.1'\n",
       "\\item 'GL000219.1'\n",
       "\\item 'GL000224.1'\n",
       "\\item 'GL000223.1'\n",
       "\\item 'GL000195.1'\n",
       "\\item 'GL000212.1'\n",
       "\\item 'GL000222.1'\n",
       "\\item 'GL000200.1'\n",
       "\\item 'GL000193.1'\n",
       "\\item 'GL000194.1'\n",
       "\\item 'GL000225.1'\n",
       "\\item 'GL000192.1'\n",
       "\\item 'NC\\_007605'\n",
       "\\item 'hs37d5'\n",
       "\\end{enumerate*}\n"
      ],
      "text/markdown": [
       "17\n",
       "**Levels**: 1. '1'\n",
       "2. '2'\n",
       "3. '3'\n",
       "4. '4'\n",
       "5. '5'\n",
       "6. '6'\n",
       "7. '7'\n",
       "8. '8'\n",
       "9. '9'\n",
       "10. '10'\n",
       "11. '11'\n",
       "12. '12'\n",
       "13. '13'\n",
       "14. '14'\n",
       "15. '15'\n",
       "16. '16'\n",
       "17. '17'\n",
       "18. '18'\n",
       "19. '19'\n",
       "20. '20'\n",
       "21. '21'\n",
       "22. '22'\n",
       "23. 'X'\n",
       "24. 'Y'\n",
       "25. 'MT'\n",
       "26. 'GL000207.1'\n",
       "27. 'GL000226.1'\n",
       "28. 'GL000229.1'\n",
       "29. 'GL000231.1'\n",
       "30. 'GL000210.1'\n",
       "31. 'GL000239.1'\n",
       "32. 'GL000235.1'\n",
       "33. 'GL000201.1'\n",
       "34. 'GL000247.1'\n",
       "35. 'GL000245.1'\n",
       "36. 'GL000197.1'\n",
       "37. 'GL000203.1'\n",
       "38. 'GL000246.1'\n",
       "39. 'GL000249.1'\n",
       "40. 'GL000196.1'\n",
       "41. 'GL000248.1'\n",
       "42. 'GL000244.1'\n",
       "43. 'GL000238.1'\n",
       "44. 'GL000202.1'\n",
       "45. 'GL000234.1'\n",
       "46. 'GL000232.1'\n",
       "47. 'GL000206.1'\n",
       "48. 'GL000240.1'\n",
       "49. 'GL000236.1'\n",
       "50. 'GL000241.1'\n",
       "51. 'GL000243.1'\n",
       "52. 'GL000242.1'\n",
       "53. 'GL000230.1'\n",
       "54. 'GL000237.1'\n",
       "55. 'GL000233.1'\n",
       "56. 'GL000204.1'\n",
       "57. 'GL000198.1'\n",
       "58. 'GL000208.1'\n",
       "59. 'GL000191.1'\n",
       "60. 'GL000227.1'\n",
       "61. 'GL000228.1'\n",
       "62. 'GL000214.1'\n",
       "63. 'GL000221.1'\n",
       "64. 'GL000209.1'\n",
       "65. 'GL000218.1'\n",
       "66. 'GL000220.1'\n",
       "67. 'GL000213.1'\n",
       "68. 'GL000211.1'\n",
       "69. 'GL000199.1'\n",
       "70. 'GL000217.1'\n",
       "71. 'GL000216.1'\n",
       "72. 'GL000215.1'\n",
       "73. 'GL000205.1'\n",
       "74. 'GL000219.1'\n",
       "75. 'GL000224.1'\n",
       "76. 'GL000223.1'\n",
       "77. 'GL000195.1'\n",
       "78. 'GL000212.1'\n",
       "79. 'GL000222.1'\n",
       "80. 'GL000200.1'\n",
       "81. 'GL000193.1'\n",
       "82. 'GL000194.1'\n",
       "83. 'GL000225.1'\n",
       "84. 'GL000192.1'\n",
       "85. 'NC_007605'\n",
       "86. 'hs37d5'\n",
       "\n",
       "\n"
      ],
      "text/plain": [
       "[1] 17\n",
       "86 Levels: 1 2 3 4 5 6 7 8 9 10 11 12 13 14 15 16 17 18 19 20 21 22 X Y ... hs37d5"
      ]
     },
     "metadata": {},
     "output_type": "display_data"
    },
    {
     "data": {
      "text/html": [
       "37844477"
      ],
      "text/latex": [
       "37844477"
      ],
      "text/markdown": [
       "37844477"
      ],
      "text/plain": [
       "[1] 37844477"
      ]
     },
     "metadata": {},
     "output_type": "display_data"
    },
    {
     "data": {
      "text/html": [
       "157"
      ],
      "text/latex": [
       "157"
      ],
      "text/markdown": [
       "157"
      ],
      "text/plain": [
       "[1] 157"
      ]
     },
     "metadata": {},
     "output_type": "display_data"
    },
    {
     "data": {
      "text/html": [
       "'ACTCTCCGCTGAAGTCCACACAGTTTAAATTAAAGTTCC'"
      ],
      "text/latex": [
       "'ACTCTCCGCTGAAGTCCACACAGTTTAAATTAAAGTTCC'"
      ],
      "text/markdown": [
       "'ACTCTCCGCTGAAGTCCACACAGTTTAAATTAAAGTTCC'"
      ],
      "text/plain": [
       "[1] \"ACTCTCCGCTGAAGTCCACACAGTTTAAATTAAAGTTCC\""
      ]
     },
     "metadata": {},
     "output_type": "display_data"
    },
    {
     "data": {
      "text/html": [
       "'.AAAAFFFFFFFFFFFF)FAFFFFFFFFFFFFFFFFFFF'"
      ],
      "text/latex": [
       "'.AAAAFFFFFFFFFFFF)FAFFFFFFFFFFFFFFFFFFF'"
      ],
      "text/markdown": [
       "'.AAAAFFFFFFFFFFFF)FAFFFFFFFFFFFFFFFFFFF'"
      ],
      "text/plain": [
       "[1] \".AAAAFFFFFFFFFFFF)FAFFFFFFFFFFFFFFFFFFF\""
      ]
     },
     "metadata": {},
     "output_type": "display_data"
    },
    {
     "data": {
      "text/html": [
       "<strong>$RG</strong> = 'P12.17.7_Breast'"
      ],
      "text/latex": [
       "\\textbf{\\$RG} = 'P12.17.7\\_Breast'"
      ],
      "text/markdown": [
       "**$RG** = 'P12.17.7_Breast'"
      ],
      "text/plain": [
       "$RG\n",
       "[1] \"P12.17.7_Breast\"\n"
      ]
     },
     "metadata": {},
     "output_type": "display_data"
    }
   ],
   "source": [
    "bam[[1]]$qname # reqd query name\n",
    "bam[[1]]$flag  # bitwise flag describing the read alignment\n",
    "bam[[1]]$rname # reference sequence name\n",
    "bam[[1]]$pos   # position of aligned read (leftmost coordinate)\n",
    "bam[[1]]$mapq  # mapping quality of the read alignment\n",
    "bam[[1]]$cigar # CIGAR string\n",
    "bam[[1]]$mrnm  # mate read's reference sequence name\n",
    "bam[[1]]$mpos  # mate read's aligned position\n",
    "bam[[1]]$isize # insert size or templent length; aka fragment size\n",
    "as.character(bam[[1]]$seq)   # sequence of mapped reads on forward strand\n",
    "as.character(bam[[1]]$qual)  # base qualities of the sequence aligment\n",
    "bam[[1]]$tag   # value for the tag we specified"
   ]
  },
  {
   "cell_type": "markdown",
   "id": "64985321-5fcb-4128-b221-207a28569ff6",
   "metadata": {},
   "source": [
    "## Exercise 2: Extract sequence data information\n",
    "### a. Create a range for `11:69462758-69462758`."
   ]
  },
  {
   "cell_type": "code",
   "execution_count": 14,
   "id": "6dae99dd-cbf9-4f0b-971a-bc06c9b6aee1",
   "metadata": {},
   "outputs": [],
   "source": [
    "# GRanges()"
   ]
  },
  {
   "cell_type": "markdown",
   "id": "7e881a50-2641-4bee-bd1a-b3b7232a5294",
   "metadata": {},
   "source": [
    "### b. Specify the BAM query parameters."
   ]
  },
  {
   "cell_type": "code",
   "execution_count": 15,
   "id": "3ac1f26d-ecf7-4a8d-b449-7860635d16c8",
   "metadata": {},
   "outputs": [],
   "source": [
    "# scanBamWhat()\n",
    "# scanBamFlag()\n",
    "# ScanBamParam()"
   ]
  },
  {
   "cell_type": "markdown",
   "id": "12016877-53a6-4898-878c-0f5b73c6022d",
   "metadata": {},
   "source": [
    "### c. What is the sequence of the read at `11:69462758-69462758`?"
   ]
  },
  {
   "cell_type": "code",
   "execution_count": 16,
   "id": "724a7ca5-1008-40f0-8c7e-bf2b3a1d79fd",
   "metadata": {},
   "outputs": [],
   "source": [
    "# scanBam()"
   ]
  },
  {
   "cell_type": "markdown",
   "id": "b67ff172-1d33-4acc-8c91-6058133265eb",
   "metadata": {},
   "source": [
    "# 2. Compute \"Pile-Up\" Statistics\n",
    "**For your reference**\n",
    "\n",
    "The pileup is a term referring to counting the alleles from all the reads at a given genomic locus. It is the data that many variant and mutation calling algorithms use to determine variant status and allelic fractions.\n",
    "\n",
    "There are 3 steps:\n",
    "\n",
    "  a. Define the genomic coordinates and read components to query (`ScanBamParam`) - same as before\n",
    "  b. Define the pileup-specific parameters, such as filters (`PileupParam`)\n",
    "  c. Run the `pileup` command\n",
    "\n",
    "### a. Set up the pileup parameters: `PileupParam`.\n",
    "The `PileupParam()` function will allow for specifying criteria such as minimum read depth, \n",
    "https://www.rdocumentation.org/packages/Rsamtools/versions/1.24.0/topics/pileup"
   ]
  },
  {
   "cell_type": "code",
   "execution_count": 17,
   "id": "3b56ca20-2ced-4aed-a8fc-007d3c5af3d1",
   "metadata": {},
   "outputs": [],
   "source": [
    "pu.param <- PileupParam() # default settings"
   ]
  },
  {
   "cell_type": "markdown",
   "id": "6e9f4a4b-a991-44b6-90a9-b14e493abc8c",
   "metadata": {},
   "source": [
    "### b. Set up scanBam parameters: `ScanBamParam`.\n",
    "Let's try generating the pileup for `17:37883255-37883260`."
   ]
  },
  {
   "cell_type": "code",
   "execution_count": 18,
   "id": "b0ea980a-21fd-49c4-afbf-7467a46f65b2",
   "metadata": {},
   "outputs": [],
   "source": [
    "whichRanges2 <- GRanges(seqnames = \"17\",\n",
    "                        IRanges(start = 37883255, end = 37883260))\n",
    "param <- ScanBamParam(flag = flag, which = whichRanges2, \n",
    "                      what = whatFields, mapqFilter = 30)"
   ]
  },
  {
   "cell_type": "markdown",
   "id": "5c9da0e3-a1c5-4498-858f-85063867a4ff",
   "metadata": {},
   "source": [
    "### c. Generate the pipeline at `17:37883255-37883260`.\n",
    "The `pileup` command outputs a `data.frame` object containing the counts for each allele at every base specified in `param`."
   ]
  },
  {
   "cell_type": "code",
   "execution_count": 19,
   "id": "ef00b0b6-0919-40ff-84ae-1bddd52f7cce",
   "metadata": {},
   "outputs": [
    {
     "data": {
      "text/html": [
       "<table class=\"dataframe\">\n",
       "<caption>A data.frame: 13 × 6</caption>\n",
       "<thead>\n",
       "\t<tr><th scope=col>seqnames</th><th scope=col>pos</th><th scope=col>strand</th><th scope=col>nucleotide</th><th scope=col>count</th><th scope=col>which_label</th></tr>\n",
       "\t<tr><th scope=col>&lt;fct&gt;</th><th scope=col>&lt;int&gt;</th><th scope=col>&lt;fct&gt;</th><th scope=col>&lt;fct&gt;</th><th scope=col>&lt;int&gt;</th><th scope=col>&lt;fct&gt;</th></tr>\n",
       "</thead>\n",
       "<tbody>\n",
       "\t<tr><td>17</td><td>37883255</td><td>+</td><td>G</td><td>2</td><td>17:37883255-37883260</td></tr>\n",
       "\t<tr><td>17</td><td>37883255</td><td>-</td><td>G</td><td>3</td><td>17:37883255-37883260</td></tr>\n",
       "\t<tr><td>17</td><td>37883256</td><td>+</td><td>G</td><td>2</td><td>17:37883255-37883260</td></tr>\n",
       "\t<tr><td>17</td><td>37883256</td><td>-</td><td>G</td><td>3</td><td>17:37883255-37883260</td></tr>\n",
       "\t<tr><td>17</td><td>37883257</td><td>+</td><td>G</td><td>2</td><td>17:37883255-37883260</td></tr>\n",
       "\t<tr><td>17</td><td>37883257</td><td>-</td><td>G</td><td>3</td><td>17:37883255-37883260</td></tr>\n",
       "\t<tr><td>17</td><td>37883258</td><td>-</td><td>G</td><td>2</td><td>17:37883255-37883260</td></tr>\n",
       "\t<tr><td>17</td><td>37883258</td><td>+</td><td>T</td><td>2</td><td>17:37883255-37883260</td></tr>\n",
       "\t<tr><td>17</td><td>37883258</td><td>-</td><td>T</td><td>1</td><td>17:37883255-37883260</td></tr>\n",
       "\t<tr><td>17</td><td>37883259</td><td>+</td><td>C</td><td>2</td><td>17:37883255-37883260</td></tr>\n",
       "\t<tr><td>17</td><td>37883259</td><td>-</td><td>C</td><td>3</td><td>17:37883255-37883260</td></tr>\n",
       "\t<tr><td>17</td><td>37883260</td><td>+</td><td>A</td><td>2</td><td>17:37883255-37883260</td></tr>\n",
       "\t<tr><td>17</td><td>37883260</td><td>-</td><td>A</td><td>3</td><td>17:37883255-37883260</td></tr>\n",
       "</tbody>\n",
       "</table>\n"
      ],
      "text/latex": [
       "A data.frame: 13 × 6\n",
       "\\begin{tabular}{llllll}\n",
       " seqnames & pos & strand & nucleotide & count & which\\_label\\\\\n",
       " <fct> & <int> & <fct> & <fct> & <int> & <fct>\\\\\n",
       "\\hline\n",
       "\t 17 & 37883255 & + & G & 2 & 17:37883255-37883260\\\\\n",
       "\t 17 & 37883255 & - & G & 3 & 17:37883255-37883260\\\\\n",
       "\t 17 & 37883256 & + & G & 2 & 17:37883255-37883260\\\\\n",
       "\t 17 & 37883256 & - & G & 3 & 17:37883255-37883260\\\\\n",
       "\t 17 & 37883257 & + & G & 2 & 17:37883255-37883260\\\\\n",
       "\t 17 & 37883257 & - & G & 3 & 17:37883255-37883260\\\\\n",
       "\t 17 & 37883258 & - & G & 2 & 17:37883255-37883260\\\\\n",
       "\t 17 & 37883258 & + & T & 2 & 17:37883255-37883260\\\\\n",
       "\t 17 & 37883258 & - & T & 1 & 17:37883255-37883260\\\\\n",
       "\t 17 & 37883259 & + & C & 2 & 17:37883255-37883260\\\\\n",
       "\t 17 & 37883259 & - & C & 3 & 17:37883255-37883260\\\\\n",
       "\t 17 & 37883260 & + & A & 2 & 17:37883255-37883260\\\\\n",
       "\t 17 & 37883260 & - & A & 3 & 17:37883255-37883260\\\\\n",
       "\\end{tabular}\n"
      ],
      "text/markdown": [
       "\n",
       "A data.frame: 13 × 6\n",
       "\n",
       "| seqnames &lt;fct&gt; | pos &lt;int&gt; | strand &lt;fct&gt; | nucleotide &lt;fct&gt; | count &lt;int&gt; | which_label &lt;fct&gt; |\n",
       "|---|---|---|---|---|---|\n",
       "| 17 | 37883255 | + | G | 2 | 17:37883255-37883260 |\n",
       "| 17 | 37883255 | - | G | 3 | 17:37883255-37883260 |\n",
       "| 17 | 37883256 | + | G | 2 | 17:37883255-37883260 |\n",
       "| 17 | 37883256 | - | G | 3 | 17:37883255-37883260 |\n",
       "| 17 | 37883257 | + | G | 2 | 17:37883255-37883260 |\n",
       "| 17 | 37883257 | - | G | 3 | 17:37883255-37883260 |\n",
       "| 17 | 37883258 | - | G | 2 | 17:37883255-37883260 |\n",
       "| 17 | 37883258 | + | T | 2 | 17:37883255-37883260 |\n",
       "| 17 | 37883258 | - | T | 1 | 17:37883255-37883260 |\n",
       "| 17 | 37883259 | + | C | 2 | 17:37883255-37883260 |\n",
       "| 17 | 37883259 | - | C | 3 | 17:37883255-37883260 |\n",
       "| 17 | 37883260 | + | A | 2 | 17:37883255-37883260 |\n",
       "| 17 | 37883260 | - | A | 3 | 17:37883255-37883260 |\n",
       "\n"
      ],
      "text/plain": [
       "   seqnames pos      strand nucleotide count which_label         \n",
       "1  17       37883255 +      G          2     17:37883255-37883260\n",
       "2  17       37883255 -      G          3     17:37883255-37883260\n",
       "3  17       37883256 +      G          2     17:37883255-37883260\n",
       "4  17       37883256 -      G          3     17:37883255-37883260\n",
       "5  17       37883257 +      G          2     17:37883255-37883260\n",
       "6  17       37883257 -      G          3     17:37883255-37883260\n",
       "7  17       37883258 -      G          2     17:37883255-37883260\n",
       "8  17       37883258 +      T          2     17:37883255-37883260\n",
       "9  17       37883258 -      T          1     17:37883255-37883260\n",
       "10 17       37883259 +      C          2     17:37883255-37883260\n",
       "11 17       37883259 -      C          3     17:37883255-37883260\n",
       "12 17       37883260 +      A          2     17:37883255-37883260\n",
       "13 17       37883260 -      A          3     17:37883255-37883260"
      ]
     },
     "metadata": {},
     "output_type": "display_data"
    }
   ],
   "source": [
    "pu <- pileup(file = bamFile, scanBamParam = param, pileupParam = pu.param)\n",
    "pu"
   ]
  }
 ],
 "metadata": {
  "kernelspec": {
   "display_name": "R 4.1.2",
   "language": "R",
   "name": "ir412"
  },
  "language_info": {
   "codemirror_mode": "r",
   "file_extension": ".r",
   "mimetype": "text/x-r-source",
   "name": "R",
   "pygments_lexer": "r",
   "version": "4.1.2"
  }
 },
 "nbformat": 4,
 "nbformat_minor": 5
}
