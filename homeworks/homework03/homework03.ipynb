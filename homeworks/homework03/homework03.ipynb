{
 "cells": [
  {
   "cell_type": "markdown",
   "metadata": {},
   "source": [
    "# Homework03 (10 points): The genetic code as a python `dict`\n",
    "\n",
    "Any code that's already here in the notebook or in the lectures is fair game. I've provided outline code for some of the problems; you are welcome to use that but you don't have to. There are also some hints/examples at the very end of this notebook.\n",
    "\n",
    "Please post questions to the tfcb_2022 slack channel. Phil is also available via email (pbradley@fredhutch.org), and he loves answering Python questions.\n",
    "Seriously. Don't hesitate to reach out if you are feeling stuck. Direct messaging\n",
    "him in slack also works great."
   ]
  },
  {
   "cell_type": "markdown",
   "metadata": {},
   "source": [
    "Here's a python dictionary that stores the genetic code mapping. The keys are codons and the values are the amino acids that those codons code for. '*' represents STOP."
   ]
  },
  {
   "cell_type": "code",
   "execution_count": null,
   "metadata": {},
   "outputs": [],
   "source": [
    "genetic_code = {\n",
    "    'AAA': 'K', 'AAC': 'N', 'AAG': 'K', 'AAT': 'N', \n",
    "    'ACA': 'T', 'ACC': 'T', 'ACG': 'T', 'ACT': 'T', \n",
    "    'AGA': 'R', 'AGC': 'S', 'AGG': 'R', 'AGT': 'S', \n",
    "    'ATA': 'I', 'ATC': 'I', 'ATG': 'M', 'ATT': 'I', \n",
    "    'CAA': 'Q', 'CAC': 'H', 'CAG': 'Q', 'CAT': 'H', \n",
    "    'CCA': 'P', 'CCC': 'P', 'CCG': 'P', 'CCT': 'P', \n",
    "    'CGA': 'R', 'CGC': 'R', 'CGG': 'R', 'CGT': 'R', \n",
    "    'CTA': 'L', 'CTC': 'L', 'CTG': 'L', 'CTT': 'L', \n",
    "    'GAA': 'E', 'GAC': 'D', 'GAG': 'E', 'GAT': 'D', \n",
    "    'GCA': 'A', 'GCC': 'A', 'GCG': 'A', 'GCT': 'A', \n",
    "    'GGA': 'G', 'GGC': 'G', 'GGG': 'G', 'GGT': 'G', \n",
    "    'GTA': 'V', 'GTC': 'V', 'GTG': 'V', 'GTT': 'V', \n",
    "    'TAA': '*', 'TAC': 'Y', 'TAG': '*', 'TAT': 'Y', \n",
    "    'TCA': 'S', 'TCC': 'S', 'TCG': 'S', 'TCT': 'S', \n",
    "    'TGA': '*', 'TGC': 'C', 'TGG': 'W', 'TGT': 'C', \n",
    "    'TTA': 'L', 'TTC': 'F', 'TTG': 'L', 'TTT': 'F'\n",
    "}\n"
   ]
  },
  {
   "cell_type": "markdown",
   "metadata": {},
   "source": [
    "# Q1 (1 point). What does `TGC` code for?\n",
    "\n",
    "Create a string called codon that is equal to `'TGC'` and use the genetic_code dictionary to look up its translation.\n",
    "\n",
    "Recall that you look up a value in a dictionary using the syntax\n",
    "`dictionary[key]`, where `dictionary` is the name of the dictionary and `key` is the name of the key."
   ]
  },
  {
   "cell_type": "code",
   "execution_count": null,
   "metadata": {},
   "outputs": [],
   "source": [
    "# what does TGC code for?\n",
    "codon = "
   ]
  },
  {
   "cell_type": "markdown",
   "metadata": {},
   "source": [
    "# Q2 (1 point). How many codons code for leucine ('L')?\n",
    "Do this by looping through the keys (ie, codons) in the `genetic_code` dictionary and counting how many code for leucine."
   ]
  },
  {
   "cell_type": "code",
   "execution_count": null,
   "metadata": {},
   "outputs": [],
   "source": [
    "# initialize the count to 0\n",
    "num_leucine_codons = 0\n",
    "\n",
    "# for-loops over dictionaries give us the keys (ie, codons)\n",
    "for codon in genetic_code:\n",
    "    if genetic_code[codon] == 'L':\n",
    "        # add 1 to the num_leucine_codons variable\n",
    "\n",
    "print(num_leucine_codons)"
   ]
  },
  {
   "cell_type": "markdown",
   "metadata": {},
   "source": [
    "# Q3 (2 points). How many codons code for each amino acid?\n",
    "\n",
    "Do this with a `for` loop over the amino acids (plus stop aka `'*'`), inside of which you figure out how many codons code for that amino acid and print out the amino acid and the number of codons. You should get an output like this:\n",
    "\n",
    "```\n",
    "* 3\n",
    "A 4\n",
    "C 2\n",
    "D 2\n",
    "```\n",
    "etc."
   ]
  },
  {
   "cell_type": "markdown",
   "metadata": {},
   "source": [
    "We need a list of all the amino acids (plus the stop codon). You could hard code those, with something like:\n",
    "```python\n",
    "amino_acids_plus_stop = ['*','A','C','D'] # etc\n",
    "```\n",
    "But it's easier to build the list directly from the dictionary. For starters, here's how you get all the values in a dictionary:"
   ]
  },
  {
   "cell_type": "code",
   "execution_count": null,
   "metadata": {},
   "outputs": [],
   "source": [
    "genetic_code.values()"
   ]
  },
  {
   "cell_type": "markdown",
   "metadata": {},
   "source": [
    "That list-like thing contains all the amino acids, but there are duplicates, and they aren't in sorted order. An easy way to eliminate duplicates in python is to turn the list into a `set`, which is another built-in type that stores unique items. (`set`s are optimized for fast membership checking and operations like intersection and unions, but that's not relevant for this HW.)"
   ]
  },
  {
   "cell_type": "code",
   "execution_count": null,
   "metadata": {},
   "outputs": [],
   "source": [
    "# set is another builtin python type, like list or dict. It's a nice way of removing duplicates.\n",
    "# Here we build a set from all the values (amino acids) in the genetic code dictionary.\n",
    "# Then we use the \"sorted\" built-in python function to turn the set into a sorted\n",
    "# list.\n",
    "amino_acids_plus_stop = sorted(set(genetic_code.values()))\n",
    "print(amino_acids_plus_stop)"
   ]
  },
  {
   "cell_type": "markdown",
   "metadata": {},
   "source": [
    "Now the idea is to loop over this list of amino acids and count, for each one, how many codons code for it. For that you could use your solution to Question 2.  "
   ]
  },
  {
   "cell_type": "code",
   "execution_count": null,
   "metadata": {},
   "outputs": [],
   "source": [
    "# how many codons for each amino acid?\n",
    "for aa in amino_acids_plus_stop:\n",
    "    count = 0\n",
    "    for codon in genetic_code:\n",
    "        # do something inside here...\n",
    "\n",
    "    # now finally write out the answer\n",
    "    print(aa, count)"
   ]
  },
  {
   "cell_type": "markdown",
   "metadata": {},
   "source": [
    "# Q4 (3 points). Write a translation function that takes in a DNA sequence and returns a protein sequence.\n",
    "\n",
    "Extra nucleotides at the end should be ignored.\n",
    "\n",
    "Use it to translate the sequence `CCTCATATTTTGTGAATTTCTTGAGCTTGAGGTCGTGAGGCTACTTGAACTGAGGCTTGTCATGAGCGTT`\n",
    "\n",
    "If you are so inclined, see how short you can make your function. Can you do it in one line? See the examples at the end of this notebook if you are unsure of the syntax for defining functions and for hints on translating."
   ]
  },
  {
   "cell_type": "code",
   "execution_count": null,
   "metadata": {},
   "outputs": [],
   "source": [
    "# translation function\n",
    "def translate(dna_seq):\n",
    "    # here's how we count the number of complete codons.\n",
    "    num_codons = len(dna_seq)//3\n",
    "    # start with an empty string\n",
    "    translation = ''\n",
    "    # now build up the translation one amino acid at a time...\n",
    "\n",
    "    return translation\n",
    "    \n",
    "translate('CCTCATATTTTGTGAATTTCTTGAGCTTGAGGTCGTGAGGCTACTTGAACTGAGGCTTGTCATGAGCGTT')"
   ]
  },
  {
   "cell_type": "markdown",
   "metadata": {},
   "source": [
    "# Q5 (3 points). Translate a SARS COV2 genome sequence; what is the longest open reading frame?\n",
    "\n",
    "Here by open reading frame I just mean a stretch of codons that doesn't contain any stop codons.\n",
    "\n",
    "You can answer either in terms of the length of the reading frame at the nucleotide or protein level, just be clear."
   ]
  },
  {
   "cell_type": "markdown",
   "metadata": {},
   "source": [
    "This little snippet will read the SARS COV2 genome DNA sequence into the string called `genome`:"
   ]
  },
  {
   "cell_type": "code",
   "execution_count": null,
   "metadata": {},
   "outputs": [],
   "source": [
    "# \n",
    "filename = 'data/sars_cov2_genome_sequence.txt'\n",
    "# lines is a list of strings, one containing each line of the file\n",
    "lines = open(filename,'r').readlines()\n",
    "# the first line is a header, get rid of that one using list slicing (ie, lines[1:])\n",
    "# then join them together using the string join method (ie, ''.join(...))\n",
    "# each line ends with a newline character, remove those with the string replace method\n",
    "# see how we can do lots of things in one line (first slicing, then joining, then replacing):\n",
    "# can you see why they happen in that order?\n",
    "genome = ''.join(lines[1:]).replace('\\n','')\n",
    "print(len(genome))"
   ]
  },
  {
   "cell_type": "markdown",
   "metadata": {},
   "source": [
    "Now translate genome into a protein sequence using the `translate` function from the previous question."
   ]
  },
  {
   "cell_type": "code",
   "execution_count": null,
   "metadata": {},
   "outputs": [],
   "source": [
    "prot_seq = translate(genome) "
   ]
  },
  {
   "cell_type": "markdown",
   "metadata": {},
   "source": [
    "Now you want to figure out the longest stretch of letters (amino acids) in `prot_seq` that doesn't contain any `*` characters. You can do this however you like, but as a hint, consider using the string.split() function, where you split on '*'s.  "
   ]
  },
  {
   "cell_type": "code",
   "execution_count": null,
   "metadata": {},
   "outputs": [],
   "source": [
    "l = prot_seq.split('*')\n",
    "\n",
    "# now do something with l...\n"
   ]
  },
  {
   "cell_type": "markdown",
   "metadata": {},
   "source": [
    "# Extra credit (2 points, maybe): What is the expected length of the longest open reading frame?\n",
    "\n",
    "Given that we have ~30,000 nucleotides of a given sequence composition, how long would we expect the longest reading frame to be if they were ordered randomly?\n",
    "\n",
    "Do this by randomly shuffling the genome sequence some number of times (say 100) and finding the longest orf in all its translations. Add those lengths up and divide by the number of times you shuffled.\n"
   ]
  },
  {
   "cell_type": "code",
   "execution_count": null,
   "metadata": {},
   "outputs": [],
   "source": [
    "# random is a very useful python library aka module\n",
    "import random\n",
    "\n",
    "numlist = [1,2,3,4,5,6]\n",
    "\n",
    "# we can call functions from within modules by using this syntax: module.function\n",
    "random.shuffle(numlist)\n",
    "\n",
    "print('shuffled numlist:', numlist)\n",
    "\n",
    "# random.shuffle doesn't work on immutable objects like strings, but we can turn a string into a list...\n",
    "seq = 'ACGTACGTACGT'\n",
    "\n",
    "seqlist = list(seq)\n",
    "\n",
    "random.shuffle(seqlist)\n",
    "\n",
    "seq = ''.join(seqlist)\n",
    "\n",
    "print('shuffled seq:', seq)"
   ]
  },
  {
   "cell_type": "code",
   "execution_count": null,
   "metadata": {},
   "outputs": [],
   "source": [
    "num_shuffles = 100\n",
    "\n",
    "# also create a variable to hold the total length of all the longest orfs...\n",
    "total_length = 0\n",
    "\n",
    "for repeat in range(num_shuffles):\n",
    "    # do stuff inside here...\n",
    "    \n",
    "mean_longest_orf = total_length/num_shuffles\n"
   ]
  },
  {
   "cell_type": "markdown",
   "metadata": {},
   "source": [
    "# Potentially helpful examples"
   ]
  },
  {
   "cell_type": "markdown",
   "metadata": {},
   "source": [
    "## More details on defining functions\n",
    "Defining a function that takes in an argument (in this case, a number) and returns a new value that depends on the argument. "
   ]
  },
  {
   "cell_type": "code",
   "execution_count": null,
   "metadata": {},
   "outputs": [],
   "source": [
    "# here we define a function that doubles a number\n",
    "#\n",
    "# Here the function is called \"double\" and the argument that gets passed in is\n",
    "# called \"num\". We could pick a different name for \"num\", as long as we use\n",
    "# that other name inside the body of the function (the body of the function is\n",
    "# the indendted part that comes after the \"def ...:\" line)\n",
    "def double(num):\n",
    "    return 2*num\n",
    "\n",
    "print('2 doubled is', double(2))\n",
    "print('3 doubled is', double(3))\n",
    "\n",
    "a = 6\n",
    "print(a, 'doubled is', double(a))\n"
   ]
  },
  {
   "cell_type": "code",
   "execution_count": null,
   "metadata": {},
   "outputs": [],
   "source": [
    "# this gives exactly the same function: it doesn't matter what we call the\n",
    "# argument (num or i) as long as we are consistent.\n",
    "def double(i):\n",
    "    return 2*i"
   ]
  },
  {
   "cell_type": "markdown",
   "metadata": {},
   "source": [
    "## Hints for translating DNA to protein"
   ]
  },
  {
   "cell_type": "code",
   "execution_count": null,
   "metadata": {},
   "outputs": [],
   "source": [
    "# let's translate a short dna sequence by hand\n",
    "dna_seq = 'CCTCATATT'\n",
    "\n",
    "translation = '' # start with an empty string\n",
    "\n",
    "first_codon = dna_seq[0:3]\n",
    "first_amino_acid = genetic_code[first_codon]\n",
    "translation = translation + first_amino_acid # add the first aa to the end\n",
    "\n",
    "second_codon = dna_seq[3:6]\n",
    "second_amino_acid = genetic_code[second_codon]\n",
    "translation = translation + second_amino_acid # add the second aa to the end\n",
    "\n",
    "third_codon = dna_seq[6:9]\n",
    "third_amino_acid = genetic_code[third_codon]\n",
    "translation = translation + third_amino_acid # add the third aa to the end\n",
    "\n",
    "print(dna_seq, 'codes for', translation)"
   ]
  },
  {
   "cell_type": "code",
   "execution_count": null,
   "metadata": {},
   "outputs": [],
   "source": []
  },
  {
   "cell_type": "code",
   "execution_count": null,
   "metadata": {},
   "outputs": [],
   "source": []
  }
 ],
 "metadata": {
  "kernelspec": {
   "display_name": "Python 3.6.11",
   "language": "python",
   "name": "python3"
  },
  "language_info": {
   "codemirror_mode": {
    "name": "ipython",
    "version": 3
   },
   "file_extension": ".py",
   "mimetype": "text/x-python",
   "name": "python",
   "nbconvert_exporter": "python",
   "pygments_lexer": "ipython3",
   "version": "3.6.11"
  },
  "vscode": {
   "interpreter": {
    "hash": "0b51294b1809baeb097f2e154baad2748788b6b1fb2916e848b3b8cf1b5cfa9e"
   }
  }
 },
 "nbformat": 4,
 "nbformat_minor": 2
}
