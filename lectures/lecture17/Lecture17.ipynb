{
 "cells": [
  {
   "cell_type": "markdown",
   "metadata": {},
   "source": [
    "# Working with immune repertoire sequence data using `R`"
   ]
  },
  {
   "cell_type": "markdown",
   "metadata": {},
   "source": [
    "We will be using `tidyverse` and `Bioconductor` to work with pre-processed immune repertoire sequence data in `R`.\n",
    "You have already learned about both of these collections of packages, and today's class will give you the opportunity to practice using them in a new biological context.\n",
    "\n",
    "Goals for today's class:\n",
    "1. Familiarize with the format of immune repertoire sequence data\n",
    "2. Work through an example analysis, and practice on your own"
   ]
  },
  {
   "cell_type": "markdown",
   "metadata": {},
   "source": [
    "## Load packages"
   ]
  },
  {
   "cell_type": "code",
   "execution_count": 1,
   "metadata": {
    "vscode": {
     "languageId": "r"
    }
   },
   "outputs": [
    {
     "name": "stderr",
     "output_type": "stream",
     "text": [
      "Loading required package: BiocGenerics\n",
      "\n",
      "\n",
      "Attaching package: ‘BiocGenerics’\n",
      "\n",
      "\n",
      "The following objects are masked from ‘package:stats’:\n",
      "\n",
      "    IQR, mad, sd, var, xtabs\n",
      "\n",
      "\n",
      "The following objects are masked from ‘package:base’:\n",
      "\n",
      "    anyDuplicated, append, as.data.frame, basename, cbind, colnames,\n",
      "    dirname, do.call, duplicated, eval, evalq, Filter, Find, get, grep,\n",
      "    grepl, intersect, is.unsorted, lapply, Map, mapply, match, mget,\n",
      "    order, paste, pmax, pmax.int, pmin, pmin.int, Position, rank,\n",
      "    rbind, Reduce, rownames, sapply, setdiff, sort, table, tapply,\n",
      "    union, unique, unsplit, which.max, which.min\n",
      "\n",
      "\n",
      "Loading required package: S4Vectors\n",
      "\n",
      "Loading required package: stats4\n",
      "\n",
      "\n",
      "Attaching package: ‘S4Vectors’\n",
      "\n",
      "\n",
      "The following objects are masked from ‘package:base’:\n",
      "\n",
      "    expand.grid, I, unname\n",
      "\n",
      "\n",
      "Loading required package: IRanges\n",
      "\n",
      "Loading required package: XVector\n",
      "\n",
      "Loading required package: GenomeInfoDb\n",
      "\n",
      "\n",
      "Attaching package: ‘Biostrings’\n",
      "\n",
      "\n",
      "The following object is masked from ‘package:base’:\n",
      "\n",
      "    strsplit\n",
      "\n",
      "\n",
      "── \u001b[1mAttaching packages\u001b[22m ─────────────────────────────────────── tidyverse 1.3.1 ──\n",
      "\n",
      "\u001b[32m✔\u001b[39m \u001b[34mggplot2\u001b[39m 3.3.6     \u001b[32m✔\u001b[39m \u001b[34mpurrr  \u001b[39m 0.3.4\n",
      "\u001b[32m✔\u001b[39m \u001b[34mtibble \u001b[39m 3.1.7     \u001b[32m✔\u001b[39m \u001b[34mdplyr  \u001b[39m 1.0.9\n",
      "\u001b[32m✔\u001b[39m \u001b[34mtidyr  \u001b[39m 1.2.0     \u001b[32m✔\u001b[39m \u001b[34mstringr\u001b[39m 1.4.0\n",
      "\u001b[32m✔\u001b[39m \u001b[34mreadr  \u001b[39m 2.1.2     \u001b[32m✔\u001b[39m \u001b[34mforcats\u001b[39m 0.5.1\n",
      "\n",
      "── \u001b[1mConflicts\u001b[22m ────────────────────────────────────────── tidyverse_conflicts() ──\n",
      "\u001b[31m✖\u001b[39m \u001b[34mdplyr\u001b[39m::\u001b[32mcollapse()\u001b[39m   masks \u001b[34mBiostrings\u001b[39m::collapse(), \u001b[34mIRanges\u001b[39m::collapse()\n",
      "\u001b[31m✖\u001b[39m \u001b[34mdplyr\u001b[39m::\u001b[32mcombine()\u001b[39m    masks \u001b[34mBiocGenerics\u001b[39m::combine()\n",
      "\u001b[31m✖\u001b[39m \u001b[34mpurrr\u001b[39m::\u001b[32mcompact()\u001b[39m    masks \u001b[34mXVector\u001b[39m::compact()\n",
      "\u001b[31m✖\u001b[39m \u001b[34mdplyr\u001b[39m::\u001b[32mdesc()\u001b[39m       masks \u001b[34mIRanges\u001b[39m::desc()\n",
      "\u001b[31m✖\u001b[39m \u001b[34mtidyr\u001b[39m::\u001b[32mexpand()\u001b[39m     masks \u001b[34mS4Vectors\u001b[39m::expand()\n",
      "\u001b[31m✖\u001b[39m \u001b[34mdplyr\u001b[39m::\u001b[32mfilter()\u001b[39m     masks \u001b[34mstats\u001b[39m::filter()\n",
      "\u001b[31m✖\u001b[39m \u001b[34mdplyr\u001b[39m::\u001b[32mfirst()\u001b[39m      masks \u001b[34mS4Vectors\u001b[39m::first()\n",
      "\u001b[31m✖\u001b[39m \u001b[34mdplyr\u001b[39m::\u001b[32mlag()\u001b[39m        masks \u001b[34mstats\u001b[39m::lag()\n",
      "\u001b[31m✖\u001b[39m \u001b[34mggplot2\u001b[39m::\u001b[32mPosition()\u001b[39m masks \u001b[34mBiocGenerics\u001b[39m::Position(), \u001b[34mbase\u001b[39m::Position()\n",
      "\u001b[31m✖\u001b[39m \u001b[34mpurrr\u001b[39m::\u001b[32mreduce()\u001b[39m     masks \u001b[34mIRanges\u001b[39m::reduce()\n",
      "\u001b[31m✖\u001b[39m \u001b[34mdplyr\u001b[39m::\u001b[32mrename()\u001b[39m     masks \u001b[34mS4Vectors\u001b[39m::rename()\n",
      "\u001b[31m✖\u001b[39m \u001b[34mdplyr\u001b[39m::\u001b[32mslice()\u001b[39m      masks \u001b[34mXVector\u001b[39m::slice(), \u001b[34mIRanges\u001b[39m::slice()\n",
      "\n"
     ]
    }
   ],
   "source": [
    "library(Biostrings)\n",
    "library(tidyverse)"
   ]
  },
  {
   "cell_type": "markdown",
   "metadata": {},
   "source": [
    "## Loading the data"
   ]
  },
  {
   "cell_type": "code",
   "execution_count": 2,
   "metadata": {
    "vscode": {
     "languageId": "r"
    }
   },
   "outputs": [],
   "source": [
    "indiv1 <- read.csv('https://drive.google.com/uc?id=1b1oXlhg99_YCPK_HzFL2ohYPDxvTbQOo', sep = '\\t', header = TRUE)\n",
    "indiv2 <- read.csv('https://drive.google.com/uc?id=10qMY16H9wD_wuC4ISAJRTRx_bOeclg5D', sep = '\\t', header = TRUE)"
   ]
  },
  {
   "cell_type": "markdown",
   "metadata": {},
   "source": [
    "Let's take a look at the data. \n",
    "Recall that each annotated sequence takes the form:\n",
    "\n",
    "5'-[__Vgene__]-(_possible Vgene deletion_)-[__N1insertion__]-(_possible Dgene deletion_)-[__D gene__]-(_possible Dgene deletion_)-[__N2insertion__]-(_possible Jgene deletion_)-[__J gene with possible deletion__]-3'\n",
    "\n",
    "Using the column names given by the file, we can interpret this as:\n",
    "\n",
    "5'-[__`v_gene`__]-(_`v_trim`_)-[__`vd_insert`__]-(_`d0_trim`_)-[__`d_gene`__]-(_`d1_trim`_)-[__`dj_insert`__]-(_`j_trim`_)-[__`j_gene`__]-3'"
   ]
  },
  {
   "cell_type": "code",
   "execution_count": 3,
   "metadata": {
    "vscode": {
     "languageId": "r"
    }
   },
   "outputs": [
    {
     "data": {
      "text/html": [
       "<table class=\"dataframe\">\n",
       "<caption>A data.frame: 6 × 21</caption>\n",
       "<thead>\n",
       "\t<tr><th></th><th scope=col>seq_index</th><th scope=col>scenario_rank</th><th scope=col>scenario_proba_cond_seq</th><th scope=col>cdr3_nucseq</th><th scope=col>cdr3</th><th scope=col>v_gene</th><th scope=col>d_gene</th><th scope=col>j_gene</th><th scope=col>v_trim</th><th scope=col>d0_trim</th><th scope=col>⋯</th><th scope=col>j_trim</th><th scope=col>vd_insert</th><th scope=col>dj_insert</th><th scope=col>vd_insert_nucs</th><th scope=col>dj_insert_nucs</th><th scope=col>productive</th><th scope=col>v_pnuc</th><th scope=col>d0_pnuc</th><th scope=col>d1_pnuc</th><th scope=col>j_pnuc</th></tr>\n",
       "\t<tr><th></th><th scope=col>&lt;int&gt;</th><th scope=col>&lt;int&gt;</th><th scope=col>&lt;dbl&gt;</th><th scope=col>&lt;chr&gt;</th><th scope=col>&lt;chr&gt;</th><th scope=col>&lt;chr&gt;</th><th scope=col>&lt;chr&gt;</th><th scope=col>&lt;chr&gt;</th><th scope=col>&lt;int&gt;</th><th scope=col>&lt;int&gt;</th><th scope=col>⋯</th><th scope=col>&lt;int&gt;</th><th scope=col>&lt;int&gt;</th><th scope=col>&lt;int&gt;</th><th scope=col>&lt;chr&gt;</th><th scope=col>&lt;chr&gt;</th><th scope=col>&lt;lgl&gt;</th><th scope=col>&lt;int&gt;</th><th scope=col>&lt;int&gt;</th><th scope=col>&lt;int&gt;</th><th scope=col>&lt;int&gt;</th></tr>\n",
       "</thead>\n",
       "<tbody>\n",
       "\t<tr><th scope=row>1</th><td>0</td><td> 1</td><td>0.0650989</td><td>TGTGCCAGTAGTATTTTACAATGAGCAGTTCTTC</td><td>           </td><td>TRBV19*01  </td><td>TRBD1*01</td><td>TRBJ2-1*01</td><td>3</td><td> 0</td><td>⋯</td><td> 4</td><td>0</td><td>2</td><td>    </td><td>TT</td><td>FALSE</td><td>0</td><td>0</td><td>0</td><td>0</td></tr>\n",
       "\t<tr><th scope=row>2</th><td>1</td><td> 8</td><td>0.0365358</td><td>TGTGCCAGCAGCTTGAATCACGAGCAGTACTTC </td><td>CASSLNHEQYF</td><td>TRBV5-6*01 </td><td>TRBD2*02</td><td>TRBJ2-7*01</td><td>1</td><td> 3</td><td>⋯</td><td> 5</td><td>4</td><td>0</td><td>AATC</td><td>  </td><td> TRUE</td><td>0</td><td>0</td><td>0</td><td>0</td></tr>\n",
       "\t<tr><th scope=row>3</th><td>2</td><td> 4</td><td>0.0285733</td><td>TGCGCCAGCAGCTTGGCAGAGACCCAGTACTTC </td><td>CASSLAETQYF</td><td>TRBV5-1*01 </td><td>TRBD1*01</td><td>TRBJ2-5*01</td><td>2</td><td> 9</td><td>⋯</td><td> 4</td><td>0</td><td>0</td><td>    </td><td>  </td><td> TRUE</td><td>0</td><td>0</td><td>0</td><td>0</td></tr>\n",
       "\t<tr><th scope=row>4</th><td>3</td><td> 1</td><td>0.0189726</td><td>TGTGCCAGCAGGTGGCAATCAGCCCCAGCATTTT</td><td>           </td><td>TRBV7-9*01 </td><td>TRBD2*02</td><td>TRBJ1-5*01</td><td>7</td><td>10</td><td>⋯</td><td> 2</td><td>0</td><td>2</td><td>    </td><td>GT</td><td>FALSE</td><td>0</td><td>0</td><td>0</td><td>0</td></tr>\n",
       "\t<tr><th scope=row>5</th><td>4</td><td>10</td><td>0.0190391</td><td>TGTGCCAGCAGCCTGAGCTTTCTTT         </td><td>           </td><td>TRBV3-2*01 </td><td>TRBD2*02</td><td>TRBJ1-1*01</td><td>4</td><td>14</td><td>⋯</td><td>11</td><td>1</td><td>1</td><td>T   </td><td>A </td><td>FALSE</td><td>0</td><td>0</td><td>0</td><td>0</td></tr>\n",
       "\t<tr><th scope=row>6</th><td>5</td><td> 7</td><td>0.0230747</td><td>TGTGCCAGCAGGTGTATTTT              </td><td>           </td><td>TRBV12-3*01</td><td>TRBD2*02</td><td>TRBJ1-3*01</td><td>6</td><td> 1</td><td>⋯</td><td>16</td><td>2</td><td>0</td><td>GT  </td><td>  </td><td>FALSE</td><td>0</td><td>0</td><td>0</td><td>0</td></tr>\n",
       "</tbody>\n",
       "</table>\n"
      ],
      "text/latex": [
       "A data.frame: 6 × 21\n",
       "\\begin{tabular}{r|lllllllllllllllllllll}\n",
       "  & seq\\_index & scenario\\_rank & scenario\\_proba\\_cond\\_seq & cdr3\\_nucseq & cdr3 & v\\_gene & d\\_gene & j\\_gene & v\\_trim & d0\\_trim & ⋯ & j\\_trim & vd\\_insert & dj\\_insert & vd\\_insert\\_nucs & dj\\_insert\\_nucs & productive & v\\_pnuc & d0\\_pnuc & d1\\_pnuc & j\\_pnuc\\\\\n",
       "  & <int> & <int> & <dbl> & <chr> & <chr> & <chr> & <chr> & <chr> & <int> & <int> & ⋯ & <int> & <int> & <int> & <chr> & <chr> & <lgl> & <int> & <int> & <int> & <int>\\\\\n",
       "\\hline\n",
       "\t1 & 0 &  1 & 0.0650989 & TGTGCCAGTAGTATTTTACAATGAGCAGTTCTTC &             & TRBV19*01   & TRBD1*01 & TRBJ2-1*01 & 3 &  0 & ⋯ &  4 & 0 & 2 &      & TT & FALSE & 0 & 0 & 0 & 0\\\\\n",
       "\t2 & 1 &  8 & 0.0365358 & TGTGCCAGCAGCTTGAATCACGAGCAGTACTTC  & CASSLNHEQYF & TRBV5-6*01  & TRBD2*02 & TRBJ2-7*01 & 1 &  3 & ⋯ &  5 & 4 & 0 & AATC &    &  TRUE & 0 & 0 & 0 & 0\\\\\n",
       "\t3 & 2 &  4 & 0.0285733 & TGCGCCAGCAGCTTGGCAGAGACCCAGTACTTC  & CASSLAETQYF & TRBV5-1*01  & TRBD1*01 & TRBJ2-5*01 & 2 &  9 & ⋯ &  4 & 0 & 0 &      &    &  TRUE & 0 & 0 & 0 & 0\\\\\n",
       "\t4 & 3 &  1 & 0.0189726 & TGTGCCAGCAGGTGGCAATCAGCCCCAGCATTTT &             & TRBV7-9*01  & TRBD2*02 & TRBJ1-5*01 & 7 & 10 & ⋯ &  2 & 0 & 2 &      & GT & FALSE & 0 & 0 & 0 & 0\\\\\n",
       "\t5 & 4 & 10 & 0.0190391 & TGTGCCAGCAGCCTGAGCTTTCTTT          &             & TRBV3-2*01  & TRBD2*02 & TRBJ1-1*01 & 4 & 14 & ⋯ & 11 & 1 & 1 & T    & A  & FALSE & 0 & 0 & 0 & 0\\\\\n",
       "\t6 & 5 &  7 & 0.0230747 & TGTGCCAGCAGGTGTATTTT               &             & TRBV12-3*01 & TRBD2*02 & TRBJ1-3*01 & 6 &  1 & ⋯ & 16 & 2 & 0 & GT   &    & FALSE & 0 & 0 & 0 & 0\\\\\n",
       "\\end{tabular}\n"
      ],
      "text/markdown": [
       "\n",
       "A data.frame: 6 × 21\n",
       "\n",
       "| <!--/--> | seq_index &lt;int&gt; | scenario_rank &lt;int&gt; | scenario_proba_cond_seq &lt;dbl&gt; | cdr3_nucseq &lt;chr&gt; | cdr3 &lt;chr&gt; | v_gene &lt;chr&gt; | d_gene &lt;chr&gt; | j_gene &lt;chr&gt; | v_trim &lt;int&gt; | d0_trim &lt;int&gt; | ⋯ ⋯ | j_trim &lt;int&gt; | vd_insert &lt;int&gt; | dj_insert &lt;int&gt; | vd_insert_nucs &lt;chr&gt; | dj_insert_nucs &lt;chr&gt; | productive &lt;lgl&gt; | v_pnuc &lt;int&gt; | d0_pnuc &lt;int&gt; | d1_pnuc &lt;int&gt; | j_pnuc &lt;int&gt; |\n",
       "|---|---|---|---|---|---|---|---|---|---|---|---|---|---|---|---|---|---|---|---|---|---|\n",
       "| 1 | 0 |  1 | 0.0650989 | TGTGCCAGTAGTATTTTACAATGAGCAGTTCTTC | <!----> | TRBV19*01   | TRBD1*01 | TRBJ2-1*01 | 3 |  0 | ⋯ |  4 | 0 | 2 | <!----> | TT | FALSE | 0 | 0 | 0 | 0 |\n",
       "| 2 | 1 |  8 | 0.0365358 | TGTGCCAGCAGCTTGAATCACGAGCAGTACTTC  | CASSLNHEQYF | TRBV5-6*01  | TRBD2*02 | TRBJ2-7*01 | 1 |  3 | ⋯ |  5 | 4 | 0 | AATC | <!----> |  TRUE | 0 | 0 | 0 | 0 |\n",
       "| 3 | 2 |  4 | 0.0285733 | TGCGCCAGCAGCTTGGCAGAGACCCAGTACTTC  | CASSLAETQYF | TRBV5-1*01  | TRBD1*01 | TRBJ2-5*01 | 2 |  9 | ⋯ |  4 | 0 | 0 | <!----> | <!----> |  TRUE | 0 | 0 | 0 | 0 |\n",
       "| 4 | 3 |  1 | 0.0189726 | TGTGCCAGCAGGTGGCAATCAGCCCCAGCATTTT | <!----> | TRBV7-9*01  | TRBD2*02 | TRBJ1-5*01 | 7 | 10 | ⋯ |  2 | 0 | 2 | <!----> | GT | FALSE | 0 | 0 | 0 | 0 |\n",
       "| 5 | 4 | 10 | 0.0190391 | TGTGCCAGCAGCCTGAGCTTTCTTT          | <!----> | TRBV3-2*01  | TRBD2*02 | TRBJ1-1*01 | 4 | 14 | ⋯ | 11 | 1 | 1 | T    | A  | FALSE | 0 | 0 | 0 | 0 |\n",
       "| 6 | 5 |  7 | 0.0230747 | TGTGCCAGCAGGTGTATTTT               | <!----> | TRBV12-3*01 | TRBD2*02 | TRBJ1-3*01 | 6 |  1 | ⋯ | 16 | 2 | 0 | GT   | <!----> | FALSE | 0 | 0 | 0 | 0 |\n",
       "\n"
      ],
      "text/plain": [
       "  seq_index scenario_rank scenario_proba_cond_seq\n",
       "1 0          1            0.0650989              \n",
       "2 1          8            0.0365358              \n",
       "3 2          4            0.0285733              \n",
       "4 3          1            0.0189726              \n",
       "5 4         10            0.0190391              \n",
       "6 5          7            0.0230747              \n",
       "  cdr3_nucseq                        cdr3        v_gene      d_gene  \n",
       "1 TGTGCCAGTAGTATTTTACAATGAGCAGTTCTTC             TRBV19*01   TRBD1*01\n",
       "2 TGTGCCAGCAGCTTGAATCACGAGCAGTACTTC  CASSLNHEQYF TRBV5-6*01  TRBD2*02\n",
       "3 TGCGCCAGCAGCTTGGCAGAGACCCAGTACTTC  CASSLAETQYF TRBV5-1*01  TRBD1*01\n",
       "4 TGTGCCAGCAGGTGGCAATCAGCCCCAGCATTTT             TRBV7-9*01  TRBD2*02\n",
       "5 TGTGCCAGCAGCCTGAGCTTTCTTT                      TRBV3-2*01  TRBD2*02\n",
       "6 TGTGCCAGCAGGTGTATTTT                           TRBV12-3*01 TRBD2*02\n",
       "  j_gene     v_trim d0_trim ⋯ j_trim vd_insert dj_insert vd_insert_nucs\n",
       "1 TRBJ2-1*01 3       0      ⋯  4     0         2                       \n",
       "2 TRBJ2-7*01 1       3      ⋯  5     4         0         AATC          \n",
       "3 TRBJ2-5*01 2       9      ⋯  4     0         0                       \n",
       "4 TRBJ1-5*01 7      10      ⋯  2     0         2                       \n",
       "5 TRBJ1-1*01 4      14      ⋯ 11     1         1         T             \n",
       "6 TRBJ1-3*01 6       1      ⋯ 16     2         0         GT            \n",
       "  dj_insert_nucs productive v_pnuc d0_pnuc d1_pnuc j_pnuc\n",
       "1 TT             FALSE      0      0       0       0     \n",
       "2                 TRUE      0      0       0       0     \n",
       "3                 TRUE      0      0       0       0     \n",
       "4 GT             FALSE      0      0       0       0     \n",
       "5 A              FALSE      0      0       0       0     \n",
       "6                FALSE      0      0       0       0     "
      ]
     },
     "metadata": {},
     "output_type": "display_data"
    }
   ],
   "source": [
    "head(indiv2)"
   ]
  },
  {
   "cell_type": "markdown",
   "metadata": {},
   "source": [
    "## Some example analyses using `tidyverse` and `Bioconductor`"
   ]
  },
  {
   "cell_type": "markdown",
   "metadata": {},
   "source": [
    "Find which V-gene occurs most frequently for individual 2"
   ]
  },
  {
   "cell_type": "code",
   "execution_count": 4,
   "metadata": {
    "vscode": {
     "languageId": "r"
    }
   },
   "outputs": [
    {
     "data": {
      "text/html": [
       "<table class=\"dataframe\">\n",
       "<caption>A tibble: 6 × 2</caption>\n",
       "<thead>\n",
       "\t<tr><th scope=col>v_gene</th><th scope=col>total_count</th></tr>\n",
       "\t<tr><th scope=col>&lt;chr&gt;</th><th scope=col>&lt;int&gt;</th></tr>\n",
       "</thead>\n",
       "<tbody>\n",
       "\t<tr><td>TRBV20-1*01</td><td>7510</td></tr>\n",
       "\t<tr><td>TRBV30*01  </td><td>3846</td></tr>\n",
       "\t<tr><td>TRBV19*01  </td><td>3358</td></tr>\n",
       "\t<tr><td>TRBV6-5*01 </td><td>3271</td></tr>\n",
       "\t<tr><td>TRBV9*01   </td><td>2999</td></tr>\n",
       "\t<tr><td>TRBV18*01  </td><td>2879</td></tr>\n",
       "</tbody>\n",
       "</table>\n"
      ],
      "text/latex": [
       "A tibble: 6 × 2\n",
       "\\begin{tabular}{ll}\n",
       " v\\_gene & total\\_count\\\\\n",
       " <chr> & <int>\\\\\n",
       "\\hline\n",
       "\t TRBV20-1*01 & 7510\\\\\n",
       "\t TRBV30*01   & 3846\\\\\n",
       "\t TRBV19*01   & 3358\\\\\n",
       "\t TRBV6-5*01  & 3271\\\\\n",
       "\t TRBV9*01    & 2999\\\\\n",
       "\t TRBV18*01   & 2879\\\\\n",
       "\\end{tabular}\n"
      ],
      "text/markdown": [
       "\n",
       "A tibble: 6 × 2\n",
       "\n",
       "| v_gene &lt;chr&gt; | total_count &lt;int&gt; |\n",
       "|---|---|\n",
       "| TRBV20-1*01 | 7510 |\n",
       "| TRBV30*01   | 3846 |\n",
       "| TRBV19*01   | 3358 |\n",
       "| TRBV6-5*01  | 3271 |\n",
       "| TRBV9*01    | 2999 |\n",
       "| TRBV18*01   | 2879 |\n",
       "\n"
      ],
      "text/plain": [
       "  v_gene      total_count\n",
       "1 TRBV20-1*01 7510       \n",
       "2 TRBV30*01   3846       \n",
       "3 TRBV19*01   3358       \n",
       "4 TRBV6-5*01  3271       \n",
       "5 TRBV9*01    2999       \n",
       "6 TRBV18*01   2879       "
      ]
     },
     "metadata": {},
     "output_type": "display_data"
    }
   ],
   "source": [
    "Vcounts2 <- indiv2 %>%\n",
    "                group_by(v_gene) %>%\n",
    "                summarise(total_count = n()) %>%\n",
    "                arrange(desc(total_count))\n",
    "\n",
    "head(Vcounts2)"
   ]
  },
  {
   "cell_type": "markdown",
   "metadata": {},
   "source": [
    "Plot the distribution of trimming lengths for that gene"
   ]
  },
  {
   "cell_type": "code",
   "execution_count": 6,
   "metadata": {
    "vscode": {
     "languageId": "r"
    }
   },
   "outputs": [
    {
     "data": {
      "text/html": [
       "<table class=\"dataframe\">\n",
       "<caption>A tibble: 1 × 2</caption>\n",
       "<thead>\n",
       "\t<tr><th scope=col>v_gene</th><th scope=col>total_count</th></tr>\n",
       "\t<tr><th scope=col>&lt;chr&gt;</th><th scope=col>&lt;int&gt;</th></tr>\n",
       "</thead>\n",
       "<tbody>\n",
       "\t<tr><td>TRBV20-1*01</td><td>7510</td></tr>\n",
       "</tbody>\n",
       "</table>\n"
      ],
      "text/latex": [
       "A tibble: 1 × 2\n",
       "\\begin{tabular}{ll}\n",
       " v\\_gene & total\\_count\\\\\n",
       " <chr> & <int>\\\\\n",
       "\\hline\n",
       "\t TRBV20-1*01 & 7510\\\\\n",
       "\\end{tabular}\n"
      ],
      "text/markdown": [
       "\n",
       "A tibble: 1 × 2\n",
       "\n",
       "| v_gene &lt;chr&gt; | total_count &lt;int&gt; |\n",
       "|---|---|\n",
       "| TRBV20-1*01 | 7510 |\n",
       "\n"
      ],
      "text/plain": [
       "  v_gene      total_count\n",
       "1 TRBV20-1*01 7510       "
      ]
     },
     "metadata": {},
     "output_type": "display_data"
    }
   ],
   "source": [
    "# isolate most frequently used V-gene\n",
    "most_frequent_V <- Vcounts2 %>%\n",
    "                    filter(total_count == max(Vcounts2$total_count))\n",
    "\n",
    "head(most_frequent_V)"
   ]
  },
  {
   "cell_type": "code",
   "execution_count": 8,
   "metadata": {
    "vscode": {
     "languageId": "r"
    }
   },
   "outputs": [
    {
     "data": {
      "text/html": [
       "<table class=\"dataframe\">\n",
       "<caption>A data.frame: 6 × 21</caption>\n",
       "<thead>\n",
       "\t<tr><th></th><th scope=col>seq_index</th><th scope=col>scenario_rank</th><th scope=col>scenario_proba_cond_seq</th><th scope=col>cdr3_nucseq</th><th scope=col>cdr3</th><th scope=col>v_gene</th><th scope=col>d_gene</th><th scope=col>j_gene</th><th scope=col>v_trim</th><th scope=col>d0_trim</th><th scope=col>⋯</th><th scope=col>j_trim</th><th scope=col>vd_insert</th><th scope=col>dj_insert</th><th scope=col>vd_insert_nucs</th><th scope=col>dj_insert_nucs</th><th scope=col>productive</th><th scope=col>v_pnuc</th><th scope=col>d0_pnuc</th><th scope=col>d1_pnuc</th><th scope=col>j_pnuc</th></tr>\n",
       "\t<tr><th></th><th scope=col>&lt;int&gt;</th><th scope=col>&lt;int&gt;</th><th scope=col>&lt;dbl&gt;</th><th scope=col>&lt;chr&gt;</th><th scope=col>&lt;chr&gt;</th><th scope=col>&lt;chr&gt;</th><th scope=col>&lt;chr&gt;</th><th scope=col>&lt;chr&gt;</th><th scope=col>&lt;int&gt;</th><th scope=col>&lt;int&gt;</th><th scope=col>⋯</th><th scope=col>&lt;int&gt;</th><th scope=col>&lt;int&gt;</th><th scope=col>&lt;int&gt;</th><th scope=col>&lt;chr&gt;</th><th scope=col>&lt;chr&gt;</th><th scope=col>&lt;lgl&gt;</th><th scope=col>&lt;int&gt;</th><th scope=col>&lt;int&gt;</th><th scope=col>&lt;int&gt;</th><th scope=col>&lt;int&gt;</th></tr>\n",
       "</thead>\n",
       "<tbody>\n",
       "\t<tr><th scope=row>1</th><td>  6</td><td>6</td><td>0.0393035</td><td>TGCAGTGCTAGAGATATCAGCCCCAGCATTTT                      </td><td>                  </td><td>TRBV20-1*01</td><td>TRBD2*02</td><td>TRBJ1-5*01</td><td>0</td><td>12</td><td>⋯</td><td>6</td><td>0</td><td> 0</td><td>        </td><td>          </td><td>FALSE</td><td>1</td><td>0</td><td>0</td><td>0</td></tr>\n",
       "\t<tr><th scope=row>2</th><td> 37</td><td>3</td><td>0.0861763</td><td>TGCAGTGCTTTACCGGGACAGTCGCCTACGAGCAGTACTTC             </td><td>                  </td><td>TRBV20-1*01</td><td>TRBD1*01</td><td>TRBJ2-7*01</td><td>6</td><td> 0</td><td>⋯</td><td>2</td><td>4</td><td> 3</td><td>TTTA    </td><td>GCT       </td><td>FALSE</td><td>0</td><td>2</td><td>0</td><td>0</td></tr>\n",
       "\t<tr><th scope=row>3</th><td> 62</td><td>3</td><td>0.0783210</td><td>TGCAGTGCTATCGGGACTAGCGGGACGAGCAATGAGCAGTTCTTC         </td><td>CSAIGTSGTSNEQFF   </td><td>TRBV20-1*01</td><td>TRBD2*01</td><td>TRBJ2-1*01</td><td>4</td><td> 0</td><td>⋯</td><td>6</td><td>2</td><td> 5</td><td>TC      </td><td>GAGCA     </td><td> TRUE</td><td>0</td><td>0</td><td>0</td><td>0</td></tr>\n",
       "\t<tr><th scope=row>4</th><td> 88</td><td>3</td><td>0.0782809</td><td>TGCAGTGCTAGCCGGGACTACGGTTGGGACTATGGCTACACCTTC         </td><td>CSASRDYGWDYGYTF   </td><td>TRBV20-1*01</td><td>TRBD2*02</td><td>TRBJ1-2*01</td><td>3</td><td> 0</td><td>⋯</td><td>3</td><td>0</td><td>10</td><td>        </td><td>GGGTTGGCAT</td><td> TRUE</td><td>0</td><td>2</td><td>0</td><td>0</td></tr>\n",
       "\t<tr><th scope=row>5</th><td>107</td><td>7</td><td>0.0231497</td><td>TGCAGTGCTAGAGATGGGCCGGGAGAAAACATTCAGTACTTC            </td><td>CSARDGPGENIQYF    </td><td>TRBV20-1*01</td><td>TRBD2*01</td><td>TRBJ2-4*01</td><td>0</td><td> 8</td><td>⋯</td><td>5</td><td>4</td><td> 2</td><td>GGGC    </td><td>GA        </td><td> TRUE</td><td>1</td><td>0</td><td>0</td><td>0</td></tr>\n",
       "\t<tr><th scope=row>6</th><td>184</td><td>2</td><td>0.1917440</td><td>TGCAGTGCTAGAGATCTCTGGTTTACTAGCGGGGAGAACAATGAGCAGTTCTTC</td><td>CSARDLWFTSGENNEQFF</td><td>TRBV20-1*01</td><td>TRBD2*01</td><td>TRBJ2-1*01</td><td>0</td><td> 3</td><td>⋯</td><td>5</td><td>8</td><td> 3</td><td>TCTGGTTT</td><td>AGA       </td><td> TRUE</td><td>2</td><td>0</td><td>0</td><td>0</td></tr>\n",
       "</tbody>\n",
       "</table>\n"
      ],
      "text/latex": [
       "A data.frame: 6 × 21\n",
       "\\begin{tabular}{r|lllllllllllllllllllll}\n",
       "  & seq\\_index & scenario\\_rank & scenario\\_proba\\_cond\\_seq & cdr3\\_nucseq & cdr3 & v\\_gene & d\\_gene & j\\_gene & v\\_trim & d0\\_trim & ⋯ & j\\_trim & vd\\_insert & dj\\_insert & vd\\_insert\\_nucs & dj\\_insert\\_nucs & productive & v\\_pnuc & d0\\_pnuc & d1\\_pnuc & j\\_pnuc\\\\\n",
       "  & <int> & <int> & <dbl> & <chr> & <chr> & <chr> & <chr> & <chr> & <int> & <int> & ⋯ & <int> & <int> & <int> & <chr> & <chr> & <lgl> & <int> & <int> & <int> & <int>\\\\\n",
       "\\hline\n",
       "\t1 &   6 & 6 & 0.0393035 & TGCAGTGCTAGAGATATCAGCCCCAGCATTTT                       &                    & TRBV20-1*01 & TRBD2*02 & TRBJ1-5*01 & 0 & 12 & ⋯ & 6 & 0 &  0 &          &            & FALSE & 1 & 0 & 0 & 0\\\\\n",
       "\t2 &  37 & 3 & 0.0861763 & TGCAGTGCTTTACCGGGACAGTCGCCTACGAGCAGTACTTC              &                    & TRBV20-1*01 & TRBD1*01 & TRBJ2-7*01 & 6 &  0 & ⋯ & 2 & 4 &  3 & TTTA     & GCT        & FALSE & 0 & 2 & 0 & 0\\\\\n",
       "\t3 &  62 & 3 & 0.0783210 & TGCAGTGCTATCGGGACTAGCGGGACGAGCAATGAGCAGTTCTTC          & CSAIGTSGTSNEQFF    & TRBV20-1*01 & TRBD2*01 & TRBJ2-1*01 & 4 &  0 & ⋯ & 6 & 2 &  5 & TC       & GAGCA      &  TRUE & 0 & 0 & 0 & 0\\\\\n",
       "\t4 &  88 & 3 & 0.0782809 & TGCAGTGCTAGCCGGGACTACGGTTGGGACTATGGCTACACCTTC          & CSASRDYGWDYGYTF    & TRBV20-1*01 & TRBD2*02 & TRBJ1-2*01 & 3 &  0 & ⋯ & 3 & 0 & 10 &          & GGGTTGGCAT &  TRUE & 0 & 2 & 0 & 0\\\\\n",
       "\t5 & 107 & 7 & 0.0231497 & TGCAGTGCTAGAGATGGGCCGGGAGAAAACATTCAGTACTTC             & CSARDGPGENIQYF     & TRBV20-1*01 & TRBD2*01 & TRBJ2-4*01 & 0 &  8 & ⋯ & 5 & 4 &  2 & GGGC     & GA         &  TRUE & 1 & 0 & 0 & 0\\\\\n",
       "\t6 & 184 & 2 & 0.1917440 & TGCAGTGCTAGAGATCTCTGGTTTACTAGCGGGGAGAACAATGAGCAGTTCTTC & CSARDLWFTSGENNEQFF & TRBV20-1*01 & TRBD2*01 & TRBJ2-1*01 & 0 &  3 & ⋯ & 5 & 8 &  3 & TCTGGTTT & AGA        &  TRUE & 2 & 0 & 0 & 0\\\\\n",
       "\\end{tabular}\n"
      ],
      "text/markdown": [
       "\n",
       "A data.frame: 6 × 21\n",
       "\n",
       "| <!--/--> | seq_index &lt;int&gt; | scenario_rank &lt;int&gt; | scenario_proba_cond_seq &lt;dbl&gt; | cdr3_nucseq &lt;chr&gt; | cdr3 &lt;chr&gt; | v_gene &lt;chr&gt; | d_gene &lt;chr&gt; | j_gene &lt;chr&gt; | v_trim &lt;int&gt; | d0_trim &lt;int&gt; | ⋯ ⋯ | j_trim &lt;int&gt; | vd_insert &lt;int&gt; | dj_insert &lt;int&gt; | vd_insert_nucs &lt;chr&gt; | dj_insert_nucs &lt;chr&gt; | productive &lt;lgl&gt; | v_pnuc &lt;int&gt; | d0_pnuc &lt;int&gt; | d1_pnuc &lt;int&gt; | j_pnuc &lt;int&gt; |\n",
       "|---|---|---|---|---|---|---|---|---|---|---|---|---|---|---|---|---|---|---|---|---|---|\n",
       "| 1 |   6 | 6 | 0.0393035 | TGCAGTGCTAGAGATATCAGCCCCAGCATTTT                       | <!----> | TRBV20-1*01 | TRBD2*02 | TRBJ1-5*01 | 0 | 12 | ⋯ | 6 | 0 |  0 | <!----> | <!----> | FALSE | 1 | 0 | 0 | 0 |\n",
       "| 2 |  37 | 3 | 0.0861763 | TGCAGTGCTTTACCGGGACAGTCGCCTACGAGCAGTACTTC              | <!----> | TRBV20-1*01 | TRBD1*01 | TRBJ2-7*01 | 6 |  0 | ⋯ | 2 | 4 |  3 | TTTA     | GCT        | FALSE | 0 | 2 | 0 | 0 |\n",
       "| 3 |  62 | 3 | 0.0783210 | TGCAGTGCTATCGGGACTAGCGGGACGAGCAATGAGCAGTTCTTC          | CSAIGTSGTSNEQFF    | TRBV20-1*01 | TRBD2*01 | TRBJ2-1*01 | 4 |  0 | ⋯ | 6 | 2 |  5 | TC       | GAGCA      |  TRUE | 0 | 0 | 0 | 0 |\n",
       "| 4 |  88 | 3 | 0.0782809 | TGCAGTGCTAGCCGGGACTACGGTTGGGACTATGGCTACACCTTC          | CSASRDYGWDYGYTF    | TRBV20-1*01 | TRBD2*02 | TRBJ1-2*01 | 3 |  0 | ⋯ | 3 | 0 | 10 | <!----> | GGGTTGGCAT |  TRUE | 0 | 2 | 0 | 0 |\n",
       "| 5 | 107 | 7 | 0.0231497 | TGCAGTGCTAGAGATGGGCCGGGAGAAAACATTCAGTACTTC             | CSARDGPGENIQYF     | TRBV20-1*01 | TRBD2*01 | TRBJ2-4*01 | 0 |  8 | ⋯ | 5 | 4 |  2 | GGGC     | GA         |  TRUE | 1 | 0 | 0 | 0 |\n",
       "| 6 | 184 | 2 | 0.1917440 | TGCAGTGCTAGAGATCTCTGGTTTACTAGCGGGGAGAACAATGAGCAGTTCTTC | CSARDLWFTSGENNEQFF | TRBV20-1*01 | TRBD2*01 | TRBJ2-1*01 | 0 |  3 | ⋯ | 5 | 8 |  3 | TCTGGTTT | AGA        |  TRUE | 2 | 0 | 0 | 0 |\n",
       "\n"
      ],
      "text/plain": [
       "  seq_index scenario_rank scenario_proba_cond_seq\n",
       "1   6       6             0.0393035              \n",
       "2  37       3             0.0861763              \n",
       "3  62       3             0.0783210              \n",
       "4  88       3             0.0782809              \n",
       "5 107       7             0.0231497              \n",
       "6 184       2             0.1917440              \n",
       "  cdr3_nucseq                                            cdr3              \n",
       "1 TGCAGTGCTAGAGATATCAGCCCCAGCATTTT                                         \n",
       "2 TGCAGTGCTTTACCGGGACAGTCGCCTACGAGCAGTACTTC                                \n",
       "3 TGCAGTGCTATCGGGACTAGCGGGACGAGCAATGAGCAGTTCTTC          CSAIGTSGTSNEQFF   \n",
       "4 TGCAGTGCTAGCCGGGACTACGGTTGGGACTATGGCTACACCTTC          CSASRDYGWDYGYTF   \n",
       "5 TGCAGTGCTAGAGATGGGCCGGGAGAAAACATTCAGTACTTC             CSARDGPGENIQYF    \n",
       "6 TGCAGTGCTAGAGATCTCTGGTTTACTAGCGGGGAGAACAATGAGCAGTTCTTC CSARDLWFTSGENNEQFF\n",
       "  v_gene      d_gene   j_gene     v_trim d0_trim ⋯ j_trim vd_insert dj_insert\n",
       "1 TRBV20-1*01 TRBD2*02 TRBJ1-5*01 0      12      ⋯ 6      0          0       \n",
       "2 TRBV20-1*01 TRBD1*01 TRBJ2-7*01 6       0      ⋯ 2      4          3       \n",
       "3 TRBV20-1*01 TRBD2*01 TRBJ2-1*01 4       0      ⋯ 6      2          5       \n",
       "4 TRBV20-1*01 TRBD2*02 TRBJ1-2*01 3       0      ⋯ 3      0         10       \n",
       "5 TRBV20-1*01 TRBD2*01 TRBJ2-4*01 0       8      ⋯ 5      4          2       \n",
       "6 TRBV20-1*01 TRBD2*01 TRBJ2-1*01 0       3      ⋯ 5      8          3       \n",
       "  vd_insert_nucs dj_insert_nucs productive v_pnuc d0_pnuc d1_pnuc j_pnuc\n",
       "1                               FALSE      1      0       0       0     \n",
       "2 TTTA           GCT            FALSE      0      2       0       0     \n",
       "3 TC             GAGCA           TRUE      0      0       0       0     \n",
       "4                GGGTTGGCAT      TRUE      0      2       0       0     \n",
       "5 GGGC           GA              TRUE      1      0       0       0     \n",
       "6 TCTGGTTT       AGA             TRUE      2      0       0       0     "
      ]
     },
     "metadata": {},
     "output_type": "display_data"
    }
   ],
   "source": [
    "# filter original data set by most frequently used V-gene\n",
    "most_frequent_V_data <- indiv2 %>%\n",
    "                            filter(v_gene == most_frequent_V$v_gene)\n",
    "head(most_frequent_V_data)"
   ]
  },
  {
   "cell_type": "code",
   "execution_count": 9,
   "metadata": {
    "vscode": {
     "languageId": "r"
    }
   },
   "outputs": [
    {
     "data": {
      "image/png": "[encoded data removed]",
      "text/plain": [
       "plot without title"
      ]
     },
     "metadata": {
      "image/png": {
       "height": 420,
       "width": 420
      }
     },
     "output_type": "display_data"
    }
   ],
   "source": [
    "# plot trimming distribution\n",
    "most_frequent_V_data %>%\n",
    "    ggplot(aes(x = v_trim)) +\n",
    "    geom_density() +\n",
    "    theme_classic()"
   ]
  },
  {
   "cell_type": "markdown",
   "metadata": {},
   "source": [
    "Calculate V-D N-insertion composition frequencies within individual 2"
   ]
  },
  {
   "cell_type": "code",
   "execution_count": 10,
   "metadata": {
    "vscode": {
     "languageId": "r"
    }
   },
   "outputs": [],
   "source": [
    "# filter for sequences that have VD N-inserts\n",
    "n_indiv2 <- indiv2 %>%\n",
    "                filter(vd_insert != 0)"
   ]
  },
  {
   "cell_type": "code",
   "execution_count": 11,
   "metadata": {
    "vscode": {
     "languageId": "r"
    }
   },
   "outputs": [
    {
     "data": {
      "text/plain": [
       "DNAStringSet object of length 63505:\n",
       "        width seq\n",
       "    [1]     4 \u001b[47m\u001b[30mA\u001b[39m\u001b[49m\u001b[47m\u001b[30mA\u001b[39m\u001b[49m\u001b[47m\u001b[30mT\u001b[39m\u001b[49m\u001b[47m\u001b[30mC\u001b[39m\u001b[49m\n",
       "    [2]     1 \u001b[47m\u001b[30mT\u001b[39m\u001b[49m\n",
       "    [3]     2 \u001b[47m\u001b[30mG\u001b[39m\u001b[49m\u001b[47m\u001b[30mT\u001b[39m\u001b[49m\n",
       "    [4]     3 \u001b[47m\u001b[30mC\u001b[39m\u001b[49m\u001b[47m\u001b[30mG\u001b[39m\u001b[49m\u001b[47m\u001b[30mG\u001b[39m\u001b[49m\n",
       "    [5]     2 \u001b[47m\u001b[30mT\u001b[39m\u001b[49m\u001b[47m\u001b[30mA\u001b[39m\u001b[49m\n",
       "    ...   ... ...\n",
       "[63501]    11 \u001b[47m\u001b[30mC\u001b[39m\u001b[49m\u001b[47m\u001b[30mT\u001b[39m\u001b[49m\u001b[47m\u001b[30mA\u001b[39m\u001b[49m\u001b[47m\u001b[30mC\u001b[39m\u001b[49m\u001b[47m\u001b[30mA\u001b[39m\u001b[49m\u001b[47m\u001b[30mA\u001b[39m\u001b[49m\u001b[47m\u001b[30mC\u001b[39m\u001b[49m\u001b[47m\u001b[30mT\u001b[39m\u001b[49m\u001b[47m\u001b[30mT\u001b[39m\u001b[49m\u001b[47m\u001b[30mA\u001b[39m\u001b[49m\u001b[47m\u001b[30mA\u001b[39m\u001b[49m\n",
       "[63502]     5 \u001b[47m\u001b[30mT\u001b[39m\u001b[49m\u001b[47m\u001b[30mC\u001b[39m\u001b[49m\u001b[47m\u001b[30mC\u001b[39m\u001b[49m\u001b[47m\u001b[30mA\u001b[39m\u001b[49m\u001b[47m\u001b[30mA\u001b[39m\u001b[49m\n",
       "[63503]     6 \u001b[47m\u001b[30mG\u001b[39m\u001b[49m\u001b[47m\u001b[30mG\u001b[39m\u001b[49m\u001b[47m\u001b[30mT\u001b[39m\u001b[49m\u001b[47m\u001b[30mG\u001b[39m\u001b[49m\u001b[47m\u001b[30mC\u001b[39m\u001b[49m\u001b[47m\u001b[30mG\u001b[39m\u001b[49m\n",
       "[63504]     7 \u001b[47m\u001b[30mC\u001b[39m\u001b[49m\u001b[47m\u001b[30mC\u001b[39m\u001b[49m\u001b[47m\u001b[30mG\u001b[39m\u001b[49m\u001b[47m\u001b[30mT\u001b[39m\u001b[49m\u001b[47m\u001b[30mC\u001b[39m\u001b[49m\u001b[47m\u001b[30mG\u001b[39m\u001b[49m\u001b[47m\u001b[30mG\u001b[39m\u001b[49m\n",
       "[63505]     5 \u001b[47m\u001b[30mC\u001b[39m\u001b[49m\u001b[47m\u001b[30mC\u001b[39m\u001b[49m\u001b[47m\u001b[30mC\u001b[39m\u001b[49m\u001b[47m\u001b[30mC\u001b[39m\u001b[49m\u001b[47m\u001b[30mC\u001b[39m\u001b[49m"
      ]
     },
     "metadata": {},
     "output_type": "display_data"
    }
   ],
   "source": [
    "# convert VD N-insert column to a BioStrings `DNAStringSet`\n",
    "nucs_indiv2 <- DNAStringSet(n_indiv2$vd_insert_nucs)\n",
    "\n",
    "nucs_indiv2"
   ]
  },
  {
   "cell_type": "code",
   "execution_count": 12,
   "metadata": {
    "vscode": {
     "languageId": "r"
    }
   },
   "outputs": [
    {
     "data": {
      "text/html": [
       "<style>\n",
       ".dl-inline {width: auto; margin:0; padding: 0}\n",
       ".dl-inline>dt, .dl-inline>dd {float: none; width: auto; display: inline-block}\n",
       ".dl-inline>dt::after {content: \":\\0020\"; padding-right: .5ex}\n",
       ".dl-inline>dt:not(:first-of-type) {padding-left: .5ex}\n",
       "</style><dl class=dl-inline><dt>A</dt><dd>0.203657740917866</dd><dt>T</dt><dd>0.210273018947878</dd><dt>C</dt><dd>0.331645041736452</dd><dt>G</dt><dd>0.254424198397805</dd></dl>\n"
      ],
      "text/latex": [
       "\\begin{description*}\n",
       "\\item[A] 0.203657740917866\n",
       "\\item[T] 0.210273018947878\n",
       "\\item[C] 0.331645041736452\n",
       "\\item[G] 0.254424198397805\n",
       "\\end{description*}\n"
      ],
      "text/markdown": [
       "A\n",
       ":   0.203657740917866T\n",
       ":   0.210273018947878C\n",
       ":   0.331645041736452G\n",
       ":   0.254424198397805\n",
       "\n"
      ],
      "text/plain": [
       "        A         T         C         G \n",
       "0.2036577 0.2102730 0.3316450 0.2544242 "
      ]
     },
     "metadata": {},
     "output_type": "display_data"
    }
   ],
   "source": [
    "# get frequencies\n",
    "nucs_indiv2 %>%\n",
    "  letterFrequency(c(\"A\", \"T\", \"C\", \"G\"), collapse = TRUE, as.prob = TRUE)"
   ]
  },
  {
   "cell_type": "markdown",
   "metadata": {},
   "source": [
    "# In-class exercises\n",
    "\n",
    "(20-30 minutes)"
   ]
  },
  {
   "cell_type": "markdown",
   "metadata": {},
   "source": [
    "### 1. Plot the distributions of V-gene trimming for each V-gene. Find the V-gene with the largest average number of nucleotides trimmed."
   ]
  },
  {
   "cell_type": "code",
   "execution_count": 14,
   "metadata": {
    "vscode": {
     "languageId": "r"
    }
   },
   "outputs": [
    {
     "data": {
      "image/png": "[encoded data removed]",
      "text/plain": [
       "plot without title"
      ]
     },
     "metadata": {
      "image/png": {
       "height": 420,
       "width": 420
      }
     },
     "output_type": "display_data"
    }
   ],
   "source": [
    "# plot distributions of trimming for each V-gene\n",
    "tog = rbind(indiv2, indiv1)\n",
    "\n",
    "tog %>%\n",
    "    ggplot(aes(x = v_trim, group = v_gene)) +\n",
    "    geom_density() +\n",
    "    theme_classic()"
   ]
  },
  {
   "cell_type": "code",
   "execution_count": 15,
   "metadata": {
    "vscode": {
     "languageId": "r"
    }
   },
   "outputs": [
    {
     "data": {
      "text/html": [
       "<table class=\"dataframe\">\n",
       "<caption>A tibble: 6 × 2</caption>\n",
       "<thead>\n",
       "\t<tr><th scope=col>v_gene</th><th scope=col>mean_v_trim</th></tr>\n",
       "\t<tr><th scope=col>&lt;chr&gt;</th><th scope=col>&lt;dbl&gt;</th></tr>\n",
       "</thead>\n",
       "<tbody>\n",
       "\t<tr><td>TRBV7-9*07 </td><td>7.000000</td></tr>\n",
       "\t<tr><td>TRBV10-2*01</td><td>5.569620</td></tr>\n",
       "\t<tr><td>TRBV2*03   </td><td>5.562390</td></tr>\n",
       "\t<tr><td>TRBV2*01   </td><td>5.436408</td></tr>\n",
       "\t<tr><td>TRBV6-1*01 </td><td>5.218858</td></tr>\n",
       "\t<tr><td>TRBV10-3*02</td><td>5.198895</td></tr>\n",
       "</tbody>\n",
       "</table>\n"
      ],
      "text/latex": [
       "A tibble: 6 × 2\n",
       "\\begin{tabular}{ll}\n",
       " v\\_gene & mean\\_v\\_trim\\\\\n",
       " <chr> & <dbl>\\\\\n",
       "\\hline\n",
       "\t TRBV7-9*07  & 7.000000\\\\\n",
       "\t TRBV10-2*01 & 5.569620\\\\\n",
       "\t TRBV2*03    & 5.562390\\\\\n",
       "\t TRBV2*01    & 5.436408\\\\\n",
       "\t TRBV6-1*01  & 5.218858\\\\\n",
       "\t TRBV10-3*02 & 5.198895\\\\\n",
       "\\end{tabular}\n"
      ],
      "text/markdown": [
       "\n",
       "A tibble: 6 × 2\n",
       "\n",
       "| v_gene &lt;chr&gt; | mean_v_trim &lt;dbl&gt; |\n",
       "|---|---|\n",
       "| TRBV7-9*07  | 7.000000 |\n",
       "| TRBV10-2*01 | 5.569620 |\n",
       "| TRBV2*03    | 5.562390 |\n",
       "| TRBV2*01    | 5.436408 |\n",
       "| TRBV6-1*01  | 5.218858 |\n",
       "| TRBV10-3*02 | 5.198895 |\n",
       "\n"
      ],
      "text/plain": [
       "  v_gene      mean_v_trim\n",
       "1 TRBV7-9*07  7.000000   \n",
       "2 TRBV10-2*01 5.569620   \n",
       "3 TRBV2*03    5.562390   \n",
       "4 TRBV2*01    5.436408   \n",
       "5 TRBV6-1*01  5.218858   \n",
       "6 TRBV10-3*02 5.198895   "
      ]
     },
     "metadata": {},
     "output_type": "display_data"
    }
   ],
   "source": [
    "# find the V-gene with the largest average number of trims\n",
    "tog %>%\n",
    "    group_by(v_gene) %>%\n",
    "    summarise(mean_v_trim = mean(v_trim)) %>%\n",
    "    arrange(desc(mean_v_trim)) %>%\n",
    "    head()"
   ]
  },
  {
   "cell_type": "markdown",
   "metadata": {},
   "source": [
    "### 2. Find the N-insertion base frequencies for each N-insertion junction (combining data from both individuals). Are they similar?\n",
    "\n",
    "_Hint: you can use the `rbind` function to combine data sets_"
   ]
  },
  {
   "cell_type": "code",
   "execution_count": 16,
   "metadata": {
    "vscode": {
     "languageId": "r"
    }
   },
   "outputs": [
    {
     "data": {
      "text/html": [
       "<style>\n",
       ".dl-inline {width: auto; margin:0; padding: 0}\n",
       ".dl-inline>dt, .dl-inline>dd {float: none; width: auto; display: inline-block}\n",
       ".dl-inline>dt::after {content: \":\\0020\"; padding-right: .5ex}\n",
       ".dl-inline>dt:not(:first-of-type) {padding-left: .5ex}\n",
       "</style><dl class=dl-inline><dt>A</dt><dd>0.198087429396819</dd><dt>T</dt><dd>0.204275454559213</dd><dt>C</dt><dd>0.33845470886855</dd><dt>G</dt><dd>0.259182407175419</dd></dl>\n"
      ],
      "text/latex": [
       "\\begin{description*}\n",
       "\\item[A] 0.198087429396819\n",
       "\\item[T] 0.204275454559213\n",
       "\\item[C] 0.33845470886855\n",
       "\\item[G] 0.259182407175419\n",
       "\\end{description*}\n"
      ],
      "text/markdown": [
       "A\n",
       ":   0.198087429396819T\n",
       ":   0.204275454559213C\n",
       ":   0.33845470886855G\n",
       ":   0.259182407175419\n",
       "\n"
      ],
      "text/plain": [
       "        A         T         C         G \n",
       "0.1980874 0.2042755 0.3384547 0.2591824 "
      ]
     },
     "metadata": {},
     "output_type": "display_data"
    }
   ],
   "source": [
    "# first find insertion frequencies for VD junction\n",
    "vd <- DNAStringSet(tog$vd_insert_nucs)\n",
    "vd %>%\n",
    "  letterFrequency(c(\"A\", \"T\", \"C\", \"G\"), collapse = TRUE, as.prob = TRUE)"
   ]
  },
  {
   "cell_type": "code",
   "execution_count": 17,
   "metadata": {
    "vscode": {
     "languageId": "r"
    }
   },
   "outputs": [
    {
     "data": {
      "text/html": [
       "<style>\n",
       ".dl-inline {width: auto; margin:0; padding: 0}\n",
       ".dl-inline>dt, .dl-inline>dd {float: none; width: auto; display: inline-block}\n",
       ".dl-inline>dt::after {content: \":\\0020\"; padding-right: .5ex}\n",
       ".dl-inline>dt:not(:first-of-type) {padding-left: .5ex}\n",
       "</style><dl class=dl-inline><dt>A</dt><dd>0.222591306474497</dd><dt>T</dt><dd>0.202161571796379</dd><dt>C</dt><dd>0.220033401845645</dd><dt>G</dt><dd>0.355213719883479</dd></dl>\n"
      ],
      "text/latex": [
       "\\begin{description*}\n",
       "\\item[A] 0.222591306474497\n",
       "\\item[T] 0.202161571796379\n",
       "\\item[C] 0.220033401845645\n",
       "\\item[G] 0.355213719883479\n",
       "\\end{description*}\n"
      ],
      "text/markdown": [
       "A\n",
       ":   0.222591306474497T\n",
       ":   0.202161571796379C\n",
       ":   0.220033401845645G\n",
       ":   0.355213719883479\n",
       "\n"
      ],
      "text/plain": [
       "        A         T         C         G \n",
       "0.2225913 0.2021616 0.2200334 0.3552137 "
      ]
     },
     "metadata": {},
     "output_type": "display_data"
    }
   ],
   "source": [
    "# then find insertion frequencies for DJ junction\n",
    "dj <- DNAStringSet(tog$dj_insert_nucs)\n",
    "dj %>%\n",
    "  letterFrequency(c(\"A\", \"T\", \"C\", \"G\"), collapse = TRUE, as.prob = TRUE)"
   ]
  },
  {
   "cell_type": "markdown",
   "metadata": {},
   "source": [
    "### 3. Find the rearrangement/s (`cdr3` column) which have the largest overlap between the two individuals. Pick one of the largest overlap rearrangements--which nucleotide rearrangment most commonly leads to that CDR3 amino acid sequence for each individual?\n",
    "\n",
    "_Hint: there are many ways to do this..._"
   ]
  },
  {
   "cell_type": "code",
   "execution_count": 18,
   "metadata": {
    "vscode": {
     "languageId": "r"
    }
   },
   "outputs": [
    {
     "data": {
      "text/html": [
       "<table class=\"dataframe\">\n",
       "<caption>A data.frame: 6 × 3</caption>\n",
       "<thead>\n",
       "\t<tr><th></th><th scope=col>cdr3</th><th scope=col>cdr3_count_indiv1</th><th scope=col>cdr3_count_indiv2</th></tr>\n",
       "\t<tr><th></th><th scope=col>&lt;chr&gt;</th><th scope=col>&lt;int&gt;</th><th scope=col>&lt;int&gt;</th></tr>\n",
       "</thead>\n",
       "<tbody>\n",
       "\t<tr><th scope=row>1</th><td>CAIRGQGVTDTQYF</td><td>1</td><td>1</td></tr>\n",
       "\t<tr><th scope=row>2</th><td>CAISEGGDTEAFF </td><td>1</td><td>1</td></tr>\n",
       "\t<tr><th scope=row>3</th><td>CASGDTQYF     </td><td>1</td><td>1</td></tr>\n",
       "\t<tr><th scope=row>4</th><td>CASGETQYF     </td><td>1</td><td>1</td></tr>\n",
       "\t<tr><th scope=row>5</th><td>CASGLAGVYEQYF </td><td>1</td><td>1</td></tr>\n",
       "\t<tr><th scope=row>6</th><td>CASGLGQETQYF  </td><td>1</td><td>1</td></tr>\n",
       "</tbody>\n",
       "</table>\n"
      ],
      "text/latex": [
       "A data.frame: 6 × 3\n",
       "\\begin{tabular}{r|lll}\n",
       "  & cdr3 & cdr3\\_count\\_indiv1 & cdr3\\_count\\_indiv2\\\\\n",
       "  & <chr> & <int> & <int>\\\\\n",
       "\\hline\n",
       "\t1 & CAIRGQGVTDTQYF & 1 & 1\\\\\n",
       "\t2 & CAISEGGDTEAFF  & 1 & 1\\\\\n",
       "\t3 & CASGDTQYF      & 1 & 1\\\\\n",
       "\t4 & CASGETQYF      & 1 & 1\\\\\n",
       "\t5 & CASGLAGVYEQYF  & 1 & 1\\\\\n",
       "\t6 & CASGLGQETQYF   & 1 & 1\\\\\n",
       "\\end{tabular}\n"
      ],
      "text/markdown": [
       "\n",
       "A data.frame: 6 × 3\n",
       "\n",
       "| <!--/--> | cdr3 &lt;chr&gt; | cdr3_count_indiv1 &lt;int&gt; | cdr3_count_indiv2 &lt;int&gt; |\n",
       "|---|---|---|---|\n",
       "| 1 | CAIRGQGVTDTQYF | 1 | 1 |\n",
       "| 2 | CAISEGGDTEAFF  | 1 | 1 |\n",
       "| 3 | CASGDTQYF      | 1 | 1 |\n",
       "| 4 | CASGETQYF      | 1 | 1 |\n",
       "| 5 | CASGLAGVYEQYF  | 1 | 1 |\n",
       "| 6 | CASGLGQETQYF   | 1 | 1 |\n",
       "\n"
      ],
      "text/plain": [
       "  cdr3           cdr3_count_indiv1 cdr3_count_indiv2\n",
       "1 CAIRGQGVTDTQYF 1                 1                \n",
       "2 CAISEGGDTEAFF  1                 1                \n",
       "3 CASGDTQYF      1                 1                \n",
       "4 CASGETQYF      1                 1                \n",
       "5 CASGLAGVYEQYF  1                 1                \n",
       "6 CASGLGQETQYF   1                 1                "
      ]
     },
     "metadata": {},
     "output_type": "display_data"
    }
   ],
   "source": [
    "# find the cdr3 counts for each individual\n",
    "indiv1_count <- indiv1 %>%\n",
    "                    filter(cdr3 != '') %>%\n",
    "                    group_by(cdr3) %>%\n",
    "                    summarise(cdr3_count_indiv1 = n())\n",
    "\n",
    "indiv2_count <- indiv2 %>%\n",
    "                    filter(cdr3 != '') %>%\n",
    "                    group_by(cdr3) %>%\n",
    "                    summarise(cdr3_count_indiv2 = n())\n",
    "\n",
    "# merge count dataframes from both individuals\n",
    "m <- merge(indiv1_count, indiv2_count)\n",
    "head(m)"
   ]
  },
  {
   "cell_type": "code",
   "execution_count": 19,
   "metadata": {
    "vscode": {
     "languageId": "r"
    }
   },
   "outputs": [
    {
     "data": {
      "text/html": [
       "<table class=\"dataframe\">\n",
       "<caption>A data.frame: 6 × 4</caption>\n",
       "<thead>\n",
       "\t<tr><th></th><th scope=col>cdr3</th><th scope=col>cdr3_count_indiv1</th><th scope=col>cdr3_count_indiv2</th><th scope=col>overlap</th></tr>\n",
       "\t<tr><th></th><th scope=col>&lt;chr&gt;</th><th scope=col>&lt;int&gt;</th><th scope=col>&lt;int&gt;</th><th scope=col>&lt;int&gt;</th></tr>\n",
       "</thead>\n",
       "<tbody>\n",
       "\t<tr><th scope=row>1</th><td>CASSFQETQYF  </td><td>4</td><td>6</td><td>4</td></tr>\n",
       "\t<tr><th scope=row>2</th><td>CASSLGGNTEAFF</td><td>4</td><td>5</td><td>4</td></tr>\n",
       "\t<tr><th scope=row>3</th><td>CASSLQETQYF  </td><td>4</td><td>5</td><td>4</td></tr>\n",
       "\t<tr><th scope=row>4</th><td>CASSLAGYEQYF </td><td>3</td><td>5</td><td>3</td></tr>\n",
       "\t<tr><th scope=row>5</th><td>CASSLGGSYEQYF</td><td>4</td><td>3</td><td>3</td></tr>\n",
       "\t<tr><th scope=row>6</th><td>CASSLGGTDTQYF</td><td>3</td><td>4</td><td>3</td></tr>\n",
       "</tbody>\n",
       "</table>\n"
      ],
      "text/latex": [
       "A data.frame: 6 × 4\n",
       "\\begin{tabular}{r|llll}\n",
       "  & cdr3 & cdr3\\_count\\_indiv1 & cdr3\\_count\\_indiv2 & overlap\\\\\n",
       "  & <chr> & <int> & <int> & <int>\\\\\n",
       "\\hline\n",
       "\t1 & CASSFQETQYF   & 4 & 6 & 4\\\\\n",
       "\t2 & CASSLGGNTEAFF & 4 & 5 & 4\\\\\n",
       "\t3 & CASSLQETQYF   & 4 & 5 & 4\\\\\n",
       "\t4 & CASSLAGYEQYF  & 3 & 5 & 3\\\\\n",
       "\t5 & CASSLGGSYEQYF & 4 & 3 & 3\\\\\n",
       "\t6 & CASSLGGTDTQYF & 3 & 4 & 3\\\\\n",
       "\\end{tabular}\n"
      ],
      "text/markdown": [
       "\n",
       "A data.frame: 6 × 4\n",
       "\n",
       "| <!--/--> | cdr3 &lt;chr&gt; | cdr3_count_indiv1 &lt;int&gt; | cdr3_count_indiv2 &lt;int&gt; | overlap &lt;int&gt; |\n",
       "|---|---|---|---|---|\n",
       "| 1 | CASSFQETQYF   | 4 | 6 | 4 |\n",
       "| 2 | CASSLGGNTEAFF | 4 | 5 | 4 |\n",
       "| 3 | CASSLQETQYF   | 4 | 5 | 4 |\n",
       "| 4 | CASSLAGYEQYF  | 3 | 5 | 3 |\n",
       "| 5 | CASSLGGSYEQYF | 4 | 3 | 3 |\n",
       "| 6 | CASSLGGTDTQYF | 3 | 4 | 3 |\n",
       "\n"
      ],
      "text/plain": [
       "  cdr3          cdr3_count_indiv1 cdr3_count_indiv2 overlap\n",
       "1 CASSFQETQYF   4                 6                 4      \n",
       "2 CASSLGGNTEAFF 4                 5                 4      \n",
       "3 CASSLQETQYF   4                 5                 4      \n",
       "4 CASSLAGYEQYF  3                 5                 3      \n",
       "5 CASSLGGSYEQYF 4                 3                 3      \n",
       "6 CASSLGGTDTQYF 3                 4                 3      "
      ]
     },
     "metadata": {},
     "output_type": "display_data"
    }
   ],
   "source": [
    "# get overlaps for each cdr3\n",
    "overlap <- m %>%\n",
    "            filter(cdr3_count_indiv1 >= 1) %>%\n",
    "            filter(cdr3_count_indiv2 >= 1) %>%\n",
    "            mutate(overlap = pmin(cdr3_count_indiv1, cdr3_count_indiv2)) %>%\n",
    "            arrange(desc(overlap))\n",
    "head(overlap)"
   ]
  },
  {
   "cell_type": "code",
   "execution_count": 20,
   "metadata": {
    "vscode": {
     "languageId": "r"
    }
   },
   "outputs": [
    {
     "data": {
      "text/html": [
       "<table class=\"dataframe\">\n",
       "<caption>A data.frame: 3 × 4</caption>\n",
       "<thead>\n",
       "\t<tr><th scope=col>cdr3</th><th scope=col>cdr3_count_indiv1</th><th scope=col>cdr3_count_indiv2</th><th scope=col>overlap</th></tr>\n",
       "\t<tr><th scope=col>&lt;chr&gt;</th><th scope=col>&lt;int&gt;</th><th scope=col>&lt;int&gt;</th><th scope=col>&lt;int&gt;</th></tr>\n",
       "</thead>\n",
       "<tbody>\n",
       "\t<tr><td>CASSFQETQYF  </td><td>4</td><td>6</td><td>4</td></tr>\n",
       "\t<tr><td>CASSLGGNTEAFF</td><td>4</td><td>5</td><td>4</td></tr>\n",
       "\t<tr><td>CASSLQETQYF  </td><td>4</td><td>5</td><td>4</td></tr>\n",
       "</tbody>\n",
       "</table>\n"
      ],
      "text/latex": [
       "A data.frame: 3 × 4\n",
       "\\begin{tabular}{llll}\n",
       " cdr3 & cdr3\\_count\\_indiv1 & cdr3\\_count\\_indiv2 & overlap\\\\\n",
       " <chr> & <int> & <int> & <int>\\\\\n",
       "\\hline\n",
       "\t CASSFQETQYF   & 4 & 6 & 4\\\\\n",
       "\t CASSLGGNTEAFF & 4 & 5 & 4\\\\\n",
       "\t CASSLQETQYF   & 4 & 5 & 4\\\\\n",
       "\\end{tabular}\n"
      ],
      "text/markdown": [
       "\n",
       "A data.frame: 3 × 4\n",
       "\n",
       "| cdr3 &lt;chr&gt; | cdr3_count_indiv1 &lt;int&gt; | cdr3_count_indiv2 &lt;int&gt; | overlap &lt;int&gt; |\n",
       "|---|---|---|---|\n",
       "| CASSFQETQYF   | 4 | 6 | 4 |\n",
       "| CASSLGGNTEAFF | 4 | 5 | 4 |\n",
       "| CASSLQETQYF   | 4 | 5 | 4 |\n",
       "\n"
      ],
      "text/plain": [
       "  cdr3          cdr3_count_indiv1 cdr3_count_indiv2 overlap\n",
       "1 CASSFQETQYF   4                 6                 4      \n",
       "2 CASSLGGNTEAFF 4                 5                 4      \n",
       "3 CASSLQETQYF   4                 5                 4      "
      ]
     },
     "metadata": {},
     "output_type": "display_data"
    }
   ],
   "source": [
    "# get the max overlap count, and filter the overlap dataframe accordingly\n",
    "max_overlap = max(overlap$overlap)\n",
    "max = overlap %>%\n",
    "        filter(overlap == max_overlap)\n",
    "\n",
    "max"
   ]
  },
  {
   "cell_type": "code",
   "execution_count": 23,
   "metadata": {
    "vscode": {
     "languageId": "r"
    }
   },
   "outputs": [
    {
     "data": {
      "text/html": [
       "'CASSFQETQYF'"
      ],
      "text/latex": [
       "'CASSFQETQYF'"
      ],
      "text/markdown": [
       "'CASSFQETQYF'"
      ],
      "text/plain": [
       "[1] \"CASSFQETQYF\""
      ]
     },
     "metadata": {},
     "output_type": "display_data"
    }
   ],
   "source": [
    "# choose one of the max overlap cdr3 amino acid sequences\n",
    "# this line will get the cdr3 shown in the first row of the `max` dataframe        \n",
    "test = max[1,]$cdr3\n",
    "test"
   ]
  },
  {
   "cell_type": "code",
   "execution_count": 25,
   "metadata": {
    "vscode": {
     "languageId": "r"
    }
   },
   "outputs": [
    {
     "data": {
      "text/html": [
       "<table class=\"dataframe\">\n",
       "<caption>A tibble: 2 × 2</caption>\n",
       "<thead>\n",
       "\t<tr><th scope=col>cdr3_nucseq</th><th scope=col>nuc_count</th></tr>\n",
       "\t<tr><th scope=col>&lt;chr&gt;</th><th scope=col>&lt;int&gt;</th></tr>\n",
       "</thead>\n",
       "<tbody>\n",
       "\t<tr><td>TGTGCCAGCAGCTTCCAAGAGACCCAGTACTTC</td><td>3</td></tr>\n",
       "\t<tr><td>TGTGCCAGCAGCTTTCAAGAGACCCAGTACTTC</td><td>1</td></tr>\n",
       "</tbody>\n",
       "</table>\n"
      ],
      "text/latex": [
       "A tibble: 2 × 2\n",
       "\\begin{tabular}{ll}\n",
       " cdr3\\_nucseq & nuc\\_count\\\\\n",
       " <chr> & <int>\\\\\n",
       "\\hline\n",
       "\t TGTGCCAGCAGCTTCCAAGAGACCCAGTACTTC & 3\\\\\n",
       "\t TGTGCCAGCAGCTTTCAAGAGACCCAGTACTTC & 1\\\\\n",
       "\\end{tabular}\n"
      ],
      "text/markdown": [
       "\n",
       "A tibble: 2 × 2\n",
       "\n",
       "| cdr3_nucseq &lt;chr&gt; | nuc_count &lt;int&gt; |\n",
       "|---|---|\n",
       "| TGTGCCAGCAGCTTCCAAGAGACCCAGTACTTC | 3 |\n",
       "| TGTGCCAGCAGCTTTCAAGAGACCCAGTACTTC | 1 |\n",
       "\n"
      ],
      "text/plain": [
       "  cdr3_nucseq                       nuc_count\n",
       "1 TGTGCCAGCAGCTTCCAAGAGACCCAGTACTTC 3        \n",
       "2 TGTGCCAGCAGCTTTCAAGAGACCCAGTACTTC 1        "
      ]
     },
     "metadata": {},
     "output_type": "display_data"
    }
   ],
   "source": [
    "# for each individual 1, find the nt rearrangment that most commonly gives rise to the AA sequence\n",
    "indiv1 %>%\n",
    "    filter(cdr3 == test) %>%\n",
    "    group_by(cdr3_nucseq) %>%\n",
    "    summarise(nuc_count = n()) %>%\n",
    "    arrange(desc(nuc_count))"
   ]
  },
  {
   "cell_type": "code",
   "execution_count": 26,
   "metadata": {
    "vscode": {
     "languageId": "r"
    }
   },
   "outputs": [
    {
     "data": {
      "text/html": [
       "<table class=\"dataframe\">\n",
       "<caption>A tibble: 3 × 2</caption>\n",
       "<thead>\n",
       "\t<tr><th scope=col>cdr3_nucseq</th><th scope=col>nuc_count</th></tr>\n",
       "\t<tr><th scope=col>&lt;chr&gt;</th><th scope=col>&lt;int&gt;</th></tr>\n",
       "</thead>\n",
       "<tbody>\n",
       "\t<tr><td>TGCGCCAGCAGCTTCCAAGAGACCCAGTACTTC</td><td>3</td></tr>\n",
       "\t<tr><td>TGTGCCAGCAGCTTCCAAGAGACCCAGTACTTC</td><td>2</td></tr>\n",
       "\t<tr><td>TGTGCCAGCAGCTTTCAAGAGACCCAGTACTTC</td><td>1</td></tr>\n",
       "</tbody>\n",
       "</table>\n"
      ],
      "text/latex": [
       "A tibble: 3 × 2\n",
       "\\begin{tabular}{ll}\n",
       " cdr3\\_nucseq & nuc\\_count\\\\\n",
       " <chr> & <int>\\\\\n",
       "\\hline\n",
       "\t TGCGCCAGCAGCTTCCAAGAGACCCAGTACTTC & 3\\\\\n",
       "\t TGTGCCAGCAGCTTCCAAGAGACCCAGTACTTC & 2\\\\\n",
       "\t TGTGCCAGCAGCTTTCAAGAGACCCAGTACTTC & 1\\\\\n",
       "\\end{tabular}\n"
      ],
      "text/markdown": [
       "\n",
       "A tibble: 3 × 2\n",
       "\n",
       "| cdr3_nucseq &lt;chr&gt; | nuc_count &lt;int&gt; |\n",
       "|---|---|\n",
       "| TGCGCCAGCAGCTTCCAAGAGACCCAGTACTTC | 3 |\n",
       "| TGTGCCAGCAGCTTCCAAGAGACCCAGTACTTC | 2 |\n",
       "| TGTGCCAGCAGCTTTCAAGAGACCCAGTACTTC | 1 |\n",
       "\n"
      ],
      "text/plain": [
       "  cdr3_nucseq                       nuc_count\n",
       "1 TGCGCCAGCAGCTTCCAAGAGACCCAGTACTTC 3        \n",
       "2 TGTGCCAGCAGCTTCCAAGAGACCCAGTACTTC 2        \n",
       "3 TGTGCCAGCAGCTTTCAAGAGACCCAGTACTTC 1        "
      ]
     },
     "metadata": {},
     "output_type": "display_data"
    }
   ],
   "source": [
    "# for each individual 2, find the nt rearrangment that most commonly gives rise to the AA sequence\n",
    "indiv2 %>%\n",
    "    filter(cdr3 == test) %>%\n",
    "    group_by(cdr3_nucseq) %>%\n",
    "    summarise(nuc_count = n()) %>%\n",
    "    arrange(desc(nuc_count))"
   ]
  },
  {
   "cell_type": "code",
   "execution_count": null,
   "metadata": {
    "vscode": {
     "languageId": "r"
    }
   },
   "outputs": [],
   "source": []
  }
 ],
 "metadata": {
  "kernelspec": {
   "display_name": "R",
   "language": "R",
   "name": "ir"
  },
  "language_info": {
   "codemirror_mode": "r",
   "file_extension": ".r",
   "mimetype": "text/x-r-source",
   "name": "R",
   "pygments_lexer": "r",
   "version": "4.1.3"
  },
  "orig_nbformat": 4
 },
 "nbformat": 4,
 "nbformat_minor": 2
}
