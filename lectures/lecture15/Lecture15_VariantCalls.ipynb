{
 "cells": [
  {
   "cell_type": "markdown",
   "id": "31fc1505-6397-40ed-96da-5ab350d3cc78",
   "metadata": {},
   "source": [
    "We will learn to read VCF files within R using a publicly available dataset of genomic variant calls for the infamous individual, NA12878. The Genome-in-a-Bottle Consortium has compiled consensus variant calls on this individual's genome and released this data for researchers to use. One of the main purposes of this data is to provide a benchmark for those to develop computational tools and analysis of human genomes. See https://github.com/genome-in-a-bottle/giab_latest_release\n",
    "\n",
    "Variant Call Format (VCF) is a very common format for representing genomic variation data. See Lecture 16: Slides 19.\n",
    "\n",
    "## 0. Install and load the `VariantAnnotation` Bioconductor package \n",
    "Load the `VariantAnnotation` package"
   ]
  },
  {
   "cell_type": "code",
   "execution_count": 1,
   "id": "54a50e1d-084a-4a43-8650-8fd7899172c1",
   "metadata": {
    "vscode": {
     "languageId": "r"
    }
   },
   "outputs": [],
   "source": [
    "#Sys.unsetenv(\"DISPLAY\")\n",
    "\n",
    "suppressPackageStartupMessages({\n",
    "    #library(tidyverse)\n",
    "    #library(GenomicRanges)\n",
    "    #library(plyranges)\n",
    "    library(VariantAnnotation)\n",
    "    #library(Rsamtools)\n",
    "})"
   ]
  },
  {
   "cell_type": "markdown",
   "id": "8a2b8a0b-63b9-4dc3-88df-229ed2204a9a",
   "metadata": {
    "tags": []
   },
   "source": [
    "## 1. Prepare parameters for reading VCF file.\n",
    "There are a lot of variants in this file `GIAB_highconf_v.3.3.2.vcf.gz`, so we want to restrict to a smaller region for this example. \n",
    "\n",
    "### a. Setup parameters for scanning the VCF file.\n",
    "First, we need to set up a `ScanVcfParam` object to read within `17:35500000-36000000`."
   ]
  },
  {
   "cell_type": "code",
   "execution_count": 3,
   "id": "7f3f9c57-2264-4722-9e5f-6cf01ad40a60",
   "metadata": {
    "vscode": {
     "languageId": "r"
    }
   },
   "outputs": [
    {
     "data": {
      "text/html": [
       "'/fh/fast/henikoff_s/user/jgreene/projects/sciCnT/code'"
      ],
      "text/latex": [
       "'/fh/fast/henikoff\\_s/user/jgreene/projects/sciCnT/code'"
      ],
      "text/markdown": [
       "'/fh/fast/henikoff_s/user/jgreene/projects/sciCnT/code'"
      ],
      "text/plain": [
       "[1] \"/fh/fast/henikoff_s/user/jgreene/projects/sciCnT/code\""
      ]
     },
     "metadata": {},
     "output_type": "display_data"
    },
    {
     "data": {
      "text/html": [
       "'/fh/fast/henikoff_s/user/jgreene/projects/TFCB/data'"
      ],
      "text/latex": [
       "'/fh/fast/henikoff\\_s/user/jgreene/projects/TFCB/data'"
      ],
      "text/markdown": [
       "'/fh/fast/henikoff_s/user/jgreene/projects/TFCB/data'"
      ],
      "text/plain": [
       "[1] \"/fh/fast/henikoff_s/user/jgreene/projects/TFCB/data\""
      ]
     },
     "metadata": {},
     "output_type": "display_data"
    }
   ],
   "source": [
    "#old wdir\n",
    "getwd()\n",
    "\n",
    "#new wdir\n",
    "data_dir = 'data'\n",
    "setwd(data_dir)\n",
    "getwd()"
   ]
  },
  {
   "cell_type": "code",
   "execution_count": 4,
   "id": "bef4d8cd-5429-41ca-914f-03049b53486c",
   "metadata": {
    "vscode": {
     "languageId": "r"
    }
   },
   "outputs": [
    {
     "data": {
      "text/html": [
       "<style>\n",
       ".list-inline {list-style: none; margin:0; padding: 0}\n",
       ".list-inline>li {display: inline-block}\n",
       ".list-inline>li:not(:last-child)::after {content: \"\\00b7\"; padding: 0 .5ex}\n",
       "</style>\n",
       "<ol class=list-inline><li>'BRCA_IDC_cfDNA.bam'</li><li>'BRCA_IDC_cfDNA.bam.bai'</li><li>'BRCA.genome_wide_snp_6_broad_Level_3_scna.seg'</li><li>'drive-download-20221115T203016Z-003.zip'</li><li>'GIAB_highconf_v.3.3.2.vcf.gz'</li><li>'GIAB_highconf_v.3.3.2.vcf.gz.tbi'</li><li>'hs37d5-002.fa'</li><li>'hs37d5.fa.gz.fai'</li></ol>\n"
      ],
      "text/latex": [
       "\\begin{enumerate*}\n",
       "\\item 'BRCA\\_IDC\\_cfDNA.bam'\n",
       "\\item 'BRCA\\_IDC\\_cfDNA.bam.bai'\n",
       "\\item 'BRCA.genome\\_wide\\_snp\\_6\\_broad\\_Level\\_3\\_scna.seg'\n",
       "\\item 'drive-download-20221115T203016Z-003.zip'\n",
       "\\item 'GIAB\\_highconf\\_v.3.3.2.vcf.gz'\n",
       "\\item 'GIAB\\_highconf\\_v.3.3.2.vcf.gz.tbi'\n",
       "\\item 'hs37d5-002.fa'\n",
       "\\item 'hs37d5.fa.gz.fai'\n",
       "\\end{enumerate*}\n"
      ],
      "text/markdown": [
       "1. 'BRCA_IDC_cfDNA.bam'\n",
       "2. 'BRCA_IDC_cfDNA.bam.bai'\n",
       "3. 'BRCA.genome_wide_snp_6_broad_Level_3_scna.seg'\n",
       "4. 'drive-download-20221115T203016Z-003.zip'\n",
       "5. 'GIAB_highconf_v.3.3.2.vcf.gz'\n",
       "6. 'GIAB_highconf_v.3.3.2.vcf.gz.tbi'\n",
       "7. 'hs37d5-002.fa'\n",
       "8. 'hs37d5.fa.gz.fai'\n",
       "\n",
       "\n"
      ],
      "text/plain": [
       "[1] \"BRCA_IDC_cfDNA.bam\"                           \n",
       "[2] \"BRCA_IDC_cfDNA.bam.bai\"                       \n",
       "[3] \"BRCA.genome_wide_snp_6_broad_Level_3_scna.seg\"\n",
       "[4] \"drive-download-20221115T203016Z-003.zip\"      \n",
       "[5] \"GIAB_highconf_v.3.3.2.vcf.gz\"                 \n",
       "[6] \"GIAB_highconf_v.3.3.2.vcf.gz.tbi\"             \n",
       "[7] \"hs37d5-002.fa\"                                \n",
       "[8] \"hs37d5.fa.gz.fai\"                             "
      ]
     },
     "metadata": {},
     "output_type": "display_data"
    }
   ],
   "source": [
    "list.files()"
   ]
  },
  {
   "cell_type": "code",
   "execution_count": 5,
   "id": "0e45394d-1199-486c-9e5d-e3796f8cebab",
   "metadata": {
    "vscode": {
     "languageId": "r"
    }
   },
   "outputs": [],
   "source": [
    "vcfFile <- \"GIAB_highconf_v.3.3.2.vcf.gz\"\n",
    "vcfHead <- scanVcfHeader(vcfFile)\n",
    "myGRange4 <- GRanges(seqnames = \"17\", ranges = IRanges(start = 35500000, end = 36000000))\n",
    "vcf.param <- ScanVcfParam(which = myGRange4) "
   ]
  },
  {
   "cell_type": "markdown",
   "id": "8ebe9cb6-35ab-4279-b0bb-2fb256046ec1",
   "metadata": {},
   "source": [
    "## 2. Read the VCF file."
   ]
  },
  {
   "cell_type": "code",
   "execution_count": 6,
   "id": "f2a50dd7-2590-4a7e-a9f3-bd735eaf8735",
   "metadata": {
    "vscode": {
     "languageId": "r"
    }
   },
   "outputs": [],
   "source": [
    "vcf <- readVcf(vcfFile, genome = \"hg19\", param = vcf.param)"
   ]
  },
  {
   "cell_type": "markdown",
   "id": "9d16103d-e53b-44cb-be20-41830ef5a3e8",
   "metadata": {},
   "source": [
    "The `vcf` variable is of class `CollapsedVCF` and will contain header information and data. Let's see what information has been parsed by `readVcf`.\n",
    "\n",
    "## 3. Extract the contents of the VCF entries.\n",
    "\n",
    "### a. Return the variants in this region as a `GRanges` object.\n",
    "The `rowRanges` function will return a `GRanges` object containing the coordinates, REF/ALT bases, quality, and filtering status of the variants."
   ]
  },
  {
   "cell_type": "code",
   "execution_count": 7,
   "id": "125d6ff2-5abf-4fd4-ba0d-487925887a55",
   "metadata": {
    "vscode": {
     "languageId": "r"
    }
   },
   "outputs": [
    {
     "data": {
      "text/plain": [
       "GRanges object with 332 ranges and 5 metadata columns:\n",
       "              seqnames            ranges strand | paramRangeID            REF\n",
       "                 <Rle>         <IRanges>  <Rle> |     <factor> <DNAStringSet>\n",
       "    rs2411161       17          35501799      * |           NA              C\n",
       "    rs8073074       17          35502949      * |           NA              A\n",
       "    rs4523972       17          35507230      * |           NA              C\n",
       "  rs111498996       17 35507465-35507466      * |           NA             CA\n",
       "    rs8077266       17          35509302      * |           NA              A\n",
       "          ...      ...               ...    ... .          ...            ...\n",
       "    rs8080225       17          35996195      * |           NA              T\n",
       "    rs8075378       17          35996582      * |           NA              G\n",
       "    rs6607281       17          35997126      * |           NA              T\n",
       "    rs4332783       17          35997674      * |           NA              A\n",
       "   rs71984199       17          35998800      * |           NA              C\n",
       "                             ALT      QUAL      FILTER\n",
       "              <DNAStringSetList> <numeric> <character>\n",
       "    rs2411161                  T        50        PASS\n",
       "    rs8073074                  G        50        PASS\n",
       "    rs4523972                  T        50        PASS\n",
       "  rs111498996                  C        50        PASS\n",
       "    rs8077266                  G        50        PASS\n",
       "          ...                ...       ...         ...\n",
       "    rs8080225                  C        50        PASS\n",
       "    rs8075378                  A        50        PASS\n",
       "    rs6607281                  C        50        PASS\n",
       "    rs4332783                  G        50        PASS\n",
       "   rs71984199                 CT        50        PASS\n",
       "  -------\n",
       "  seqinfo: 25 sequences from hg19 genome"
      ]
     },
     "metadata": {},
     "output_type": "display_data"
    }
   ],
   "source": [
    "rowRanges(vcf)"
   ]
  },
  {
   "cell_type": "markdown",
   "id": "a6c5a003-3f0e-4744-94c8-0ffa1862c4d4",
   "metadata": {
    "tags": []
   },
   "source": [
    "### b. Inspect the header information\n",
    "The `INFO` column in the original VCF text file contains a semi-colon delimited set of custom fields with flexible format that algorithms will output.  Here, it is parsed into usable format. First, let's look at what fields are available from the header."
   ]
  },
  {
   "cell_type": "code",
   "execution_count": 8,
   "id": "cec273b2-0e1a-4251-ad89-2ca9deeabbf7",
   "metadata": {
    "vscode": {
     "languageId": "r"
    }
   },
   "outputs": [
    {
     "data": {
      "text/plain": [
       "DataFrame with 332 rows and 16 columns\n",
       "                DPSum platforms       platformnames    platformbias  datasets\n",
       "            <integer> <integer>     <CharacterList> <CharacterList> <integer>\n",
       "rs2411161          NA         3   Illumina,CG,Solid                         3\n",
       "rs8073074          NA         3   Illumina,CG,Solid                         4\n",
       "rs4523972          NA         3   Illumina,CG,Solid                         3\n",
       "rs111498996        NA         1            Illumina                         1\n",
       "rs8077266          NA         3   Illumina,CG,Solid                         4\n",
       "...               ...       ...                 ...             ...       ...\n",
       "rs8080225          NA         4 Illumina,CG,10X,...                         4\n",
       "rs8075378          NA         4 Illumina,CG,10X,...                         5\n",
       "rs6607281          NA         4 Illumina,CG,10X,...                         4\n",
       "rs4332783          NA         3     Illumina,CG,10X                         3\n",
       "rs71984199         NA         2         Illumina,CG                         2\n",
       "                                       datasetnames\n",
       "                                    <CharacterList>\n",
       "rs2411161          HiSeqPE300x,CGnormal,SolidSE75bp\n",
       "rs8073074   HiSeqPE300x,CGnormal,SolidPE50x50bp,...\n",
       "rs4523972       HiSeqPE300x,CGnormal,SolidPE50x50bp\n",
       "rs111498996                             HiSeqPE300x\n",
       "rs8077266   HiSeqPE300x,CGnormal,SolidPE50x50bp,...\n",
       "...                                             ...\n",
       "rs8080225      HiSeqPE300x,CGnormal,10XChromium,...\n",
       "rs8075378      HiSeqPE300x,CGnormal,10XChromium,...\n",
       "rs6607281      HiSeqPE300x,CGnormal,10XChromium,...\n",
       "rs4332783          HiSeqPE300x,CGnormal,10XChromium\n",
       "rs71984199                     HiSeqPE300x,CGnormal\n",
       "                                datasetsmissingcall  callsets\n",
       "                                    <CharacterList> <integer>\n",
       "rs2411161       10XChromium,IonExome,SolidPE50x50bp         4\n",
       "rs8073074                      10XChromium,IonExome         5\n",
       "rs4523972          10XChromium,IonExome,SolidSE75bp         4\n",
       "rs111498996       CGnormal,10XChromium,IonExome,...         2\n",
       "rs8077266                      10XChromium,IonExome         5\n",
       "...                                             ...       ...\n",
       "rs8080225                   IonExome,SolidPE50x50bp         5\n",
       "rs8075378                                  IonExome         6\n",
       "rs6607281                   IonExome,SolidPE50x50bp         5\n",
       "rs4332783       IonExome,SolidPE50x50bp,SolidSE75bp         4\n",
       "rs71984199  10XChromium,IonExome,SolidPE50x50bp,...         3\n",
       "                                                 callsetnames     varType\n",
       "                                              <CharacterList> <character>\n",
       "rs2411161   HiSeqPE300xGATK,CGnormal,HiSeqPE300xfreebayes,...          NA\n",
       "rs8073074   HiSeqPE300xGATK,CGnormal,HiSeqPE300xfreebayes,...          NA\n",
       "rs4523972   HiSeqPE300xGATK,CGnormal,HiSeqPE300xfreebayes,...          NA\n",
       "rs111498996              HiSeqPE300xGATK,HiSeqPE300xfreebayes          NA\n",
       "rs8077266   HiSeqPE300xGATK,CGnormal,HiSeqPE300xfreebayes,...          NA\n",
       "...                                                       ...         ...\n",
       "rs8080225   HiSeqPE300xGATK,CGnormal,HiSeqPE300xfreebayes,...          NA\n",
       "rs8075378   HiSeqPE300xGATK,CGnormal,HiSeqPE300xfreebayes,...          NA\n",
       "rs6607281   HiSeqPE300xGATK,CGnormal,HiSeqPE300xfreebayes,...          NA\n",
       "rs4332783   HiSeqPE300xGATK,CGnormal,HiSeqPE300xfreebayes,...          NA\n",
       "rs71984199      HiSeqPE300xGATK,CGnormal,HiSeqPE300xfreebayes          NA\n",
       "                              filt\n",
       "                   <CharacterList>\n",
       "rs2411161                         \n",
       "rs8073074   CS_SolidPE50x50GATKH..\n",
       "rs4523972   CS_SolidPE50x50GATKH..\n",
       "rs111498996       CS_CGnormal_filt\n",
       "rs8077266   CS_SolidPE50x50GATKH..\n",
       "...                            ...\n",
       "rs8080225   CS_SolidSE75GATKHC_f..\n",
       "rs8075378   CS_SolidPE50x50GATKH..\n",
       "rs6607281   CS_SolidSE75GATKHC_f..\n",
       "rs4332783                         \n",
       "rs71984199        CS_CGnormal_filt\n",
       "                                                                          callable\n",
       "                                                                   <CharacterList>\n",
       "rs2411161       CS_HiSeqPE300xGATK_c..,CS_CGnormal_callable,CS_HiSeqPE300xfreeba..\n",
       "rs8073074       CS_HiSeqPE300xGATK_c..,CS_CGnormal_callable,CS_HiSeqPE300xfreeba..\n",
       "rs4523972       CS_HiSeqPE300xGATK_c..,CS_CGnormal_callable,CS_HiSeqPE300xfreeba..\n",
       "rs111498996                                                 CS_HiSeqPE300xGATK_c..\n",
       "rs8077266       CS_HiSeqPE300xGATK_c..,CS_CGnormal_callable,CS_HiSeqPE300xfreeba..\n",
       "...                                                                            ...\n",
       "rs8080225       CS_HiSeqPE300xGATK_c..,CS_CGnormal_callable,CS_HiSeqPE300xfreeba..\n",
       "rs8075378       CS_HiSeqPE300xGATK_c..,CS_CGnormal_callable,CS_HiSeqPE300xfreeba..\n",
       "rs6607281   CS_HiSeqPE300xGATK_c..,CS_CGnormal_callable,CS_HiSeqPE300xfreeba..,...\n",
       "rs4332783       CS_HiSeqPE300xGATK_c..,CS_CGnormal_callable,CS_HiSeqPE300xfreeba..\n",
       "rs71984199                                                  CS_HiSeqPE300xGATK_c..\n",
       "                                          difficultregion  arbitrated\n",
       "                                          <CharacterList> <character>\n",
       "rs2411161                                                          NA\n",
       "rs8073074                                                          NA\n",
       "rs4523972                                                          NA\n",
       "rs111498996 AllRepeats_lt51bp_gt..,SimpleRepeat_imperfe..          NA\n",
       "rs8077266                                                          NA\n",
       "...                                                   ...         ...\n",
       "rs8080225                                                          NA\n",
       "rs8075378                                                          NA\n",
       "rs6607281                                                          NA\n",
       "rs4332783                                                          NA\n",
       "rs71984199  AllRepeats_lt51bp_gt..,SimpleRepeat_imperfe..          NA\n",
       "            callsetwiththisuniqgenopassing callsetwithotheruniqgenopassing\n",
       "                           <CharacterList>                 <CharacterList>\n",
       "rs2411161                                                                 \n",
       "rs8073074                                                                 \n",
       "rs4523972                                                                 \n",
       "rs111498996                                                               \n",
       "rs8077266                                                                 \n",
       "...                                    ...                             ...\n",
       "rs8080225                                                                 \n",
       "rs8075378                                                                 \n",
       "rs6607281                                                                 \n",
       "rs4332783                                                                 \n",
       "rs71984199                                                                "
      ]
     },
     "metadata": {},
     "output_type": "display_data"
    }
   ],
   "source": [
    "info(vcf) # returns a DataFrame object"
   ]
  },
  {
   "cell_type": "markdown",
   "id": "d39551be-8294-46b6-baef-35e8ed53d353",
   "metadata": {},
   "source": [
    "The `FORMAT` column in the original VCF text file contains the format and description of the genotype fields. Let's see what these are."
   ]
  },
  {
   "cell_type": "code",
   "execution_count": 9,
   "id": "172db037-29a4-4fa8-b08e-18a208b617ee",
   "metadata": {
    "vscode": {
     "languageId": "r"
    }
   },
   "outputs": [
    {
     "data": {
      "text/plain": [
       "DataFrame with 8 rows and 3 columns\n",
       "           Number        Type            Description\n",
       "      <character> <character>            <character>\n",
       "GT              1      String Consensus Genotype a..\n",
       "DP              1     Integer Total read depth sum..\n",
       "GQ              1     Integer Net Genotype quality..\n",
       "ADALL           R     Integer Net allele depths ac..\n",
       "AD              R     Integer Net allele depths ac..\n",
       "IGT             1      String Original input genot..\n",
       "IPS             1      String      Phase set for IGT\n",
       "PS              1      String       Phase set for GT"
      ]
     },
     "metadata": {},
     "output_type": "display_data"
    }
   ],
   "source": [
    "geno(header(vcf))"
   ]
  },
  {
   "cell_type": "markdown",
   "id": "91403d0d-03b0-4576-9bc2-4eb5e57e6e3d",
   "metadata": {},
   "source": [
    "### c. Inspect the genotype, read depth, and allele depth inforation.\n",
    "To see the genotype `GT`, read depth `DP`, and allele depth `AD`, we access the the list."
   ]
  },
  {
   "cell_type": "code",
   "execution_count": 10,
   "id": "53379e79-f1cc-48a1-9215-3c42844c6627",
   "metadata": {
    "vscode": {
     "languageId": "r"
    }
   },
   "outputs": [
    {
     "data": {
      "text/html": [
       "<style>\n",
       ".list-inline {list-style: none; margin:0; padding: 0}\n",
       ".list-inline>li {display: inline-block}\n",
       ".list-inline>li:not(:last-child)::after {content: \"\\00b7\"; padding: 0 .5ex}\n",
       "</style>\n",
       "<ol class=list-inline><li>'1|1'</li><li>'1|1'</li><li>'1|1'</li><li>'1|1'</li><li>'1|1'</li></ol>\n"
      ],
      "text/latex": [
       "\\begin{enumerate*}\n",
       "\\item '1\\textbar{}1'\n",
       "\\item '1\\textbar{}1'\n",
       "\\item '1\\textbar{}1'\n",
       "\\item '1\\textbar{}1'\n",
       "\\item '1\\textbar{}1'\n",
       "\\end{enumerate*}\n"
      ],
      "text/markdown": [
       "1. '1|1'\n",
       "2. '1|1'\n",
       "3. '1|1'\n",
       "4. '1|1'\n",
       "5. '1|1'\n",
       "\n",
       "\n"
      ],
      "text/plain": [
       "[1] \"1|1\" \"1|1\" \"1|1\" \"1|1\" \"1|1\""
      ]
     },
     "metadata": {},
     "output_type": "display_data"
    },
    {
     "data": {
      "text/html": [
       "<style>\n",
       ".list-inline {list-style: none; margin:0; padding: 0}\n",
       ".list-inline>li {display: inline-block}\n",
       ".list-inline>li:not(:last-child)::after {content: \"\\00b7\"; padding: 0 .5ex}\n",
       "</style>\n",
       "<ol class=list-inline><li>675</li><li>607</li><li>528</li><li>470</li><li>718</li></ol>\n"
      ],
      "text/latex": [
       "\\begin{enumerate*}\n",
       "\\item 675\n",
       "\\item 607\n",
       "\\item 528\n",
       "\\item 470\n",
       "\\item 718\n",
       "\\end{enumerate*}\n"
      ],
      "text/markdown": [
       "1. 675\n",
       "2. 607\n",
       "3. 528\n",
       "4. 470\n",
       "5. 718\n",
       "\n",
       "\n"
      ],
      "text/plain": [
       "[1] 675 607 528 470 718"
      ]
     },
     "metadata": {},
     "output_type": "display_data"
    },
    {
     "data": {
      "text/html": [
       "<ol>\n",
       "\t<li><style>\n",
       ".list-inline {list-style: none; margin:0; padding: 0}\n",
       ".list-inline>li {display: inline-block}\n",
       ".list-inline>li:not(:last-child)::after {content: \"\\00b7\"; padding: 0 .5ex}\n",
       "</style>\n",
       "<ol class=list-inline><li>95</li><li>372</li></ol>\n",
       "</li>\n",
       "\t<li><style>\n",
       ".list-inline {list-style: none; margin:0; padding: 0}\n",
       ".list-inline>li {display: inline-block}\n",
       ".list-inline>li:not(:last-child)::after {content: \"\\00b7\"; padding: 0 .5ex}\n",
       "</style>\n",
       "<ol class=list-inline><li>77</li><li>334</li></ol>\n",
       "</li>\n",
       "\t<li><style>\n",
       ".list-inline {list-style: none; margin:0; padding: 0}\n",
       ".list-inline>li {display: inline-block}\n",
       ".list-inline>li:not(:last-child)::after {content: \"\\00b7\"; padding: 0 .5ex}\n",
       "</style>\n",
       "<ol class=list-inline><li>66</li><li>292</li></ol>\n",
       "</li>\n",
       "\t<li><style>\n",
       ".list-inline {list-style: none; margin:0; padding: 0}\n",
       ".list-inline>li {display: inline-block}\n",
       ".list-inline>li:not(:last-child)::after {content: \"\\00b7\"; padding: 0 .5ex}\n",
       "</style>\n",
       "<ol class=list-inline><li>0</li><li>223</li></ol>\n",
       "</li>\n",
       "\t<li><style>\n",
       ".list-inline {list-style: none; margin:0; padding: 0}\n",
       ".list-inline>li {display: inline-block}\n",
       ".list-inline>li:not(:last-child)::after {content: \"\\00b7\"; padding: 0 .5ex}\n",
       "</style>\n",
       "<ol class=list-inline><li>97</li><li>393</li></ol>\n",
       "</li>\n",
       "</ol>\n"
      ],
      "text/latex": [
       "\\begin{enumerate}\n",
       "\\item \\begin{enumerate*}\n",
       "\\item 95\n",
       "\\item 372\n",
       "\\end{enumerate*}\n",
       "\n",
       "\\item \\begin{enumerate*}\n",
       "\\item 77\n",
       "\\item 334\n",
       "\\end{enumerate*}\n",
       "\n",
       "\\item \\begin{enumerate*}\n",
       "\\item 66\n",
       "\\item 292\n",
       "\\end{enumerate*}\n",
       "\n",
       "\\item \\begin{enumerate*}\n",
       "\\item 0\n",
       "\\item 223\n",
       "\\end{enumerate*}\n",
       "\n",
       "\\item \\begin{enumerate*}\n",
       "\\item 97\n",
       "\\item 393\n",
       "\\end{enumerate*}\n",
       "\n",
       "\\end{enumerate}\n"
      ],
      "text/markdown": [
       "1. 1. 95\n",
       "2. 372\n",
       "\n",
       "\n",
       "\n",
       "2. 1. 77\n",
       "2. 334\n",
       "\n",
       "\n",
       "\n",
       "3. 1. 66\n",
       "2. 292\n",
       "\n",
       "\n",
       "\n",
       "4. 1. 0\n",
       "2. 223\n",
       "\n",
       "\n",
       "\n",
       "5. 1. 97\n",
       "2. 393\n",
       "\n",
       "\n",
       "\n",
       "\n",
       "\n"
      ],
      "text/plain": [
       "[[1]]\n",
       "[1]  95 372\n",
       "\n",
       "[[2]]\n",
       "[1]  77 334\n",
       "\n",
       "[[3]]\n",
       "[1]  66 292\n",
       "\n",
       "[[4]]\n",
       "[1]   0 223\n",
       "\n",
       "[[5]]\n",
       "[1]  97 393\n"
      ]
     },
     "metadata": {},
     "output_type": "display_data"
    }
   ],
   "source": [
    "geno(vcf)$GT[1:5]\n",
    "geno(vcf)$DP[1:5]\n",
    "geno(vcf)$AD[1:5]"
   ]
  },
  {
   "cell_type": "markdown",
   "id": "1442b631-3f63-41eb-b655-123225ec8c4b",
   "metadata": {},
   "source": [
    "### d. Combine all `geno` fields into a single table.\n",
    "You can also combine all fields into a `data.frame` object. But this code only works if the VCF contains a single sample."
   ]
  },
  {
   "cell_type": "code",
   "execution_count": 11,
   "id": "172cd4c5-92aa-4f1b-aaa4-8d209bc60e7c",
   "metadata": {
    "vscode": {
     "languageId": "r"
    }
   },
   "outputs": [
    {
     "data": {
      "text/html": [
       "<table class=\"dataframe\">\n",
       "<caption>A data.frame: 10 × 8</caption>\n",
       "<thead>\n",
       "\t<tr><th></th><th scope=col>GT</th><th scope=col>DP</th><th scope=col>GQ</th><th scope=col>ADALL</th><th scope=col>AD</th><th scope=col>IGT</th><th scope=col>IPS</th><th scope=col>PS</th></tr>\n",
       "\t<tr><th></th><th scope=col>&lt;named list&gt;</th><th scope=col>&lt;named list&gt;</th><th scope=col>&lt;named list&gt;</th><th scope=col>&lt;named list&gt;</th><th scope=col>&lt;named list&gt;</th><th scope=col>&lt;named list&gt;</th><th scope=col>&lt;named list&gt;</th><th scope=col>&lt;named list&gt;</th></tr>\n",
       "</thead>\n",
       "<tbody>\n",
       "\t<tr><th scope=row>rs2411161</th><td>1|1</td><td>675</td><td>405</td><td>1, 301</td><td>95, 372</td><td>1/1</td><td>.</td><td>PATMAT</td></tr>\n",
       "\t<tr><th scope=row>rs8073074</th><td>1|1</td><td>607</td><td>387</td><td>0, 278</td><td>77, 334</td><td>1/1</td><td>.</td><td>PATMAT</td></tr>\n",
       "\t<tr><th scope=row>rs4523972</th><td>1|1</td><td>528</td><td>290</td><td>1, 230</td><td>66, 292</td><td>1/1</td><td>.</td><td>PATMAT</td></tr>\n",
       "\t<tr><th scope=row>rs111498996</th><td>1|1</td><td>470</td><td>99</td><td>0, 223</td><td>0, 223</td><td>1/1</td><td>.</td><td>PATMAT</td></tr>\n",
       "\t<tr><th scope=row>rs8077266</th><td>1|1</td><td>718</td><td>452</td><td>0, 328</td><td>97, 393</td><td>1/1</td><td>.</td><td>PATMAT</td></tr>\n",
       "\t<tr><th scope=row>rs75773263</th><td>1|1</td><td>773</td><td>233</td><td>0, 378</td><td>31, 31</td><td>1/1</td><td>.</td><td>PATMAT</td></tr>\n",
       "\t<tr><th scope=row>rs725038</th><td>1|1</td><td>896</td><td>287</td><td>0, 442</td><td>51, 51</td><td>1/1</td><td>.</td><td>PATMAT</td></tr>\n",
       "\t<tr><th scope=row>rs10664252</th><td>1|1</td><td>577</td><td>366</td><td>0, 265</td><td>68, 68</td><td>1/1</td><td>.</td><td>PATMAT</td></tr>\n",
       "\t<tr><th scope=row>rs11655013</th><td>0|1</td><td>720</td><td>1197</td><td>159, 155</td><td>206, 193</td><td>0/1</td><td>.</td><td>PATMAT</td></tr>\n",
       "\t<tr><th scope=row>rs9906543</th><td>1|1</td><td>730</td><td>458</td><td>0, 315</td><td>119, 420</td><td>1/1</td><td>.</td><td>PATMAT</td></tr>\n",
       "</tbody>\n",
       "</table>\n"
      ],
      "text/latex": [
       "A data.frame: 10 × 8\n",
       "\\begin{tabular}{r|llllllll}\n",
       "  & GT & DP & GQ & ADALL & AD & IGT & IPS & PS\\\\\n",
       "  & <named list> & <named list> & <named list> & <named list> & <named list> & <named list> & <named list> & <named list>\\\\\n",
       "\\hline\n",
       "\trs2411161 & 1\\textbar{}1 & 675 & 405 & 1, 301 & 95, 372 & 1/1 & . & PATMAT\\\\\n",
       "\trs8073074 & 1\\textbar{}1 & 607 & 387 & 0, 278 & 77, 334 & 1/1 & . & PATMAT\\\\\n",
       "\trs4523972 & 1\\textbar{}1 & 528 & 290 & 1, 230 & 66, 292 & 1/1 & . & PATMAT\\\\\n",
       "\trs111498996 & 1\\textbar{}1 & 470 & 99 & 0, 223 & 0, 223 & 1/1 & . & PATMAT\\\\\n",
       "\trs8077266 & 1\\textbar{}1 & 718 & 452 & 0, 328 & 97, 393 & 1/1 & . & PATMAT\\\\\n",
       "\trs75773263 & 1\\textbar{}1 & 773 & 233 & 0, 378 & 31, 31 & 1/1 & . & PATMAT\\\\\n",
       "\trs725038 & 1\\textbar{}1 & 896 & 287 & 0, 442 & 51, 51 & 1/1 & . & PATMAT\\\\\n",
       "\trs10664252 & 1\\textbar{}1 & 577 & 366 & 0, 265 & 68, 68 & 1/1 & . & PATMAT\\\\\n",
       "\trs11655013 & 0\\textbar{}1 & 720 & 1197 & 159, 155 & 206, 193 & 0/1 & . & PATMAT\\\\\n",
       "\trs9906543 & 1\\textbar{}1 & 730 & 458 & 0, 315 & 119, 420 & 1/1 & . & PATMAT\\\\\n",
       "\\end{tabular}\n"
      ],
      "text/markdown": [
       "\n",
       "A data.frame: 10 × 8\n",
       "\n",
       "| <!--/--> | GT &lt;named list&gt; | DP &lt;named list&gt; | GQ &lt;named list&gt; | ADALL &lt;named list&gt; | AD &lt;named list&gt; | IGT &lt;named list&gt; | IPS &lt;named list&gt; | PS &lt;named list&gt; |\n",
       "|---|---|---|---|---|---|---|---|---|\n",
       "| rs2411161 | 1|1 | 675 | 405 | 1, 301 | 95, 372 | 1/1 | . | PATMAT |\n",
       "| rs8073074 | 1|1 | 607 | 387 | 0, 278 | 77, 334 | 1/1 | . | PATMAT |\n",
       "| rs4523972 | 1|1 | 528 | 290 | 1, 230 | 66, 292 | 1/1 | . | PATMAT |\n",
       "| rs111498996 | 1|1 | 470 | 99 | 0, 223 | 0, 223 | 1/1 | . | PATMAT |\n",
       "| rs8077266 | 1|1 | 718 | 452 | 0, 328 | 97, 393 | 1/1 | . | PATMAT |\n",
       "| rs75773263 | 1|1 | 773 | 233 | 0, 378 | 31, 31 | 1/1 | . | PATMAT |\n",
       "| rs725038 | 1|1 | 896 | 287 | 0, 442 | 51, 51 | 1/1 | . | PATMAT |\n",
       "| rs10664252 | 1|1 | 577 | 366 | 0, 265 | 68, 68 | 1/1 | . | PATMAT |\n",
       "| rs11655013 | 0|1 | 720 | 1197 | 159, 155 | 206, 193 | 0/1 | . | PATMAT |\n",
       "| rs9906543 | 1|1 | 730 | 458 | 0, 315 | 119, 420 | 1/1 | . | PATMAT |\n",
       "\n"
      ],
      "text/plain": [
       "            GT  DP  GQ   ADALL    AD       IGT IPS PS    \n",
       "rs2411161   1|1 675 405  1, 301   95, 372  1/1 .   PATMAT\n",
       "rs8073074   1|1 607 387  0, 278   77, 334  1/1 .   PATMAT\n",
       "rs4523972   1|1 528 290  1, 230   66, 292  1/1 .   PATMAT\n",
       "rs111498996 1|1 470 99   0, 223   0, 223   1/1 .   PATMAT\n",
       "rs8077266   1|1 718 452  0, 328   97, 393  1/1 .   PATMAT\n",
       "rs75773263  1|1 773 233  0, 378   31, 31   1/1 .   PATMAT\n",
       "rs725038    1|1 896 287  0, 442   51, 51   1/1 .   PATMAT\n",
       "rs10664252  1|1 577 366  0, 265   68, 68   1/1 .   PATMAT\n",
       "rs11655013  0|1 720 1197 159, 155 206, 193 0/1 .   PATMAT\n",
       "rs9906543   1|1 730 458  0, 315   119, 420 1/1 .   PATMAT"
      ]
     },
     "metadata": {},
     "output_type": "display_data"
    }
   ],
   "source": [
    "genoData <- data.frame(do.call(cbind, geno(vcf)))\n",
    "colnames(genoData) <- rownames(geno(header(vcf)))\n",
    "genoData[1:10,]"
   ]
  },
  {
   "cell_type": "markdown",
   "id": "1317e668-a50b-47f8-8021-078aa4603c01",
   "metadata": {},
   "source": [
    "## Exercise 3: Reading variants from a VCF file.\n",
    "\n",
    "### a. Create a range for `8:128747680-128753680`."
   ]
  },
  {
   "cell_type": "code",
   "execution_count": 12,
   "id": "f620a33a-abfd-465c-a639-dc2c421589bd",
   "metadata": {
    "vscode": {
     "languageId": "r"
    }
   },
   "outputs": [],
   "source": [
    "# GRanges()"
   ]
  },
  {
   "cell_type": "markdown",
   "id": "0aa9a069-0f28-4168-8800-57e31c4982a5",
   "metadata": {},
   "source": [
    "### b. Setup parameters to read VCF."
   ]
  },
  {
   "cell_type": "code",
   "execution_count": 13,
   "id": "c819d38b-3191-48f6-b055-25df5f9bd0f5",
   "metadata": {
    "vscode": {
     "languageId": "r"
    }
   },
   "outputs": [],
   "source": [
    "# ScanVcfParam"
   ]
  },
  {
   "cell_type": "markdown",
   "id": "c75ec437-1245-45a5-b57a-3a88716ac732",
   "metadata": {},
   "source": [
    "### c. Read the VCF file at `8:128747680-128753680`"
   ]
  },
  {
   "cell_type": "code",
   "execution_count": 14,
   "id": "7edcbf3b-637f-48cc-bbb0-0245d949ec20",
   "metadata": {
    "vscode": {
     "languageId": "r"
    }
   },
   "outputs": [],
   "source": [
    "# readVcf"
   ]
  },
  {
   "cell_type": "markdown",
   "id": "a5070f0b-cef1-43b3-ba80-fc2e8489bcff",
   "metadata": {},
   "source": [
    "### d. What is the RS id, genotype (`GT`) and depth (`DP`) at the SNP in this locus?"
   ]
  },
  {
   "cell_type": "code",
   "execution_count": 15,
   "id": "d3b6c84b-0f65-43e2-8f97-eb6dd69d040c",
   "metadata": {
    "vscode": {
     "languageId": "r"
    }
   },
   "outputs": [],
   "source": [
    "# geno()"
   ]
  }
 ],
 "metadata": {
  "kernelspec": {
   "display_name": "R 4.1.2",
   "language": "R",
   "name": "ir412"
  },
  "language_info": {
   "codemirror_mode": "r",
   "file_extension": ".r",
   "mimetype": "text/x-r-source",
   "name": "R",
   "pygments_lexer": "r",
   "version": "4.1.2"
  }
 },
 "nbformat": 4,
 "nbformat_minor": 5
}
