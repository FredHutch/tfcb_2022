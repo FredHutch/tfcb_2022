{
 "cells": [
  {
   "cell_type": "markdown",
   "metadata": {},
   "source": [
    "# Test TFCB2022_RNA conda environment"
   ]
  },
  {
   "cell_type": "code",
   "execution_count": 1,
   "metadata": {},
   "outputs": [
    {
     "name": "stdout",
     "output_type": "stream",
     "text": [
      "ModuleSpec(name='umap', loader=<_frozen_importlib_external.SourceFileLoader object at 0x7f597cefda30>, origin='/opt/conda/envs/tfcb2022_rna/lib/python3.9/site-packages/umap/__init__.py', submodule_search_locations=['/opt/conda/envs/tfcb2022_rna/lib/python3.9/site-packages/umap'])\n",
      "ModuleSpec(name='scanpy', loader=<_frozen_importlib_external.SourceFileLoader object at 0x7f59421725b0>, origin='/opt/conda/envs/tfcb2022_rna/lib/python3.9/site-packages/scanpy/__init__.py', submodule_search_locations=['/opt/conda/envs/tfcb2022_rna/lib/python3.9/site-packages/scanpy'])\n",
      "ModuleSpec(name='harmonypy', loader=<_frozen_importlib_external.SourceFileLoader object at 0x7f5934bb7ca0>, origin='/opt/conda/envs/tfcb2022_rna/lib/python3.9/site-packages/harmonypy/__init__.py', submodule_search_locations=['/opt/conda/envs/tfcb2022_rna/lib/python3.9/site-packages/harmonypy'])\n"
     ]
    }
   ],
   "source": [
    "import umap\n",
    "import scanpy\n",
    "import harmonypy\n",
    "\n",
    "print(umap.__spec__)\n",
    "print(scanpy.__spec__)\n",
    "print(harmonypy.__spec__)"
   ]
  }
 ],
 "metadata": {
  "kernelspec": {
   "display_name": "Python 3.9.12 ('tfcb2022_rna')",
   "language": "python",
   "name": "python3"
  },
  "language_info": {
   "codemirror_mode": {
    "name": "ipython",
    "version": 3
   },
   "file_extension": ".py",
   "mimetype": "text/x-python",
   "name": "python",
   "nbconvert_exporter": "python",
   "pygments_lexer": "ipython3",
   "version": "3.9.7"
  },
  "orig_nbformat": 4,
  "vscode": {
   "interpreter": {
    "hash": "3011704b6779c0b541a689cf71206a950289813906dd73e2862ef7e407814574"
   }
  }
 },
 "nbformat": 4,
 "nbformat_minor": 2
}
