{
 "cells": [
  {
   "cell_type": "markdown",
   "metadata": {},
   "source": [
    "# Working with immune repertoire sequence data using `R`"
   ]
  },
  {
   "cell_type": "markdown",
   "metadata": {},
   "source": [
    "We will be using `tidyverse` and `Bioconductor` to work with pre-processed immune repertoire sequence data in `R`.\n",
    "You have already learned about both of these collections of packages, and today's class will give you the opportunity to practice using them in a new biological context.\n",
    "\n",
    "Goals for today's class:\n",
    "1. Familiarize with the format of immune repertoire sequence data\n",
    "2. Work through an example analysis, and practice on your own"
   ]
  },
  {
   "cell_type": "markdown",
   "metadata": {},
   "source": [
    "## Load packages"
   ]
  },
  {
   "cell_type": "code",
   "execution_count": null,
   "metadata": {
    "vscode": {
     "languageId": "r"
    }
   },
   "outputs": [],
   "source": [
    "library(Biostrings)\n",
    "library(tidyverse)"
   ]
  },
  {
   "cell_type": "markdown",
   "metadata": {},
   "source": [
    "## Loading the data"
   ]
  },
  {
   "cell_type": "code",
   "execution_count": null,
   "metadata": {
    "vscode": {
     "languageId": "r"
    }
   },
   "outputs": [],
   "source": [
    "indiv1 <- read.csv('https://drive.google.com/uc?id=1b1oXlhg99_YCPK_HzFL2ohYPDxvTbQOo', sep = '\\t', header = TRUE)\n",
    "indiv2 <- read.csv('https://drive.google.com/uc?id=10qMY16H9wD_wuC4ISAJRTRx_bOeclg5D', sep = '\\t', header = TRUE)"
   ]
  },
  {
   "cell_type": "markdown",
   "metadata": {},
   "source": [
    "Let's take a look at the data. \n",
    "Recall that each annotated sequence takes the form:\n",
    "\n",
    "5'-[__Vgene__]-(_possible Vgene deletion_)-[__N1insertion__]-(_possible Dgene deletion_)-[__D gene__]-(_possible Dgene deletion_)-[__N2insertion__]-(_possible Jgene deletion_)-[__J gene with possible deletion__]-3'\n",
    "\n",
    "Using the column names given by the file, we can interpret this as:\n",
    "\n",
    "5'-[__`v_gene`__]-(_`v_trim`_)-[__`vd_insert`__]-(_`d0_trim`_)-[__`d_gene`__]-(_`d1_trim`_)-[__`dj_insert`__]-(_`j_trim`_)-[__`j_gene`__]-3'"
   ]
  },
  {
   "cell_type": "code",
   "execution_count": null,
   "metadata": {
    "vscode": {
     "languageId": "r"
    }
   },
   "outputs": [],
   "source": [
    "head(indiv2)"
   ]
  },
  {
   "cell_type": "markdown",
   "metadata": {},
   "source": [
    "## Some example analyses using `tidyverse` and `Bioconductor`"
   ]
  },
  {
   "cell_type": "markdown",
   "metadata": {},
   "source": [
    "Find which V-gene occurs most frequently for individual 2"
   ]
  },
  {
   "cell_type": "code",
   "execution_count": null,
   "metadata": {
    "vscode": {
     "languageId": "r"
    }
   },
   "outputs": [],
   "source": [
    "Vcounts2 <- indiv2 %>%\n",
    "                group_by(v_gene) %>%\n",
    "                summarise(total_count = n()) %>%\n",
    "                arrange(desc(total_count))\n",
    "\n",
    "head(Vcounts2)"
   ]
  },
  {
   "cell_type": "markdown",
   "metadata": {},
   "source": [
    "Plot the distribution of trimming lengths for that gene"
   ]
  },
  {
   "cell_type": "code",
   "execution_count": null,
   "metadata": {
    "vscode": {
     "languageId": "r"
    }
   },
   "outputs": [],
   "source": [
    "# isolate most frequently used V-gene\n",
    "most_frequent_V <- Vcounts2 %>%\n",
    "                    filter(total_count == max(Vcounts2$total_count))\n",
    "\n",
    "# filter original data set by most frequently used V-gene\n",
    "most_frequent_V_data <- indiv2 %>%\n",
    "                            filter(v_gene == most_frequent_V$v_gene)\n",
    "\n",
    "# plot trimming distribution\n",
    "most_frequent_V_data %>%\n",
    "    ggplot(aes(x = v_trim)) +\n",
    "    geom_density() +\n",
    "    theme_classic()"
   ]
  },
  {
   "cell_type": "markdown",
   "metadata": {},
   "source": [
    "Calculate V-D N-insertion composition frequencies within individual 2"
   ]
  },
  {
   "cell_type": "code",
   "execution_count": null,
   "metadata": {
    "vscode": {
     "languageId": "r"
    }
   },
   "outputs": [],
   "source": [
    "# filter for sequences that have VD N-inserts\n",
    "n_indiv2 <- indiv2 %>%\n",
    "                filter(vd_insert != 0)\n",
    "\n",
    "# convert VD N-insert column to a BioStrings `DNAStringSet`\n",
    "nucs_indiv2 <- DNAStringSet(n_indiv2$vd_insert_nucs)\n",
    "\n",
    "# get frequencies\n",
    "nucs_indiv2 %>%\n",
    "  letterFrequency(c(\"A\", \"T\", \"C\", \"G\"), collapse = TRUE, as.prob = TRUE)"
   ]
  },
  {
   "cell_type": "markdown",
   "metadata": {},
   "source": [
    "# In-class exercises\n",
    "\n",
    "(20 minutes)"
   ]
  },
  {
   "cell_type": "markdown",
   "metadata": {},
   "source": [
    "### 1. Plot the distributions of V-gene trimming for each V-gene. Find the V-gene with the largest average number of nucleotides trimmed."
   ]
  },
  {
   "cell_type": "code",
   "execution_count": null,
   "metadata": {
    "vscode": {
     "languageId": "r"
    }
   },
   "outputs": [],
   "source": [
    "#  your code here...\n"
   ]
  },
  {
   "cell_type": "markdown",
   "metadata": {},
   "source": [
    "### 2. Find the N-insertion base frequencies for each N-insertion junction (combining data from both individuals). Are they similar?\n",
    "\n",
    "_Hint: you can use the `rbind` function to combine data sets_"
   ]
  },
  {
   "cell_type": "code",
   "execution_count": null,
   "metadata": {
    "vscode": {
     "languageId": "r"
    }
   },
   "outputs": [],
   "source": [
    "# your code here...\n"
   ]
  },
  {
   "cell_type": "markdown",
   "metadata": {},
   "source": [
    "### 3. Find the rearrangement/s (`cdr3` column) which have the largest overlap between the two individuals. Which nucleotide rearrangment most commonly leads to that CDR3 amino acid sequence for each individual?"
   ]
  },
  {
   "cell_type": "code",
   "execution_count": null,
   "metadata": {
    "vscode": {
     "languageId": "r"
    }
   },
   "outputs": [],
   "source": [
    "# your code here...\n"
   ]
  }
 ],
 "metadata": {
  "kernelspec": {
   "display_name": "R",
   "language": "R",
   "name": "ir"
  },
  "language_info": {
   "codemirror_mode": "r",
   "file_extension": ".r",
   "mimetype": "text/x-r-source",
   "name": "R",
   "pygments_lexer": "r",
   "version": "4.1.3"
  },
  "orig_nbformat": 4
 },
 "nbformat": 4,
 "nbformat_minor": 2
}
