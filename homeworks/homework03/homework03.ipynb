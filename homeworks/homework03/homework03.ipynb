{
 "cells": [
  {
   "cell_type": "markdown",
   "metadata": {},
   "source": [
    "# This is the homework from 2021. This year's homework will be finalized by October 20th, end of day.\n",
    "# Homework03 (10 points): The genetic code as a python `dict`\n",
    "\n",
    "Any code that's already here in the notebook or in the lectures is fair game. I've provided outline code for some of the problems; you are welcome to use that but you don't have to.\n",
    "\n",
    "Please post questions to the `lectures-homework` slack channel. Phil is also available via email (pbradley@fredhutch.org)."
   ]
  },
  {
   "cell_type": "code",
   "execution_count": null,
   "metadata": {},
   "outputs": [],
   "source": [
    "genetic_code = {\n",
    "    'AAA': 'K', 'AAC': 'N', 'AAG': 'K', 'AAT': 'N', \n",
    "    'ACA': 'T', 'ACC': 'T', 'ACG': 'T', 'ACT': 'T', \n",
    "    'AGA': 'R', 'AGC': 'S', 'AGG': 'R', 'AGT': 'S', \n",
    "    'ATA': 'I', 'ATC': 'I', 'ATG': 'M', 'ATT': 'I', \n",
    "    'CAA': 'Q', 'CAC': 'H', 'CAG': 'Q', 'CAT': 'H', \n",
    "    'CCA': 'P', 'CCC': 'P', 'CCG': 'P', 'CCT': 'P', \n",
    "    'CGA': 'R', 'CGC': 'R', 'CGG': 'R', 'CGT': 'R', \n",
    "    'CTA': 'L', 'CTC': 'L', 'CTG': 'L', 'CTT': 'L', \n",
    "    'GAA': 'E', 'GAC': 'D', 'GAG': 'E', 'GAT': 'D', \n",
    "    'GCA': 'A', 'GCC': 'A', 'GCG': 'A', 'GCT': 'A', \n",
    "    'GGA': 'G', 'GGC': 'G', 'GGG': 'G', 'GGT': 'G', \n",
    "    'GTA': 'V', 'GTC': 'V', 'GTG': 'V', 'GTT': 'V', \n",
    "    'TAA': '*', 'TAC': 'Y', 'TAG': '*', 'TAT': 'Y', \n",
    "    'TCA': 'S', 'TCC': 'S', 'TCG': 'S', 'TCT': 'S', \n",
    "    'TGA': '*', 'TGC': 'C', 'TGG': 'W', 'TGT': 'C', \n",
    "    'TTA': 'L', 'TTC': 'F', 'TTG': 'L', 'TTT': 'F'\n",
    "}\n"
   ]
  },
  {
   "cell_type": "markdown",
   "metadata": {},
   "source": [
    "# Q1 (1 point). What does `TGC` code for?\n",
    "\n",
    "Create a string called codon that is equal to `'TGC'` and use the genetic_code dictionary to look up its translation."
   ]
  },
  {
   "cell_type": "code",
   "execution_count": null,
   "metadata": {},
   "outputs": [],
   "source": [
    "# what does TGC code for?\n",
    "codon = "
   ]
  },
  {
   "cell_type": "markdown",
   "metadata": {},
   "source": [
    "# Q2 (2 points). How many codons code for each amino acid?\n",
    "\n",
    "Do this with a `for` loop over the amino acids (plus stop aka `'*'`), inside of which you figure out how many codons code for that amino acid and print out the amino acid and the number of codons. You should get an output like this:\n",
    "\n",
    "```\n",
    "* 3\n",
    "A 4\n",
    "C 2\n",
    "D 2\n",
    "```\n",
    "etc."
   ]
  },
  {
   "cell_type": "markdown",
   "metadata": {},
   "source": [
    "For starters, here's a way to get a non-redundant list of the values in a dictionary:"
   ]
  },
  {
   "cell_type": "code",
   "execution_count": null,
   "metadata": {},
   "outputs": [],
   "source": [
    "# set is another builtin python type, like list or dict. It's a nice way of removing duplicates.\n",
    "# Here we build a set from all the values (amino acids) in the genetic code dictionary.\n",
    "# sorted turns it back into a (sorted) list.\n",
    "amino_acids_plus_stop = sorted(set(genetic_code.values()))\n",
    "print(amino_acids_plus_stop)"
   ]
  },
  {
   "cell_type": "code",
   "execution_count": null,
   "metadata": {},
   "outputs": [],
   "source": [
    "# how many codons for each amino acid?\n",
    "for aa in amino_acids_plus_stop:\n",
    "    count = 0\n",
    "    for codon in genetic_code:\n",
    "        # do something inside here...\n",
    "\n",
    "    # now finally write out the answer\n",
    "    print(aa, count)"
   ]
  },
  {
   "cell_type": "markdown",
   "metadata": {},
   "source": [
    "# Q3 (3 points). Write a translation function that takes in a DNA sequence and returns a protein sequence.\n",
    "\n",
    "Extra nucleotides at the end should be ignored.\n",
    "\n",
    "Use it to translate the sequence `CCTCATATTTTGTGAATTTCTTGAGCTTGAGGTCGTGAGGCTACTTGAACTGAGGCTTGTCATGAGCGTT`\n",
    "\n",
    "If you are so inclined, see how short you can make your function. Can you do it in one line?"
   ]
  },
  {
   "cell_type": "code",
   "execution_count": null,
   "metadata": {},
   "outputs": [],
   "source": [
    "# translation function\n",
    "def translate(dna_seq):\n",
    "    # some stuff here...\n",
    "    \n",
    "translate('CCTCATATTTTGTGAATTTCTTGAGCTTGAGGTCGTGAGGCTACTTGAACTGAGGCTTGTCATGAGCGTT')"
   ]
  },
  {
   "cell_type": "markdown",
   "metadata": {},
   "source": [
    "# Q4 (4 points). Translate a SARS COV2 genome sequence; what are the longest open reading frames in all 6 frames?\n",
    "\n",
    "Here by open reading frame I just mean a stretch of codons that doesn't contain any stop codons. Since we translate DNA in blocks of three nucleotides, there are three different frames in which to translate the forward strand, and three more in which you can translate the reverse strand.\n",
    "\n",
    "You can answer either in terms of the length of the frame at the nucleotide or protein level, just be clear."
   ]
  },
  {
   "cell_type": "markdown",
   "metadata": {},
   "source": [
    "This little snippet will read the SARS COV2 genome DNA sequence into the string called `genome`:"
   ]
  },
  {
   "cell_type": "code",
   "execution_count": null,
   "metadata": {},
   "outputs": [],
   "source": [
    "# \n",
    "filename = 'data/sars_cov2_genome_sequence.txt'\n",
    "# lines is a list of strings, one containing each line of the file\n",
    "lines = open(filename,'r').readlines()\n",
    "# the first line is a header, get rid of that one using list slicing (ie, lines[1:])\n",
    "# then join them together using the string join method (ie, ''.join(...))\n",
    "# each line ends with a newline character, remove those with the string replace method\n",
    "# see how we can do lots of things in one line (first slicing, then joining, then replacing):\n",
    "# can you see why they happen in that order?\n",
    "genome = ''.join(lines[1:]).replace('\\n','')\n",
    "print(len(genome))"
   ]
  },
  {
   "cell_type": "markdown",
   "metadata": {},
   "source": [
    "Now translate genome into a protein sequence in three different frames, storing the resulting sequences in three different string variables (maybe prot1, prot2, prot3?).\n",
    "\n",
    "e.g. `prot1 = translate(genome)`\n",
    "\n",
    "To get prot2 and prot3, using `slicing` to cut off 1 or 2 nucleotides from the start of genome and then translate it.\n"
   ]
  },
  {
   "cell_type": "code",
   "execution_count": null,
   "metadata": {},
   "outputs": [],
   "source": [
    "prot1 = translate(genome) \n",
    "\n",
    "#prot2 = ...\n"
   ]
  },
  {
   "cell_type": "markdown",
   "metadata": {},
   "source": [
    "Now you want to figure out the longest stretch of letters (amino acids) in each of `prot1`, `prot2`, and `prot3` that doesn't contain any `'*'` characters. \n",
    "\n",
    "Do this by defining a new function, for example `def find_longest_orf(protseq):` that you can use repeatedly.\n",
    "\n",
    "You can write that function however you like, but as a hint, consider what happens if you do\n",
    "\n",
    "```\n",
    "protseq.split('*')\n",
    "```\n",
    "\n",
    "Could you use the list that is returned by that split statement somehow?"
   ]
  },
  {
   "cell_type": "code",
   "execution_count": null,
   "metadata": {},
   "outputs": [],
   "source": [
    "def find_longest_orf(protseq):\n",
    "    # etc"
   ]
  },
  {
   "cell_type": "markdown",
   "metadata": {},
   "source": [
    "Finally, get the reverse complement of genome, translate it in all three frames, and use the function above to find the longest orf in each. You could use the reverse complement function from the `lecture06.ipynb` notebook."
   ]
  },
  {
   "cell_type": "code",
   "execution_count": null,
   "metadata": {},
   "outputs": [],
   "source": [
    "#rev_genome = ..."
   ]
  },
  {
   "cell_type": "markdown",
   "metadata": {},
   "source": [
    "# Extra credit (2 points, maybe): What is the expected length of the longest open reading frame?\n",
    "\n",
    "Given that we have ~30,000 nucleotides of a given sequence composition, how long would we expect the longest reading frame to be if they were ordered randomly?\n",
    "\n",
    "Do this by randomly shuffling the genome sequence some number of times (say 100) and finding the longest orf in all its translations. Add those lengths up and divide by the number of times you shuffled.\n"
   ]
  },
  {
   "cell_type": "code",
   "execution_count": null,
   "metadata": {},
   "outputs": [],
   "source": [
    "# random is a very useful python library aka module\n",
    "import random\n",
    "\n",
    "numlist = [1,2,3,4,5,6]\n",
    "\n",
    "# we can call functions from within modules by using this syntax: module.function\n",
    "random.shuffle(numlist)\n",
    "\n",
    "print('shuffled numlist:', numlist)\n",
    "\n",
    "# random.shuffle doesn't work on immutable objects like strings, but we can turn a string into a list...\n",
    "seq = 'ACGTACGTACGT'\n",
    "\n",
    "seqlist = list(seq)\n",
    "\n",
    "random.shuffle(seqlist)\n",
    "\n",
    "seq = ''.join(seqlist)\n",
    "\n",
    "print('shuffled seq:', seq)"
   ]
  },
  {
   "cell_type": "code",
   "execution_count": null,
   "metadata": {},
   "outputs": [],
   "source": [
    "num_shuffles = 100\n",
    "\n",
    "# also create a variable to hold the total length of all the longest orfs...\n",
    "total_length = 0\n",
    "\n",
    "for repeat in range(num_shuffles):\n",
    "    # do stuff inside here...\n",
    "    \n",
    "mean_longest_orf = total_length/num_shuffles\n"
   ]
  }
 ],
 "metadata": {
  "kernelspec": {
   "display_name": "Python 3",
   "language": "python",
   "name": "python3"
  },
  "language_info": {
   "codemirror_mode": {
    "name": "ipython",
    "version": 3
   },
   "file_extension": ".py",
   "mimetype": "text/x-python",
   "name": "python",
   "nbconvert_exporter": "python",
   "pygments_lexer": "ipython3",
   "version": "3.8.8"
  }
 },
 "nbformat": 4,
 "nbformat_minor": 2
}
