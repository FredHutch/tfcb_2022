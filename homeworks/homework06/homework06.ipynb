{
 "cells": [
  {
   "cell_type": "markdown",
   "metadata": {},
   "source": [
    "# Homework 6\n",
    "\n",
    "TFCB 2022\n",
    "\n",
    "Due date: Nov 17, 2022 1PM"
   ]
  },
  {
   "cell_type": "markdown",
   "metadata": {},
   "source": [
    "In this homework, we will work through a series of manipulations to analyze a published deep sequencing\n",
    "dataset using `tidyverse` functions.\n",
    "\n",
    "In the process, we will learn some new functions in `tidyverse` and apply\n",
    "them to our data analysis.\n",
    "\n",
    "For more information about the data used in this homework, see\n",
    "[this page](https://www.ncbi.nlm.nih.gov/geo/query/acc.cgi?acc=GSE89183).\n"
   ]
  },
  {
   "cell_type": "code",
   "execution_count": null,
   "metadata": {
    "vscode": {
     "languageId": "r"
    }
   },
   "outputs": [],
   "source": [
    "library(tidyverse)"
   ]
  },
  {
   "cell_type": "markdown",
   "metadata": {},
   "source": [
    "## Problem 1\n",
    "\n",
    "**10 points**\n",
    "\n",
    "For each of the following functions, provide a <100 character description\n",
    "(in your own words) and a URL reference.\n",
    "\n",
    "1. `!`\n",
    "2. `is.na`\n",
    "3. `is.numeric`\n",
    "4. `anti_join`\n",
    "5. `desc`\n",
    "6. `dplyr::slice`\n",
    "7. `dplyr::across`\n"
   ]
  },
  {
   "cell_type": "markdown",
   "metadata": {},
   "source": [
    "## Problem 2\n",
    "\n",
    "**10 points**\n",
    "\n",
    "Add a comment above each code line below explaining what the code line does and/or why\n",
    "that code line is necessary.\n",
    "\n",
    "Keep each comment to less than 2 lines per line of code and < 80 chars per line."
   ]
  },
  {
   "cell_type": "code",
   "execution_count": null,
   "metadata": {
    "vscode": {
     "languageId": "r"
    }
   },
   "outputs": [],
   "source": [
    "annotations <- read_tsv(\"ftp://ftp.ebi.ac.uk/pub/databases/genenames/new/tsv/locus_groups/protein-coding_gene.txt\") %>%\n",
    "  select(ensembl_gene_id, symbol, name, gene_group, ccds_id) %>%\n",
    "  filter(!is.na(ccds_id)) %>%\n",
    "  print()"
   ]
  },
  {
   "cell_type": "code",
   "execution_count": null,
   "metadata": {
    "vscode": {
     "languageId": "r"
    }
   },
   "outputs": [],
   "source": [
    "data <- read_tsv(\"ftp://ftp.ncbi.nlm.nih.gov/geo/series/GSE89nnn/GSE89183/suppl/GSE89183_Counts.txt.gz\") %>%\n",
    "  rename(ensembl_gene_id = `ENSEMBL gene`) %>%\n",
    "  print()"
   ]
  },
  {
   "cell_type": "markdown",
   "metadata": {},
   "source": [
    "## Problem 3\n",
    "\n",
    "**10 points**\n",
    "\n",
    "Using the code below:\n",
    "\n",
    "1. Convert both axes to `log10` instead of linear scales.\n",
    "2. Show axis tick labels as 10^0^, 10^1^, 10^2^,10^3^, 10^4^, 10^5^ for both axes.\n",
    "3. There are too many points overlapping in certain regions. Use a different\n",
    "`geom_` function to convey to your reader how many overlapping points are present\n",
    "in each region."
   ]
  },
  {
   "cell_type": "code",
   "execution_count": null,
   "metadata": {
    "vscode": {
     "languageId": "r"
    }
   },
   "outputs": [],
   "source": [
    "data %>%\n",
    "  select(CD34_shRPL5_RNA_1, CD34_shRPS19_RNA_1) %>%\n",
    "  ggplot(aes(x = CD34_shRPL5_RNA_1, y = CD34_shRPS19_RNA_1)) +\n",
    "  geom_point()"
   ]
  },
  {
   "cell_type": "markdown",
   "metadata": {},
   "source": [
    "**In problems 4 through 6, assign the result of your operation back to the `data`\n",
    "variable.**"
   ]
  },
  {
   "cell_type": "markdown",
   "metadata": {},
   "source": [
    "## Problem 4\n",
    "\n",
    "**10 points**\n",
    "\n",
    "Write a code cell to select the following columns from the `data` variable you created above and reassign back to `data`.\n",
    "\n",
    "Columns to select: `ensembl_gene_id`, columns that have either `RPL5`, `RPS19`, or `Luc` in their name.\n",
    "\n",
    "Instead of listing every column, use [`matches`](https://tidyselect.r-lib.org/reference/starts_with.html) and a succinct [regular expression](https://stringr.tidyverse.org/articles/regular-expressions.html) to select the above columns."
   ]
  },
  {
   "cell_type": "markdown",
   "metadata": {},
   "source": [
    "## Problem 5\n",
    "\n",
    "**10 points**\n",
    "\n",
    "Write a code cell to filter the result from Problem 4 to include only rows where each of the 12 numerical columns you selected has 50 counts or more  and reassign back to `data`.\n",
    "This is a simple way to avoid genes that have very low counts.\n",
    "\n",
    "You might be tempted to do this step separately for each of the 12 columns, but instead use the `across` function you learned above or the `pivot_longer` function from the class (either way is fine)."
   ]
  },
  {
   "cell_type": "markdown",
   "metadata": {},
   "source": [
    "## Problem 6\n",
    "\n",
    "**10 points**\n",
    "\n",
    "Write a code cell to divide each of the 12 numerical columns by the\n",
    "corresponding median value for each column\n",
    "and reassign back to `data`. This median normalization is typically done in\n",
    "high-throughput experiments after filtering\n",
    "to normalize for sample-to-sample difference in read depth.\n",
    "\n",
    "Again, you can write lot less code if you use the `mutate` and `across` function\n",
    "you learned above.\n"
   ]
  },
  {
   "cell_type": "markdown",
   "metadata": {},
   "source": [
    "## Problem 7\n",
    "\n",
    "**10 points**\n",
    "\n",
    "After we do the above filtering and median-normalization, let us calculate\n",
    "translation efficiency as the average ratio of the RPF and RNA reads for each\n",
    "treatment condition. Then we calculate how this translation efficiency changes\n",
    "between target (`rpl5` and `rps19`) and control (`luc`) shRNAs.\n",
    "\n",
    "The code implementing the above steps is shown below, but it has a few\n",
    "errors. Correct them.\n"
   ]
  },
  {
   "cell_type": "code",
   "execution_count": null,
   "metadata": {
    "vscode": {
     "languageId": "r"
    }
   },
   "outputs": [],
   "source": [
    "lfc <- data %>%\n",
    "  mutate(mean_rpl5_te = ((CD34_shRPL5_RPF_1 + CD34_shRPL5_RPF_2) /\n",
    "                            (CD34_shRPL5_RNA_1 + CD34_shRPL5_RNA_2)) %>%\n",
    "  mutate(mean_rps19_te = ((CD34_shRPS19_RPF_1 + CD34_shRPS19_RPF_2) /\n",
    "                            (CD34_shRPS19_RNA_1 + CD34_shRPS19_RNA_2)) %>%\n",
    "  mutate(mean_shluc_te = ((CD34_shLuc_RPF_1 + CD34_shLuc_RPF_2) /\n",
    "                            (CD34_shLuc_RNA_1 + CD34_shLuc_RNA2)) %>%\n",
    "  select(ensembl_gene_id, mean_rpl5_te, mean_rps19_te) %>%\n",
    "  mutate(lfc_te_rpl5 == log2(mean_rpl5_te / mean_shluc_te),\n",
    "         lfc_te_rps19 == log2(mean_rps19_te / mean_shluc_te)) %>%\n",
    "  print()"
   ]
  },
  {
   "cell_type": "markdown",
   "metadata": {},
   "source": [
    "## Problem 8\n",
    "\n",
    "**10 points**\n",
    "\n",
    "Write code that will create a new dataframe called `mean_lfc` from `lfc`\n",
    "containing a new column called `avg_lfc`.\n",
    "`avg_lfc` should be the average of the log2 fold-change in TE (`lfc_te`) upon\n",
    "knockdown of RPL5 and RPS19.\n",
    "\n",
    "Then select only the gene id column and the new column that you just created\n",
    "(this will be your new dataframe `mean_lfc`).\n"
   ]
  },
  {
   "cell_type": "markdown",
   "metadata": {},
   "source": [
    "\n",
    "## Problem 9\n",
    "\n",
    "**10 points**\n",
    "\n",
    "Write code to join the `mean_lfc` dataframe with the `annotations` dataframe created\n",
    "at the top of the document and assign back to `mean_lfc`.\n"
   ]
  },
  {
   "cell_type": "markdown",
   "metadata": {},
   "source": [
    "## Problem 10\n",
    "\n",
    "**10 points**\n",
    "\n",
    "1. Write code to select only the bottom 10 genes with the lowest `avg_lfc` and display the gene `symbol`, gene `name` and `avg_lfc` for these genes.\n",
    "2. Create a figure using `ggplot2` to visualize these results.\n",
    "\n",
    "Write a few sentences to justify the choices you made when creating your figure."
   ]
  }
 ],
 "metadata": {
  "interpreter": {
   "hash": "20b806d4119a16f99164bba4792c78ffcd4bd5c34ada550ca95cde3929bf6a1c"
  },
  "kernelspec": {
   "display_name": "R",
   "language": "R",
   "name": "ir"
  },
  "language_info": {
   "codemirror_mode": "r",
   "file_extension": ".r",
   "mimetype": "text/x-r-source",
   "name": "R",
   "pygments_lexer": "r",
   "version": "4.0.3"
  },
  "orig_nbformat": 4
 },
 "nbformat": 4,
 "nbformat_minor": 2
}
